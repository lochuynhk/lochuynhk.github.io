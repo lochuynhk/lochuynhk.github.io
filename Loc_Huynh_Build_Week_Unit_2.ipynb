{
  "nbformat": 4,
  "nbformat_minor": 0,
  "metadata": {
    "colab": {
      "name": "Loc_Huynh_Build_Week_Unit_2",
      "provenance": [],
      "collapsed_sections": [],
      "authorship_tag": "ABX9TyP95IYfa5D4KnLOIuJpheAT",
      "include_colab_link": true
    },
    "kernelspec": {
      "name": "python3",
      "display_name": "Python 3"
    }
  },
  "cells": [
    {
      "cell_type": "markdown",
      "metadata": {
        "id": "view-in-github",
        "colab_type": "text"
      },
      "source": [
        "<a href=\"https://colab.research.google.com/github/lochuynhk/lochuynhk.github.io/blob/master/Loc_Huynh_Build_Week_Unit_2.ipynb\" target=\"_parent\"><img src=\"https://colab.research.google.com/assets/colab-badge.svg\" alt=\"Open In Colab\"/></a>"
      ]
    },
    {
      "cell_type": "code",
      "metadata": {
        "id": "Q7xvs1iDAFLG",
        "colab_type": "code",
        "colab": {}
      },
      "source": [
        "import pandas as pd"
      ],
      "execution_count": 0,
      "outputs": []
    },
    {
      "cell_type": "code",
      "metadata": {
        "id": "T7AxZrdGAOyH",
        "colab_type": "code",
        "outputId": "8a724b80-ca65-4179-fe21-3e8192338aa1",
        "colab": {
          "resources": {
            "http://localhost:8080/nbextensions/google.colab/files.js": {
              "data": "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",
              "ok": true,
              "headers": [
                [
                  "content-type",
                  "application/javascript"
                ]
              ],
              "status": 200,
              "status_text": ""
            }
          },
          "base_uri": "https://localhost:8080/",
          "height": 71
        }
      },
      "source": [
        "from google.colab import files\n",
        "uploaded = files.upload()"
      ],
      "execution_count": 97,
      "outputs": [
        {
          "output_type": "display_data",
          "data": {
            "text/html": [
              "\n",
              "     <input type=\"file\" id=\"files-400d70aa-00e9-4226-82ad-3c48d3bdd50c\" name=\"files[]\" multiple disabled />\n",
              "     <output id=\"result-400d70aa-00e9-4226-82ad-3c48d3bdd50c\">\n",
              "      Upload widget is only available when the cell has been executed in the\n",
              "      current browser session. Please rerun this cell to enable.\n",
              "      </output>\n",
              "      <script src=\"/nbextensions/google.colab/files.js\"></script> "
            ],
            "text/plain": [
              "<IPython.core.display.HTML object>"
            ]
          },
          "metadata": {
            "tags": []
          }
        },
        {
          "output_type": "stream",
          "text": [
            "Saving insurance.csv to insurance (5).csv\n"
          ],
          "name": "stdout"
        }
      ]
    },
    {
      "cell_type": "code",
      "metadata": {
        "id": "hKjSyW8ZAdT2",
        "colab_type": "code",
        "colab": {}
      },
      "source": [
        "import io\n",
        "df = pd.read_csv(io.BytesIO(uploaded['insurance.csv']))"
      ],
      "execution_count": 0,
      "outputs": []
    },
    {
      "cell_type": "code",
      "metadata": {
        "id": "uESrlQlImBF8",
        "colab_type": "code",
        "outputId": "fbb30bd8-5f1c-4037-aae7-285df40840ed",
        "colab": {
          "base_uri": "https://localhost:8080/",
          "height": 1000
        }
      },
      "source": [
        "    !pip install category_encoders==2.*\n",
        "    !pip install pandas-profiling==2.*\n",
        "    !pip install plotly==4.*\n",
        "    !pip install bubbly\n",
        "    !pip install bubbles\n",
        "    !pip install sqlalchemy"
      ],
      "execution_count": 99,
      "outputs": [
        {
          "output_type": "stream",
          "text": [
            "Requirement already satisfied: category_encoders==2.* in /usr/local/lib/python3.6/dist-packages (2.1.0)\n",
            "Requirement already satisfied: pandas>=0.21.1 in /usr/local/lib/python3.6/dist-packages (from category_encoders==2.*) (0.25.3)\n",
            "Requirement already satisfied: scikit-learn>=0.20.0 in /usr/local/lib/python3.6/dist-packages (from category_encoders==2.*) (0.22.1)\n",
            "Requirement already satisfied: statsmodels>=0.6.1 in /usr/local/lib/python3.6/dist-packages (from category_encoders==2.*) (0.10.2)\n",
            "Requirement already satisfied: scipy>=0.19.0 in /usr/local/lib/python3.6/dist-packages (from category_encoders==2.*) (1.4.1)\n",
            "Requirement already satisfied: patsy>=0.4.1 in /usr/local/lib/python3.6/dist-packages (from category_encoders==2.*) (0.5.1)\n",
            "Requirement already satisfied: numpy>=1.11.3 in /usr/local/lib/python3.6/dist-packages (from category_encoders==2.*) (1.17.5)\n",
            "Requirement already satisfied: python-dateutil>=2.6.1 in /usr/local/lib/python3.6/dist-packages (from pandas>=0.21.1->category_encoders==2.*) (2.6.1)\n",
            "Requirement already satisfied: pytz>=2017.2 in /usr/local/lib/python3.6/dist-packages (from pandas>=0.21.1->category_encoders==2.*) (2018.9)\n",
            "Requirement already satisfied: joblib>=0.11 in /usr/local/lib/python3.6/dist-packages (from scikit-learn>=0.20.0->category_encoders==2.*) (0.14.1)\n",
            "Requirement already satisfied: six in /usr/local/lib/python3.6/dist-packages (from patsy>=0.4.1->category_encoders==2.*) (1.12.0)\n",
            "Requirement already satisfied: pandas-profiling==2.* in /usr/local/lib/python3.6/dist-packages (2.4.0)\n",
            "Requirement already satisfied: pandas>=0.19 in /usr/local/lib/python3.6/dist-packages (from pandas-profiling==2.*) (0.25.3)\n",
            "Requirement already satisfied: astropy in /usr/local/lib/python3.6/dist-packages (from pandas-profiling==2.*) (4.0)\n",
            "Requirement already satisfied: phik>=0.9.8 in /usr/local/lib/python3.6/dist-packages (from pandas-profiling==2.*) (0.9.9)\n",
            "Requirement already satisfied: htmlmin>=0.1.12 in /usr/local/lib/python3.6/dist-packages (from pandas-profiling==2.*) (0.1.12)\n",
            "Requirement already satisfied: jinja2>=2.8 in /usr/local/lib/python3.6/dist-packages (from pandas-profiling==2.*) (2.11.1)\n",
            "Requirement already satisfied: matplotlib>=1.4 in /usr/local/lib/python3.6/dist-packages (from pandas-profiling==2.*) (3.1.2)\n",
            "Requirement already satisfied: missingno>=0.4.2 in /usr/local/lib/python3.6/dist-packages (from pandas-profiling==2.*) (0.4.2)\n",
            "Requirement already satisfied: confuse>=1.0.0 in /usr/local/lib/python3.6/dist-packages (from pandas-profiling==2.*) (1.0.0)\n",
            "Requirement already satisfied: numpy>=1.13.3 in /usr/local/lib/python3.6/dist-packages (from pandas>=0.19->pandas-profiling==2.*) (1.17.5)\n",
            "Requirement already satisfied: pytz>=2017.2 in /usr/local/lib/python3.6/dist-packages (from pandas>=0.19->pandas-profiling==2.*) (2018.9)\n",
            "Requirement already satisfied: python-dateutil>=2.6.1 in /usr/local/lib/python3.6/dist-packages (from pandas>=0.19->pandas-profiling==2.*) (2.6.1)\n",
            "Requirement already satisfied: joblib>=0.14.1 in /usr/local/lib/python3.6/dist-packages (from phik>=0.9.8->pandas-profiling==2.*) (0.14.1)\n",
            "Requirement already satisfied: pytest-pylint>=0.13.0 in /usr/local/lib/python3.6/dist-packages (from phik>=0.9.8->pandas-profiling==2.*) (0.14.1)\n",
            "Requirement already satisfied: pytest>=4.0.2 in /usr/local/lib/python3.6/dist-packages (from phik>=0.9.8->pandas-profiling==2.*) (5.3.5)\n",
            "Requirement already satisfied: numba>=0.38.1 in /usr/local/lib/python3.6/dist-packages (from phik>=0.9.8->pandas-profiling==2.*) (0.47.0)\n",
            "Requirement already satisfied: jupyter-client>=5.2.3 in /usr/local/lib/python3.6/dist-packages (from phik>=0.9.8->pandas-profiling==2.*) (5.3.4)\n",
            "Requirement already satisfied: scipy>=1.1.0 in /usr/local/lib/python3.6/dist-packages (from phik>=0.9.8->pandas-profiling==2.*) (1.4.1)\n",
            "Requirement already satisfied: nbconvert>=5.3.1 in /usr/local/lib/python3.6/dist-packages (from phik>=0.9.8->pandas-profiling==2.*) (5.6.1)\n",
            "Requirement already satisfied: MarkupSafe>=0.23 in /usr/local/lib/python3.6/dist-packages (from jinja2>=2.8->pandas-profiling==2.*) (1.1.1)\n",
            "Requirement already satisfied: pyparsing!=2.0.4,!=2.1.2,!=2.1.6,>=2.0.1 in /usr/local/lib/python3.6/dist-packages (from matplotlib>=1.4->pandas-profiling==2.*) (2.4.6)\n",
            "Requirement already satisfied: cycler>=0.10 in /usr/local/lib/python3.6/dist-packages (from matplotlib>=1.4->pandas-profiling==2.*) (0.10.0)\n",
            "Requirement already satisfied: kiwisolver>=1.0.1 in /usr/local/lib/python3.6/dist-packages (from matplotlib>=1.4->pandas-profiling==2.*) (1.1.0)\n",
            "Requirement already satisfied: seaborn in /usr/local/lib/python3.6/dist-packages (from missingno>=0.4.2->pandas-profiling==2.*) (0.9.1)\n",
            "Requirement already satisfied: pyyaml in /usr/local/lib/python3.6/dist-packages (from confuse>=1.0.0->pandas-profiling==2.*) (3.13)\n",
            "Requirement already satisfied: six>=1.5 in /usr/local/lib/python3.6/dist-packages (from python-dateutil>=2.6.1->pandas>=0.19->pandas-profiling==2.*) (1.12.0)\n",
            "Requirement already satisfied: pylint>=1.4.5 in /usr/local/lib/python3.6/dist-packages (from pytest-pylint>=0.13.0->phik>=0.9.8->pandas-profiling==2.*) (2.4.4)\n",
            "Requirement already satisfied: packaging in /usr/local/lib/python3.6/dist-packages (from pytest>=4.0.2->phik>=0.9.8->pandas-profiling==2.*) (20.1)\n",
            "Requirement already satisfied: wcwidth in /usr/local/lib/python3.6/dist-packages (from pytest>=4.0.2->phik>=0.9.8->pandas-profiling==2.*) (0.1.8)\n",
            "Requirement already satisfied: more-itertools>=4.0.0 in /usr/local/lib/python3.6/dist-packages (from pytest>=4.0.2->phik>=0.9.8->pandas-profiling==2.*) (8.2.0)\n",
            "Requirement already satisfied: pluggy<1.0,>=0.12 in /usr/local/lib/python3.6/dist-packages (from pytest>=4.0.2->phik>=0.9.8->pandas-profiling==2.*) (0.13.1)\n",
            "Requirement already satisfied: importlib-metadata>=0.12; python_version < \"3.8\" in /usr/local/lib/python3.6/dist-packages (from pytest>=4.0.2->phik>=0.9.8->pandas-profiling==2.*) (1.5.0)\n",
            "Requirement already satisfied: py>=1.5.0 in /usr/local/lib/python3.6/dist-packages (from pytest>=4.0.2->phik>=0.9.8->pandas-profiling==2.*) (1.8.1)\n",
            "Requirement already satisfied: attrs>=17.4.0 in /usr/local/lib/python3.6/dist-packages (from pytest>=4.0.2->phik>=0.9.8->pandas-profiling==2.*) (19.3.0)\n",
            "Requirement already satisfied: llvmlite>=0.31.0dev0 in /usr/local/lib/python3.6/dist-packages (from numba>=0.38.1->phik>=0.9.8->pandas-profiling==2.*) (0.31.0)\n",
            "Requirement already satisfied: setuptools in /usr/local/lib/python3.6/dist-packages (from numba>=0.38.1->phik>=0.9.8->pandas-profiling==2.*) (45.1.0)\n",
            "Requirement already satisfied: traitlets in /usr/local/lib/python3.6/dist-packages (from jupyter-client>=5.2.3->phik>=0.9.8->pandas-profiling==2.*) (4.3.3)\n",
            "Requirement already satisfied: pyzmq>=13 in /usr/local/lib/python3.6/dist-packages (from jupyter-client>=5.2.3->phik>=0.9.8->pandas-profiling==2.*) (17.0.0)\n",
            "Requirement already satisfied: jupyter-core>=4.6.0 in /usr/local/lib/python3.6/dist-packages (from jupyter-client>=5.2.3->phik>=0.9.8->pandas-profiling==2.*) (4.6.1)\n",
            "Requirement already satisfied: tornado>=4.1 in /usr/local/lib/python3.6/dist-packages (from jupyter-client>=5.2.3->phik>=0.9.8->pandas-profiling==2.*) (4.5.3)\n",
            "Requirement already satisfied: testpath in /usr/local/lib/python3.6/dist-packages (from nbconvert>=5.3.1->phik>=0.9.8->pandas-profiling==2.*) (0.4.4)\n",
            "Requirement already satisfied: pygments in /usr/local/lib/python3.6/dist-packages (from nbconvert>=5.3.1->phik>=0.9.8->pandas-profiling==2.*) (2.1.3)\n",
            "Requirement already satisfied: entrypoints>=0.2.2 in /usr/local/lib/python3.6/dist-packages (from nbconvert>=5.3.1->phik>=0.9.8->pandas-profiling==2.*) (0.3)\n",
            "Requirement already satisfied: defusedxml in /usr/local/lib/python3.6/dist-packages (from nbconvert>=5.3.1->phik>=0.9.8->pandas-profiling==2.*) (0.6.0)\n",
            "Requirement already satisfied: pandocfilters>=1.4.1 in /usr/local/lib/python3.6/dist-packages (from nbconvert>=5.3.1->phik>=0.9.8->pandas-profiling==2.*) (1.4.2)\n",
            "Requirement already satisfied: nbformat>=4.4 in /usr/local/lib/python3.6/dist-packages (from nbconvert>=5.3.1->phik>=0.9.8->pandas-profiling==2.*) (5.0.4)\n",
            "Requirement already satisfied: mistune<2,>=0.8.1 in /usr/local/lib/python3.6/dist-packages (from nbconvert>=5.3.1->phik>=0.9.8->pandas-profiling==2.*) (0.8.4)\n",
            "Requirement already satisfied: bleach in /usr/local/lib/python3.6/dist-packages (from nbconvert>=5.3.1->phik>=0.9.8->pandas-profiling==2.*) (3.1.0)\n",
            "Requirement already satisfied: isort<5,>=4.2.5 in /usr/local/lib/python3.6/dist-packages (from pylint>=1.4.5->pytest-pylint>=0.13.0->phik>=0.9.8->pandas-profiling==2.*) (4.3.21)\n",
            "Requirement already satisfied: mccabe<0.7,>=0.6 in /usr/local/lib/python3.6/dist-packages (from pylint>=1.4.5->pytest-pylint>=0.13.0->phik>=0.9.8->pandas-profiling==2.*) (0.6.1)\n",
            "Requirement already satisfied: astroid<2.4,>=2.3.0 in /usr/local/lib/python3.6/dist-packages (from pylint>=1.4.5->pytest-pylint>=0.13.0->phik>=0.9.8->pandas-profiling==2.*) (2.3.3)\n",
            "Requirement already satisfied: zipp>=0.5 in /usr/local/lib/python3.6/dist-packages (from importlib-metadata>=0.12; python_version < \"3.8\"->pytest>=4.0.2->phik>=0.9.8->pandas-profiling==2.*) (2.1.0)\n",
            "Requirement already satisfied: ipython-genutils in /usr/local/lib/python3.6/dist-packages (from traitlets->jupyter-client>=5.2.3->phik>=0.9.8->pandas-profiling==2.*) (0.2.0)\n",
            "Requirement already satisfied: decorator in /usr/local/lib/python3.6/dist-packages (from traitlets->jupyter-client>=5.2.3->phik>=0.9.8->pandas-profiling==2.*) (4.4.1)\n",
            "Requirement already satisfied: jsonschema!=2.5.0,>=2.4 in /usr/local/lib/python3.6/dist-packages (from nbformat>=4.4->nbconvert>=5.3.1->phik>=0.9.8->pandas-profiling==2.*) (2.6.0)\n",
            "Requirement already satisfied: webencodings in /usr/local/lib/python3.6/dist-packages (from bleach->nbconvert>=5.3.1->phik>=0.9.8->pandas-profiling==2.*) (0.5.1)\n",
            "Requirement already satisfied: typed-ast<1.5,>=1.4.0; implementation_name == \"cpython\" and python_version < \"3.8\" in /usr/local/lib/python3.6/dist-packages (from astroid<2.4,>=2.3.0->pylint>=1.4.5->pytest-pylint>=0.13.0->phik>=0.9.8->pandas-profiling==2.*) (1.4.1)\n",
            "Requirement already satisfied: wrapt==1.11.* in /usr/local/lib/python3.6/dist-packages (from astroid<2.4,>=2.3.0->pylint>=1.4.5->pytest-pylint>=0.13.0->phik>=0.9.8->pandas-profiling==2.*) (1.11.2)\n",
            "Requirement already satisfied: lazy-object-proxy==1.4.* in /usr/local/lib/python3.6/dist-packages (from astroid<2.4,>=2.3.0->pylint>=1.4.5->pytest-pylint>=0.13.0->phik>=0.9.8->pandas-profiling==2.*) (1.4.3)\n",
            "Requirement already satisfied: plotly==4.* in /usr/local/lib/python3.6/dist-packages (4.4.1)\n",
            "Requirement already satisfied: six in /usr/local/lib/python3.6/dist-packages (from plotly==4.*) (1.12.0)\n",
            "Requirement already satisfied: retrying>=1.3.3 in /usr/local/lib/python3.6/dist-packages (from plotly==4.*) (1.3.3)\n",
            "Requirement already satisfied: bubbly in /usr/local/lib/python3.6/dist-packages (1.0.2)\n",
            "Requirement already satisfied: plotly in /usr/local/lib/python3.6/dist-packages (from bubbly) (4.4.1)\n",
            "Requirement already satisfied: pandas in /usr/local/lib/python3.6/dist-packages (from bubbly) (0.25.3)\n",
            "Requirement already satisfied: retrying>=1.3.3 in /usr/local/lib/python3.6/dist-packages (from plotly->bubbly) (1.3.3)\n",
            "Requirement already satisfied: six in /usr/local/lib/python3.6/dist-packages (from plotly->bubbly) (1.12.0)\n",
            "Requirement already satisfied: python-dateutil>=2.6.1 in /usr/local/lib/python3.6/dist-packages (from pandas->bubbly) (2.6.1)\n",
            "Requirement already satisfied: pytz>=2017.2 in /usr/local/lib/python3.6/dist-packages (from pandas->bubbly) (2018.9)\n",
            "Requirement already satisfied: numpy>=1.13.3 in /usr/local/lib/python3.6/dist-packages (from pandas->bubbly) (1.17.5)\n",
            "Requirement already satisfied: bubbles in /usr/local/lib/python3.6/dist-packages (0.1)\n",
            "Requirement already satisfied: sqlalchemy in /usr/local/lib/python3.6/dist-packages (1.3.13)\n"
          ],
          "name": "stdout"
        }
      ]
    },
    {
      "cell_type": "code",
      "metadata": {
        "id": "2juqfmQFAuTk",
        "colab_type": "code",
        "outputId": "6e481562-1480-4063-eee0-cfc5e3fcb823",
        "colab": {
          "base_uri": "https://localhost:8080/",
          "height": 436
        }
      },
      "source": [
        "print(df.shape)\n",
        "df"
      ],
      "execution_count": 100,
      "outputs": [
        {
          "output_type": "stream",
          "text": [
            "(1338, 7)\n"
          ],
          "name": "stdout"
        },
        {
          "output_type": "execute_result",
          "data": {
            "text/html": [
              "<div>\n",
              "<style scoped>\n",
              "    .dataframe tbody tr th:only-of-type {\n",
              "        vertical-align: middle;\n",
              "    }\n",
              "\n",
              "    .dataframe tbody tr th {\n",
              "        vertical-align: top;\n",
              "    }\n",
              "\n",
              "    .dataframe thead th {\n",
              "        text-align: right;\n",
              "    }\n",
              "</style>\n",
              "<table border=\"1\" class=\"dataframe\">\n",
              "  <thead>\n",
              "    <tr style=\"text-align: right;\">\n",
              "      <th></th>\n",
              "      <th>age</th>\n",
              "      <th>sex</th>\n",
              "      <th>bmi</th>\n",
              "      <th>children</th>\n",
              "      <th>smoker</th>\n",
              "      <th>region</th>\n",
              "      <th>charges</th>\n",
              "    </tr>\n",
              "  </thead>\n",
              "  <tbody>\n",
              "    <tr>\n",
              "      <th>0</th>\n",
              "      <td>19</td>\n",
              "      <td>female</td>\n",
              "      <td>27.900</td>\n",
              "      <td>0</td>\n",
              "      <td>yes</td>\n",
              "      <td>southwest</td>\n",
              "      <td>16884.92400</td>\n",
              "    </tr>\n",
              "    <tr>\n",
              "      <th>1</th>\n",
              "      <td>18</td>\n",
              "      <td>male</td>\n",
              "      <td>33.770</td>\n",
              "      <td>1</td>\n",
              "      <td>no</td>\n",
              "      <td>southeast</td>\n",
              "      <td>1725.55230</td>\n",
              "    </tr>\n",
              "    <tr>\n",
              "      <th>2</th>\n",
              "      <td>28</td>\n",
              "      <td>male</td>\n",
              "      <td>33.000</td>\n",
              "      <td>3</td>\n",
              "      <td>no</td>\n",
              "      <td>southeast</td>\n",
              "      <td>4449.46200</td>\n",
              "    </tr>\n",
              "    <tr>\n",
              "      <th>3</th>\n",
              "      <td>33</td>\n",
              "      <td>male</td>\n",
              "      <td>22.705</td>\n",
              "      <td>0</td>\n",
              "      <td>no</td>\n",
              "      <td>northwest</td>\n",
              "      <td>21984.47061</td>\n",
              "    </tr>\n",
              "    <tr>\n",
              "      <th>4</th>\n",
              "      <td>32</td>\n",
              "      <td>male</td>\n",
              "      <td>28.880</td>\n",
              "      <td>0</td>\n",
              "      <td>no</td>\n",
              "      <td>northwest</td>\n",
              "      <td>3866.85520</td>\n",
              "    </tr>\n",
              "    <tr>\n",
              "      <th>...</th>\n",
              "      <td>...</td>\n",
              "      <td>...</td>\n",
              "      <td>...</td>\n",
              "      <td>...</td>\n",
              "      <td>...</td>\n",
              "      <td>...</td>\n",
              "      <td>...</td>\n",
              "    </tr>\n",
              "    <tr>\n",
              "      <th>1333</th>\n",
              "      <td>50</td>\n",
              "      <td>male</td>\n",
              "      <td>30.970</td>\n",
              "      <td>3</td>\n",
              "      <td>no</td>\n",
              "      <td>northwest</td>\n",
              "      <td>10600.54830</td>\n",
              "    </tr>\n",
              "    <tr>\n",
              "      <th>1334</th>\n",
              "      <td>18</td>\n",
              "      <td>female</td>\n",
              "      <td>31.920</td>\n",
              "      <td>0</td>\n",
              "      <td>no</td>\n",
              "      <td>northeast</td>\n",
              "      <td>2205.98080</td>\n",
              "    </tr>\n",
              "    <tr>\n",
              "      <th>1335</th>\n",
              "      <td>18</td>\n",
              "      <td>female</td>\n",
              "      <td>36.850</td>\n",
              "      <td>0</td>\n",
              "      <td>no</td>\n",
              "      <td>southeast</td>\n",
              "      <td>1629.83350</td>\n",
              "    </tr>\n",
              "    <tr>\n",
              "      <th>1336</th>\n",
              "      <td>21</td>\n",
              "      <td>female</td>\n",
              "      <td>25.800</td>\n",
              "      <td>0</td>\n",
              "      <td>no</td>\n",
              "      <td>southwest</td>\n",
              "      <td>2007.94500</td>\n",
              "    </tr>\n",
              "    <tr>\n",
              "      <th>1337</th>\n",
              "      <td>61</td>\n",
              "      <td>female</td>\n",
              "      <td>29.070</td>\n",
              "      <td>0</td>\n",
              "      <td>yes</td>\n",
              "      <td>northwest</td>\n",
              "      <td>29141.36030</td>\n",
              "    </tr>\n",
              "  </tbody>\n",
              "</table>\n",
              "<p>1338 rows × 7 columns</p>\n",
              "</div>"
            ],
            "text/plain": [
              "      age     sex     bmi  children smoker     region      charges\n",
              "0      19  female  27.900         0    yes  southwest  16884.92400\n",
              "1      18    male  33.770         1     no  southeast   1725.55230\n",
              "2      28    male  33.000         3     no  southeast   4449.46200\n",
              "3      33    male  22.705         0     no  northwest  21984.47061\n",
              "4      32    male  28.880         0     no  northwest   3866.85520\n",
              "...   ...     ...     ...       ...    ...        ...          ...\n",
              "1333   50    male  30.970         3     no  northwest  10600.54830\n",
              "1334   18  female  31.920         0     no  northeast   2205.98080\n",
              "1335   18  female  36.850         0     no  southeast   1629.83350\n",
              "1336   21  female  25.800         0     no  southwest   2007.94500\n",
              "1337   61  female  29.070         0    yes  northwest  29141.36030\n",
              "\n",
              "[1338 rows x 7 columns]"
            ]
          },
          "metadata": {
            "tags": []
          },
          "execution_count": 100
        }
      ]
    },
    {
      "cell_type": "code",
      "metadata": {
        "id": "SwCSpWdEbTIT",
        "colab_type": "code",
        "outputId": "b52320b5-8576-4cf9-b2ec-366aba745bf3",
        "colab": {
          "base_uri": "https://localhost:8080/",
          "height": 204
        }
      },
      "source": [
        "smoker = {'yes': 1, 'no': 0}\n",
        "\n",
        "df.smoker = [smoker[item] for item in df.smoker]\n",
        "\n",
        "df.head()"
      ],
      "execution_count": 101,
      "outputs": [
        {
          "output_type": "execute_result",
          "data": {
            "text/html": [
              "<div>\n",
              "<style scoped>\n",
              "    .dataframe tbody tr th:only-of-type {\n",
              "        vertical-align: middle;\n",
              "    }\n",
              "\n",
              "    .dataframe tbody tr th {\n",
              "        vertical-align: top;\n",
              "    }\n",
              "\n",
              "    .dataframe thead th {\n",
              "        text-align: right;\n",
              "    }\n",
              "</style>\n",
              "<table border=\"1\" class=\"dataframe\">\n",
              "  <thead>\n",
              "    <tr style=\"text-align: right;\">\n",
              "      <th></th>\n",
              "      <th>age</th>\n",
              "      <th>sex</th>\n",
              "      <th>bmi</th>\n",
              "      <th>children</th>\n",
              "      <th>smoker</th>\n",
              "      <th>region</th>\n",
              "      <th>charges</th>\n",
              "    </tr>\n",
              "  </thead>\n",
              "  <tbody>\n",
              "    <tr>\n",
              "      <th>0</th>\n",
              "      <td>19</td>\n",
              "      <td>female</td>\n",
              "      <td>27.900</td>\n",
              "      <td>0</td>\n",
              "      <td>1</td>\n",
              "      <td>southwest</td>\n",
              "      <td>16884.92400</td>\n",
              "    </tr>\n",
              "    <tr>\n",
              "      <th>1</th>\n",
              "      <td>18</td>\n",
              "      <td>male</td>\n",
              "      <td>33.770</td>\n",
              "      <td>1</td>\n",
              "      <td>0</td>\n",
              "      <td>southeast</td>\n",
              "      <td>1725.55230</td>\n",
              "    </tr>\n",
              "    <tr>\n",
              "      <th>2</th>\n",
              "      <td>28</td>\n",
              "      <td>male</td>\n",
              "      <td>33.000</td>\n",
              "      <td>3</td>\n",
              "      <td>0</td>\n",
              "      <td>southeast</td>\n",
              "      <td>4449.46200</td>\n",
              "    </tr>\n",
              "    <tr>\n",
              "      <th>3</th>\n",
              "      <td>33</td>\n",
              "      <td>male</td>\n",
              "      <td>22.705</td>\n",
              "      <td>0</td>\n",
              "      <td>0</td>\n",
              "      <td>northwest</td>\n",
              "      <td>21984.47061</td>\n",
              "    </tr>\n",
              "    <tr>\n",
              "      <th>4</th>\n",
              "      <td>32</td>\n",
              "      <td>male</td>\n",
              "      <td>28.880</td>\n",
              "      <td>0</td>\n",
              "      <td>0</td>\n",
              "      <td>northwest</td>\n",
              "      <td>3866.85520</td>\n",
              "    </tr>\n",
              "  </tbody>\n",
              "</table>\n",
              "</div>"
            ],
            "text/plain": [
              "   age     sex     bmi  children  smoker     region      charges\n",
              "0   19  female  27.900         0       1  southwest  16884.92400\n",
              "1   18    male  33.770         1       0  southeast   1725.55230\n",
              "2   28    male  33.000         3       0  southeast   4449.46200\n",
              "3   33    male  22.705         0       0  northwest  21984.47061\n",
              "4   32    male  28.880         0       0  northwest   3866.85520"
            ]
          },
          "metadata": {
            "tags": []
          },
          "execution_count": 101
        }
      ]
    },
    {
      "cell_type": "code",
      "metadata": {
        "id": "_jvn0MpjbYnu",
        "colab_type": "code",
        "colab": {}
      },
      "source": [
        "sex = {'male': 1, 'female': 0}\n",
        "region = {'northeast': 0, 'southeast': 1, 'southwest': 2, 'northwest': 3}\n",
        "\n",
        "df.sex = [sex[item] for item in df.sex]\n",
        "df.region = [region[item] for item in df.region]"
      ],
      "execution_count": 0,
      "outputs": []
    },
    {
      "cell_type": "code",
      "metadata": {
        "id": "VefbBEnCGpOr",
        "colab_type": "code",
        "outputId": "cb80898c-c46b-4f9b-832a-0c73f98b5c72",
        "colab": {
          "base_uri": "https://localhost:8080/",
          "height": 68
        }
      },
      "source": [
        "from sklearn.metrics import mean_absolute_error\n",
        "from sklearn.metrics import mean_absolute_error, r2_score\n",
        "\n",
        "target = 'charges'\n",
        "y = df[target]\n",
        "ypred = [y.mean()] * len(y)\n",
        "print('Mean Baseline:')\n",
        "print('Mean Absolute Error', mean_absolute_error(y, ypred))\n",
        "print('R^2 score', r2_score(y, ypred))"
      ],
      "execution_count": 103,
      "outputs": [
        {
          "output_type": "stream",
          "text": [
            "Mean Baseline:\n",
            "Mean Absolute Error 9091.12658113703\n",
            "R^2 score 0.0\n"
          ],
          "name": "stdout"
        }
      ]
    },
    {
      "cell_type": "code",
      "metadata": {
        "id": "gADrV4jHixL3",
        "colab_type": "code",
        "colab": {}
      },
      "source": [
        "from sklearn.model_selection import train_test_split"
      ],
      "execution_count": 0,
      "outputs": []
    },
    {
      "cell_type": "code",
      "metadata": {
        "id": "Xf5RPU0KH_o4",
        "colab_type": "code",
        "colab": {}
      },
      "source": [
        "guess = df['charges'].mean()"
      ],
      "execution_count": 0,
      "outputs": []
    },
    {
      "cell_type": "code",
      "metadata": {
        "id": "jrIWw-TPIHXN",
        "colab_type": "code",
        "colab": {}
      },
      "source": [
        "errors = guess - df['charges']"
      ],
      "execution_count": 0,
      "outputs": []
    },
    {
      "cell_type": "code",
      "metadata": {
        "id": "miISuOw4bHXO",
        "colab_type": "code",
        "outputId": "eb6e576f-e5aa-4af7-c251-5f69003f2f19",
        "colab": {
          "base_uri": "https://localhost:8080/",
          "height": 34
        }
      },
      "source": [
        "mean_absolute_error"
      ],
      "execution_count": 107,
      "outputs": [
        {
          "output_type": "execute_result",
          "data": {
            "text/plain": [
              "<function sklearn.metrics._regression.mean_absolute_error>"
            ]
          },
          "metadata": {
            "tags": []
          },
          "execution_count": 107
        }
      ]
    },
    {
      "cell_type": "code",
      "metadata": {
        "id": "5Iq-IO7OAwb8",
        "colab_type": "code",
        "colab": {}
      },
      "source": [
        "from sklearn.linear_model import LinearRegression"
      ],
      "execution_count": 0,
      "outputs": []
    },
    {
      "cell_type": "code",
      "metadata": {
        "id": "XvLdSI-JPtHf",
        "colab_type": "code",
        "colab": {}
      },
      "source": [
        "model = LinearRegression()"
      ],
      "execution_count": 0,
      "outputs": []
    },
    {
      "cell_type": "code",
      "metadata": {
        "id": "D4lqZAEEQAa4",
        "colab_type": "code",
        "outputId": "7222990e-ede2-48f6-95a7-703452735977",
        "colab": {
          "base_uri": "https://localhost:8080/",
          "height": 34
        }
      },
      "source": [
        "type(df[['age']])"
      ],
      "execution_count": 110,
      "outputs": [
        {
          "output_type": "execute_result",
          "data": {
            "text/plain": [
              "pandas.core.frame.DataFrame"
            ]
          },
          "metadata": {
            "tags": []
          },
          "execution_count": 110
        }
      ]
    },
    {
      "cell_type": "code",
      "metadata": {
        "id": "UTjuJodxRa_m",
        "colab_type": "code",
        "outputId": "6a6938b5-6c25-4959-cf23-4859c727d0ed",
        "colab": {
          "base_uri": "https://localhost:8080/",
          "height": 34
        }
      },
      "source": [
        "type(df['charges'])"
      ],
      "execution_count": 111,
      "outputs": [
        {
          "output_type": "execute_result",
          "data": {
            "text/plain": [
              "pandas.core.series.Series"
            ]
          },
          "metadata": {
            "tags": []
          },
          "execution_count": 111
        }
      ]
    },
    {
      "cell_type": "code",
      "metadata": {
        "id": "htezVlZzRqgx",
        "colab_type": "code",
        "outputId": "50b32ff7-9734-400e-a25d-f911196fb35b",
        "colab": {
          "base_uri": "https://localhost:8080/",
          "height": 34
        }
      },
      "source": [
        "df['charges'].shape"
      ],
      "execution_count": 112,
      "outputs": [
        {
          "output_type": "execute_result",
          "data": {
            "text/plain": [
              "(1338,)"
            ]
          },
          "metadata": {
            "tags": []
          },
          "execution_count": 112
        }
      ]
    },
    {
      "cell_type": "code",
      "metadata": {
        "id": "5xkPA-DiRu7Y",
        "colab_type": "code",
        "colab": {}
      },
      "source": [
        "features = ['age']\n",
        "target = 'charges'\n",
        "X_train = df[features]\n",
        "y_train = df[target]"
      ],
      "execution_count": 0,
      "outputs": []
    },
    {
      "cell_type": "code",
      "metadata": {
        "id": "fLMaRrKQVtvH",
        "colab_type": "code",
        "outputId": "101aec30-d412-4f03-ac7f-cd01a36f1efe",
        "colab": {
          "base_uri": "https://localhost:8080/",
          "height": 34
        }
      },
      "source": [
        "model.fit(X_train, y_train)"
      ],
      "execution_count": 114,
      "outputs": [
        {
          "output_type": "execute_result",
          "data": {
            "text/plain": [
              "LinearRegression(copy_X=True, fit_intercept=True, n_jobs=None, normalize=False)"
            ]
          },
          "metadata": {
            "tags": []
          },
          "execution_count": 114
        }
      ]
    },
    {
      "cell_type": "code",
      "metadata": {
        "colab_type": "code",
        "outputId": "ff6e4818-1137-4335-da56-6d663bd44575",
        "id": "HcajNkLOCVbN",
        "colab": {
          "base_uri": "https://localhost:8080/",
          "height": 34
        }
      },
      "source": [
        "age = 36\n",
        "X_test = [[age]]\n",
        "y_pred = model.predict(X_test)\n",
        "y_pred"
      ],
      "execution_count": 115,
      "outputs": [
        {
          "output_type": "execute_result",
          "data": {
            "text/plain": [
              "array([12443.89927807])"
            ]
          },
          "metadata": {
            "tags": []
          },
          "execution_count": 115
        }
      ]
    },
    {
      "cell_type": "code",
      "metadata": {
        "id": "veBfJuQhWA2f",
        "colab_type": "code",
        "colab": {}
      },
      "source": [
        "import numpy as np\n",
        "from sklearn.model_selection import train_test_split"
      ],
      "execution_count": 0,
      "outputs": []
    },
    {
      "cell_type": "code",
      "metadata": {
        "id": "Amr5seeHnLjL",
        "colab_type": "code",
        "outputId": "dc73d29e-b57c-45ce-d31e-fe3eb231e9be",
        "colab": {
          "base_uri": "https://localhost:8080/",
          "height": 34
        }
      },
      "source": [
        "train, test = train_test_split(df, train_size =0.80, test_size=0.20, random_state=42)\n",
        "\n",
        "\n",
        "target = 'charges'\n",
        "train_features = train.drop(columns=[target])\n",
        "\n",
        "features = train_features.select_dtypes(include='number').columns.tolist()\n",
        "print('features', features)\n",
        "\n",
        "#cardinality = train_features.select_dtypes(exclude='number').nunique()\n",
        "#categorical_features = cardinality[cardinality <= 50].index.tolist()\n",
        "#features = numeric_features + categorical_features\n",
        "\n",
        "\n"
      ],
      "execution_count": 117,
      "outputs": [
        {
          "output_type": "stream",
          "text": [
            "features ['age', 'sex', 'bmi', 'children', 'smoker', 'region']\n"
          ],
          "name": "stdout"
        }
      ]
    },
    {
      "cell_type": "code",
      "metadata": {
        "id": "Cd74UbIydutp",
        "colab_type": "code",
        "outputId": "2ae9983a-1701-4e91-ca1d-44e455134611",
        "colab": {
          "base_uri": "https://localhost:8080/",
          "height": 34
        }
      },
      "source": [
        "features"
      ],
      "execution_count": 118,
      "outputs": [
        {
          "output_type": "execute_result",
          "data": {
            "text/plain": [
              "['age', 'sex', 'bmi', 'children', 'smoker', 'region']"
            ]
          },
          "metadata": {
            "tags": []
          },
          "execution_count": 118
        }
      ]
    },
    {
      "cell_type": "code",
      "metadata": {
        "id": "mopyMy2Td05b",
        "colab_type": "code",
        "colab": {}
      },
      "source": [
        "X_train = train[features]\n",
        "y_train = train[target]\n",
        "\n",
        "X_test = test[features]"
      ],
      "execution_count": 0,
      "outputs": []
    },
    {
      "cell_type": "code",
      "metadata": {
        "id": "qgGGW9cqn60f",
        "colab_type": "code",
        "colab": {}
      },
      "source": [
        "target = ['charges']\n",
        "ytrain = train[target]\n",
        "ytest = test[target]"
      ],
      "execution_count": 0,
      "outputs": []
    },
    {
      "cell_type": "code",
      "metadata": {
        "id": "4lAaNXexpApc",
        "colab_type": "code",
        "outputId": "bc7701d7-fa57-4d8c-a8d6-9f73585ef358",
        "colab": {
          "base_uri": "https://localhost:8080/",
          "height": 34
        }
      },
      "source": [
        "features = ['age', 'bmi', 'children', 'smoker', 'sex']\n",
        "print(f'Linear Regression, dependent on: {features}')\n",
        "\n",
        "Xtrain = train[features]\n",
        "Xtest = test[features]"
      ],
      "execution_count": 121,
      "outputs": [
        {
          "output_type": "stream",
          "text": [
            "Linear Regression, dependent on: ['age', 'bmi', 'children', 'smoker', 'sex']\n"
          ],
          "name": "stdout"
        }
      ]
    },
    {
      "cell_type": "code",
      "metadata": {
        "id": "p2eXAPDtpfWP",
        "colab_type": "code",
        "outputId": "b9d5eb22-4b3b-4868-a466-adb655b85cc9",
        "colab": {
          "base_uri": "https://localhost:8080/",
          "height": 34
        }
      },
      "source": [
        "model = LinearRegression()\n",
        "model.fit(Xtrain, ytrain)"
      ],
      "execution_count": 122,
      "outputs": [
        {
          "output_type": "execute_result",
          "data": {
            "text/plain": [
              "LinearRegression(copy_X=True, fit_intercept=True, n_jobs=None, normalize=False)"
            ]
          },
          "metadata": {
            "tags": []
          },
          "execution_count": 122
        }
      ]
    },
    {
      "cell_type": "code",
      "metadata": {
        "id": "Cu9XplnVpoQ3",
        "colab_type": "code",
        "outputId": "7c040cdf-a0c9-4b7b-b8dd-6b6f437bb885",
        "colab": {
          "base_uri": "https://localhost:8080/",
          "height": 34
        }
      },
      "source": [
        "from sklearn.metrics import mean_absolute_error\n",
        "\n",
        "ypred = model.predict(Xtrain)\n",
        "mae = mean_absolute_error(ytrain, ypred)\n",
        "print(f'Train Error: {mae:.2f}')"
      ],
      "execution_count": 123,
      "outputs": [
        {
          "output_type": "stream",
          "text": [
            "Train Error: 4210.69\n"
          ],
          "name": "stdout"
        }
      ]
    },
    {
      "cell_type": "code",
      "metadata": {
        "id": "xXG5G9nhqBpY",
        "colab_type": "code",
        "outputId": "e4ed8688-1894-4e8e-cfe9-11518fe61e23",
        "colab": {
          "base_uri": "https://localhost:8080/",
          "height": 136
        }
      },
      "source": [
        "ypred"
      ],
      "execution_count": 124,
      "outputs": [
        {
          "output_type": "execute_result",
          "data": {
            "text/plain": [
              "array([[ 7100.52346994],\n",
              "       [ 7934.40502535],\n",
              "       [ 9396.61793405],\n",
              "       ...,\n",
              "       [11034.25297612],\n",
              "       [37497.10777345],\n",
              "       [11810.64194074]])"
            ]
          },
          "metadata": {
            "tags": []
          },
          "execution_count": 124
        }
      ]
    },
    {
      "cell_type": "code",
      "metadata": {
        "id": "PODeKV2Qku0u",
        "colab_type": "code",
        "outputId": "5a5923c6-07e7-4a9e-daba-46ff03e3d55e",
        "colab": {
          "base_uri": "https://localhost:8080/",
          "height": 34
        }
      },
      "source": [
        "train, val = train_test_split(train, random_state=42)\n",
        "train.shape, val.shape"
      ],
      "execution_count": 125,
      "outputs": [
        {
          "output_type": "execute_result",
          "data": {
            "text/plain": [
              "((802, 7), (268, 7))"
            ]
          },
          "metadata": {
            "tags": []
          },
          "execution_count": 125
        }
      ]
    },
    {
      "cell_type": "code",
      "metadata": {
        "id": "2Edfrge20TrF",
        "colab_type": "code",
        "outputId": "712b7842-84d6-4c76-a095-03d9c06e2e26",
        "colab": {
          "base_uri": "https://localhost:8080/",
          "height": 221
        }
      },
      "source": [
        "target = 'charges'\n",
        "y_train = train[target]\n",
        "y_train.value_counts(normalize=True)"
      ],
      "execution_count": 126,
      "outputs": [
        {
          "output_type": "execute_result",
          "data": {
            "text/plain": [
              "8825.08600     0.001247\n",
              "8302.53565     0.001247\n",
              "1720.35370     0.001247\n",
              "26018.95052    0.001247\n",
              "18838.70366    0.001247\n",
              "                 ...   \n",
              "12269.68865    0.001247\n",
              "21472.47880    0.001247\n",
              "13462.52000    0.001247\n",
              "10579.71100    0.001247\n",
              "9140.95100     0.001247\n",
              "Name: charges, Length: 802, dtype: float64"
            ]
          },
          "metadata": {
            "tags": []
          },
          "execution_count": 126
        }
      ]
    },
    {
      "cell_type": "code",
      "metadata": {
        "id": "nMQeWFT1jdBB",
        "colab_type": "code",
        "outputId": "00ec0117-0809-4a4e-84ae-381a916fba74",
        "colab": {
          "base_uri": "https://localhost:8080/",
          "height": 34
        }
      },
      "source": [
        "features = ['age', 'bmi', 'children', 'sex', 'smoker', 'region']\n",
        "target = 'charges'\n",
        "\n",
        "X_train = train[features]\n",
        "y_train = train[target]\n",
        "X_test = test[features]\n",
        "X_val = val[features]\n",
        "y_val = val[target]\n",
        "y_test = test[target]\n",
        "\n",
        "X_train.shape, y_train.shape, X_val.shape, y_val.shape, X_test.shape, y_test.shape"
      ],
      "execution_count": 127,
      "outputs": [
        {
          "output_type": "execute_result",
          "data": {
            "text/plain": [
              "((802, 6), (802,), (268, 6), (268,), (268, 6), (268,))"
            ]
          },
          "metadata": {
            "tags": []
          },
          "execution_count": 127
        }
      ]
    },
    {
      "cell_type": "code",
      "metadata": {
        "id": "y1HvQVMJCnok",
        "colab_type": "code",
        "outputId": "096e99cb-2430-471a-fccd-4f31817de3bc",
        "colab": {
          "base_uri": "https://localhost:8080/",
          "height": 279
        }
      },
      "source": [
        "%matplotlib inline\n",
        "import seaborn as sns\n",
        "sns.distplot(y_train);"
      ],
      "execution_count": 128,
      "outputs": [
        {
          "output_type": "display_data",
          "data": {
            "image/png": "[encoded data removed]",
            "text/plain": [
              "<Figure size 432x288 with 1 Axes>"
            ]
          },
          "metadata": {
            "tags": []
          }
        }
      ]
    },
    {
      "cell_type": "code",
      "metadata": {
        "id": "4-33C95pk2fS",
        "colab_type": "code",
        "colab": {}
      },
      "source": [
        "import category_encoders as ce\n",
        "from sklearn.impute import SimpleImputer\n",
        "from sklearn.linear_model import LogisticRegressionCV\n",
        "from sklearn.preprocessing import StandardScaler\n",
        "import warnings"
      ],
      "execution_count": 0,
      "outputs": []
    },
    {
      "cell_type": "code",
      "metadata": {
        "id": "L_Q9ja46k70F",
        "colab_type": "code",
        "colab": {}
      },
      "source": [
        "encoder = ce.OneHotEncoder(use_cat_names=True)\n",
        "X_train_encoded = encoder.fit_transform(X_train)\n",
        "X_val_encoded = encoder.transform(X_val)"
      ],
      "execution_count": 0,
      "outputs": []
    },
    {
      "cell_type": "code",
      "metadata": {
        "id": "ToZ2-ivYma-g",
        "colab_type": "code",
        "outputId": "bbc3c5b5-783b-4ed6-dc1e-a723a1fd0fc1",
        "colab": {
          "base_uri": "https://localhost:8080/",
          "height": 204
        }
      },
      "source": [
        "X_train.head()"
      ],
      "execution_count": 131,
      "outputs": [
        {
          "output_type": "execute_result",
          "data": {
            "text/html": [
              "<div>\n",
              "<style scoped>\n",
              "    .dataframe tbody tr th:only-of-type {\n",
              "        vertical-align: middle;\n",
              "    }\n",
              "\n",
              "    .dataframe tbody tr th {\n",
              "        vertical-align: top;\n",
              "    }\n",
              "\n",
              "    .dataframe thead th {\n",
              "        text-align: right;\n",
              "    }\n",
              "</style>\n",
              "<table border=\"1\" class=\"dataframe\">\n",
              "  <thead>\n",
              "    <tr style=\"text-align: right;\">\n",
              "      <th></th>\n",
              "      <th>age</th>\n",
              "      <th>bmi</th>\n",
              "      <th>children</th>\n",
              "      <th>sex</th>\n",
              "      <th>smoker</th>\n",
              "      <th>region</th>\n",
              "    </tr>\n",
              "  </thead>\n",
              "  <tbody>\n",
              "    <tr>\n",
              "      <th>40</th>\n",
              "      <td>24</td>\n",
              "      <td>26.600</td>\n",
              "      <td>0</td>\n",
              "      <td>0</td>\n",
              "      <td>0</td>\n",
              "      <td>0</td>\n",
              "    </tr>\n",
              "    <tr>\n",
              "      <th>994</th>\n",
              "      <td>27</td>\n",
              "      <td>20.045</td>\n",
              "      <td>3</td>\n",
              "      <td>0</td>\n",
              "      <td>1</td>\n",
              "      <td>3</td>\n",
              "    </tr>\n",
              "    <tr>\n",
              "      <th>165</th>\n",
              "      <td>47</td>\n",
              "      <td>28.215</td>\n",
              "      <td>4</td>\n",
              "      <td>1</td>\n",
              "      <td>0</td>\n",
              "      <td>0</td>\n",
              "    </tr>\n",
              "    <tr>\n",
              "      <th>1057</th>\n",
              "      <td>45</td>\n",
              "      <td>31.790</td>\n",
              "      <td>0</td>\n",
              "      <td>0</td>\n",
              "      <td>0</td>\n",
              "      <td>1</td>\n",
              "    </tr>\n",
              "    <tr>\n",
              "      <th>418</th>\n",
              "      <td>64</td>\n",
              "      <td>39.160</td>\n",
              "      <td>1</td>\n",
              "      <td>1</td>\n",
              "      <td>0</td>\n",
              "      <td>1</td>\n",
              "    </tr>\n",
              "  </tbody>\n",
              "</table>\n",
              "</div>"
            ],
            "text/plain": [
              "      age     bmi  children  sex  smoker  region\n",
              "40     24  26.600         0    0       0       0\n",
              "994    27  20.045         3    0       1       3\n",
              "165    47  28.215         4    1       0       0\n",
              "1057   45  31.790         0    0       0       1\n",
              "418    64  39.160         1    1       0       1"
            ]
          },
          "metadata": {
            "tags": []
          },
          "execution_count": 131
        }
      ]
    },
    {
      "cell_type": "code",
      "metadata": {
        "id": "e1wiWz8DmdM1",
        "colab_type": "code",
        "outputId": "64d6d7fd-c722-4ffb-e092-6852ffb89ce0",
        "colab": {
          "base_uri": "https://localhost:8080/",
          "height": 204
        }
      },
      "source": [
        "X_val.head()"
      ],
      "execution_count": 132,
      "outputs": [
        {
          "output_type": "execute_result",
          "data": {
            "text/html": [
              "<div>\n",
              "<style scoped>\n",
              "    .dataframe tbody tr th:only-of-type {\n",
              "        vertical-align: middle;\n",
              "    }\n",
              "\n",
              "    .dataframe tbody tr th {\n",
              "        vertical-align: top;\n",
              "    }\n",
              "\n",
              "    .dataframe thead th {\n",
              "        text-align: right;\n",
              "    }\n",
              "</style>\n",
              "<table border=\"1\" class=\"dataframe\">\n",
              "  <thead>\n",
              "    <tr style=\"text-align: right;\">\n",
              "      <th></th>\n",
              "      <th>age</th>\n",
              "      <th>bmi</th>\n",
              "      <th>children</th>\n",
              "      <th>sex</th>\n",
              "      <th>smoker</th>\n",
              "      <th>region</th>\n",
              "    </tr>\n",
              "  </thead>\n",
              "  <tbody>\n",
              "    <tr>\n",
              "      <th>1049</th>\n",
              "      <td>49</td>\n",
              "      <td>30.900</td>\n",
              "      <td>0</td>\n",
              "      <td>1</td>\n",
              "      <td>1</td>\n",
              "      <td>2</td>\n",
              "    </tr>\n",
              "    <tr>\n",
              "      <th>257</th>\n",
              "      <td>38</td>\n",
              "      <td>40.150</td>\n",
              "      <td>0</td>\n",
              "      <td>0</td>\n",
              "      <td>0</td>\n",
              "      <td>1</td>\n",
              "    </tr>\n",
              "    <tr>\n",
              "      <th>1022</th>\n",
              "      <td>47</td>\n",
              "      <td>36.080</td>\n",
              "      <td>1</td>\n",
              "      <td>1</td>\n",
              "      <td>1</td>\n",
              "      <td>1</td>\n",
              "    </tr>\n",
              "    <tr>\n",
              "      <th>1071</th>\n",
              "      <td>63</td>\n",
              "      <td>31.445</td>\n",
              "      <td>0</td>\n",
              "      <td>1</td>\n",
              "      <td>0</td>\n",
              "      <td>0</td>\n",
              "    </tr>\n",
              "    <tr>\n",
              "      <th>17</th>\n",
              "      <td>23</td>\n",
              "      <td>23.845</td>\n",
              "      <td>0</td>\n",
              "      <td>1</td>\n",
              "      <td>0</td>\n",
              "      <td>0</td>\n",
              "    </tr>\n",
              "  </tbody>\n",
              "</table>\n",
              "</div>"
            ],
            "text/plain": [
              "      age     bmi  children  sex  smoker  region\n",
              "1049   49  30.900         0    1       1       2\n",
              "257    38  40.150         0    0       0       1\n",
              "1022   47  36.080         1    1       1       1\n",
              "1071   63  31.445         0    1       0       0\n",
              "17     23  23.845         0    1       0       0"
            ]
          },
          "metadata": {
            "tags": []
          },
          "execution_count": 132
        }
      ]
    },
    {
      "cell_type": "code",
      "metadata": {
        "id": "JI78RNjWmfWb",
        "colab_type": "code",
        "outputId": "f6d3ea00-67a9-494c-e200-d55f71625d1a",
        "colab": {
          "base_uri": "https://localhost:8080/",
          "height": 204
        }
      },
      "source": [
        "X_train_encoded.head()"
      ],
      "execution_count": 133,
      "outputs": [
        {
          "output_type": "execute_result",
          "data": {
            "text/html": [
              "<div>\n",
              "<style scoped>\n",
              "    .dataframe tbody tr th:only-of-type {\n",
              "        vertical-align: middle;\n",
              "    }\n",
              "\n",
              "    .dataframe tbody tr th {\n",
              "        vertical-align: top;\n",
              "    }\n",
              "\n",
              "    .dataframe thead th {\n",
              "        text-align: right;\n",
              "    }\n",
              "</style>\n",
              "<table border=\"1\" class=\"dataframe\">\n",
              "  <thead>\n",
              "    <tr style=\"text-align: right;\">\n",
              "      <th></th>\n",
              "      <th>age</th>\n",
              "      <th>bmi</th>\n",
              "      <th>children</th>\n",
              "      <th>sex</th>\n",
              "      <th>smoker</th>\n",
              "      <th>region</th>\n",
              "    </tr>\n",
              "  </thead>\n",
              "  <tbody>\n",
              "    <tr>\n",
              "      <th>40</th>\n",
              "      <td>24</td>\n",
              "      <td>26.600</td>\n",
              "      <td>0</td>\n",
              "      <td>0</td>\n",
              "      <td>0</td>\n",
              "      <td>0</td>\n",
              "    </tr>\n",
              "    <tr>\n",
              "      <th>994</th>\n",
              "      <td>27</td>\n",
              "      <td>20.045</td>\n",
              "      <td>3</td>\n",
              "      <td>0</td>\n",
              "      <td>1</td>\n",
              "      <td>3</td>\n",
              "    </tr>\n",
              "    <tr>\n",
              "      <th>165</th>\n",
              "      <td>47</td>\n",
              "      <td>28.215</td>\n",
              "      <td>4</td>\n",
              "      <td>1</td>\n",
              "      <td>0</td>\n",
              "      <td>0</td>\n",
              "    </tr>\n",
              "    <tr>\n",
              "      <th>1057</th>\n",
              "      <td>45</td>\n",
              "      <td>31.790</td>\n",
              "      <td>0</td>\n",
              "      <td>0</td>\n",
              "      <td>0</td>\n",
              "      <td>1</td>\n",
              "    </tr>\n",
              "    <tr>\n",
              "      <th>418</th>\n",
              "      <td>64</td>\n",
              "      <td>39.160</td>\n",
              "      <td>1</td>\n",
              "      <td>1</td>\n",
              "      <td>0</td>\n",
              "      <td>1</td>\n",
              "    </tr>\n",
              "  </tbody>\n",
              "</table>\n",
              "</div>"
            ],
            "text/plain": [
              "      age     bmi  children  sex  smoker  region\n",
              "40     24  26.600         0    0       0       0\n",
              "994    27  20.045         3    0       1       3\n",
              "165    47  28.215         4    1       0       0\n",
              "1057   45  31.790         0    0       0       1\n",
              "418    64  39.160         1    1       0       1"
            ]
          },
          "metadata": {
            "tags": []
          },
          "execution_count": 133
        }
      ]
    },
    {
      "cell_type": "code",
      "metadata": {
        "id": "SFq-vYwCmky8",
        "colab_type": "code",
        "outputId": "a6a5eefd-31ef-456b-fd30-9b976c48eea6",
        "colab": {
          "base_uri": "https://localhost:8080/",
          "height": 204
        }
      },
      "source": [
        "X_val_encoded.head()"
      ],
      "execution_count": 134,
      "outputs": [
        {
          "output_type": "execute_result",
          "data": {
            "text/html": [
              "<div>\n",
              "<style scoped>\n",
              "    .dataframe tbody tr th:only-of-type {\n",
              "        vertical-align: middle;\n",
              "    }\n",
              "\n",
              "    .dataframe tbody tr th {\n",
              "        vertical-align: top;\n",
              "    }\n",
              "\n",
              "    .dataframe thead th {\n",
              "        text-align: right;\n",
              "    }\n",
              "</style>\n",
              "<table border=\"1\" class=\"dataframe\">\n",
              "  <thead>\n",
              "    <tr style=\"text-align: right;\">\n",
              "      <th></th>\n",
              "      <th>age</th>\n",
              "      <th>bmi</th>\n",
              "      <th>children</th>\n",
              "      <th>sex</th>\n",
              "      <th>smoker</th>\n",
              "      <th>region</th>\n",
              "    </tr>\n",
              "  </thead>\n",
              "  <tbody>\n",
              "    <tr>\n",
              "      <th>1049</th>\n",
              "      <td>49</td>\n",
              "      <td>30.900</td>\n",
              "      <td>0</td>\n",
              "      <td>1</td>\n",
              "      <td>1</td>\n",
              "      <td>2</td>\n",
              "    </tr>\n",
              "    <tr>\n",
              "      <th>257</th>\n",
              "      <td>38</td>\n",
              "      <td>40.150</td>\n",
              "      <td>0</td>\n",
              "      <td>0</td>\n",
              "      <td>0</td>\n",
              "      <td>1</td>\n",
              "    </tr>\n",
              "    <tr>\n",
              "      <th>1022</th>\n",
              "      <td>47</td>\n",
              "      <td>36.080</td>\n",
              "      <td>1</td>\n",
              "      <td>1</td>\n",
              "      <td>1</td>\n",
              "      <td>1</td>\n",
              "    </tr>\n",
              "    <tr>\n",
              "      <th>1071</th>\n",
              "      <td>63</td>\n",
              "      <td>31.445</td>\n",
              "      <td>0</td>\n",
              "      <td>1</td>\n",
              "      <td>0</td>\n",
              "      <td>0</td>\n",
              "    </tr>\n",
              "    <tr>\n",
              "      <th>17</th>\n",
              "      <td>23</td>\n",
              "      <td>23.845</td>\n",
              "      <td>0</td>\n",
              "      <td>1</td>\n",
              "      <td>0</td>\n",
              "      <td>0</td>\n",
              "    </tr>\n",
              "  </tbody>\n",
              "</table>\n",
              "</div>"
            ],
            "text/plain": [
              "      age     bmi  children  sex  smoker  region\n",
              "1049   49  30.900         0    1       1       2\n",
              "257    38  40.150         0    0       0       1\n",
              "1022   47  36.080         1    1       1       1\n",
              "1071   63  31.445         0    1       0       0\n",
              "17     23  23.845         0    1       0       0"
            ]
          },
          "metadata": {
            "tags": []
          },
          "execution_count": 134
        }
      ]
    },
    {
      "cell_type": "code",
      "metadata": {
        "id": "2qZP0xV2mo4q",
        "colab_type": "code",
        "colab": {}
      },
      "source": [
        "imputer = SimpleImputer(strategy='mean')\n",
        "X_train_imputed = imputer.fit_transform(X_train_encoded)\n",
        "X_val_imputed = imputer.transform(X_val_encoded)"
      ],
      "execution_count": 0,
      "outputs": []
    },
    {
      "cell_type": "code",
      "metadata": {
        "id": "u1NaG4FlmuSu",
        "colab_type": "code",
        "colab": {}
      },
      "source": [
        "scaler = StandardScaler()\n",
        "X_train_scaled = scaler.fit_transform(X_train_imputed)\n",
        "X_val_scaled = scaler.transform(X_val_imputed)"
      ],
      "execution_count": 0,
      "outputs": []
    },
    {
      "cell_type": "code",
      "metadata": {
        "id": "FgJDF5dpmyai",
        "colab_type": "code",
        "outputId": "54dfeb6d-9bf7-4832-fc48-eaad43a39936",
        "colab": {
          "base_uri": "https://localhost:8080/",
          "height": 187
        }
      },
      "source": [
        "X_train_scaled[:5]"
      ],
      "execution_count": 137,
      "outputs": [
        {
          "output_type": "execute_result",
          "data": {
            "text/plain": [
              "array([[-1.07486141, -0.63857464, -0.90396338, -1.0227015 , -0.50894665,\n",
              "        -1.34207438],\n",
              "       [-0.86146785, -1.70610151,  1.52071432, -1.0227015 ,  1.9648425 ,\n",
              "         1.38284626],\n",
              "       [ 0.56115588, -0.37556077,  2.32894022,  0.97780241, -0.50894665,\n",
              "        -1.34207438],\n",
              "       [ 0.41889351,  0.20665259, -0.90396338, -1.0227015 , -0.50894665,\n",
              "        -0.4337675 ],\n",
              "       [ 1.77038605,  1.40690783, -0.09573748,  0.97780241, -0.50894665,\n",
              "        -0.4337675 ]])"
            ]
          },
          "metadata": {
            "tags": []
          },
          "execution_count": 137
        }
      ]
    },
    {
      "cell_type": "code",
      "metadata": {
        "id": "TZNBg2VSm1w_",
        "colab_type": "code",
        "outputId": "53e6bd77-7851-45d6-bec0-e9207c16f380",
        "colab": {
          "base_uri": "https://localhost:8080/",
          "height": 34
        }
      },
      "source": [
        "from sklearn.linear_model import LinearRegression\n",
        "linear = LinearRegression()\n",
        "linear.fit(X_train_encoded, y_train)"
      ],
      "execution_count": 138,
      "outputs": [
        {
          "output_type": "execute_result",
          "data": {
            "text/plain": [
              "LinearRegression(copy_X=True, fit_intercept=True, n_jobs=None, normalize=False)"
            ]
          },
          "metadata": {
            "tags": []
          },
          "execution_count": 138
        }
      ]
    },
    {
      "cell_type": "code",
      "metadata": {
        "id": "bYbcrYo9m7mE",
        "colab_type": "code",
        "outputId": "4d53bb28-dcb6-4fcf-94a8-9b9ac0136434",
        "colab": {
          "base_uri": "https://localhost:8080/",
          "height": 1000
        }
      },
      "source": [
        "# 1. Import estimator class\n",
        "from sklearn.linear_model import LinearRegression\n",
        "\n",
        "# 2. Instantiate this class\n",
        "model = LinearRegression()\n",
        "\n",
        "# 3. Arrange X feature matrices (already did y target vectors)\n",
        "features = ['age', 'children', 'bmi']\n",
        "X_train = train[features]\n",
        "X_val = val[features]\n",
        "\n",
        "# Impute missing values\n",
        "from sklearn.impute import SimpleImputer\n",
        "imputer = SimpleImputer()\n",
        "X_train_imputed = imputer.fit_transform(X_train)\n",
        "X_val_imputed = imputer.transform(X_val)\n",
        "\n",
        "# 4. Fit the model\n",
        "model.fit(X_train_imputed, y_train)\n",
        "\n",
        "# 5. Apply the model to new data.\n",
        "# The predictions look like this ...\n",
        "model.predict(X_val_imputed)"
      ],
      "execution_count": 139,
      "outputs": [
        {
          "output_type": "execute_result",
          "data": {
            "text/plain": [
              "array([14453.54451429, 15167.59328682, 16292.62772124, 17421.08395529,\n",
              "        7040.74212282, 12711.08731052, 10960.18935755,  8837.99612606,\n",
              "       14236.09504539, 13825.45288123, 15185.97961144, 15718.84881089,\n",
              "       12522.58006146, 12803.34834695, 13691.82304353, 14414.01338659,\n",
              "       18824.03955859, 16439.76485696, 10367.52939542, 13785.47134545,\n",
              "       20960.55529473,  9194.48547922, 17987.26034133,  6103.18050803,\n",
              "       11056.02079888, 15188.12711407, 15792.22748348, 17627.58905612,\n",
              "       21641.10067614, 13004.52401311, 10422.68034303, 18411.03001297,\n",
              "       16817.24909586, 10862.7937789 , 14700.76508959, 12494.06260728,\n",
              "        7605.16013511, 12371.56269178, 15175.19515509, 11309.38601547,\n",
              "        8854.53478275,  8248.1719741 , 11293.96043198, 11203.04365403,\n",
              "        9906.99444477, 14348.58073605, 18042.67679892, 11423.72003009,\n",
              "       13041.36727988, 18809.69403568, 18414.82095273, 13169.23357891,\n",
              "        7388.40028583, 15046.0552151 ,  8348.30038879,  8957.12052912,\n",
              "       15311.43355389, 13758.36745521, 14320.83351338,  9322.39675336,\n",
              "       17347.43043438, 13675.47862327,  3560.78866583, 14491.29793555,\n",
              "       19502.40245663, 18485.32817837, 17106.19458866,  7886.15829381,\n",
              "        7256.53816021, 11973.88746734, 10242.6844607 , 13695.50904106,\n",
              "       13302.10449154, 12115.35035858, 19373.26251665,  9110.89637726,\n",
              "        8115.88573885, 11207.88032966, 15170.12991833, 16863.55951498,\n",
              "       14219.130967  ,  9440.06261738, 10154.84467256, 12628.18782817,\n",
              "        9562.79371815, 12445.43543548, 11796.74869598,  7087.86643649,\n",
              "        8842.83148961, 20048.43283224, 11303.20639343, 17481.52067452,\n",
              "       13874.26560715,  8406.63392448, 13300.07192551, 18617.2246287 ,\n",
              "       18006.99158047, 10968.82631127, 14833.39613465,  8679.15438513,\n",
              "        8015.29823379,  8055.97872751, 10005.97349343, 19003.11660415,\n",
              "        5993.15214906, 10640.81877551, 14848.82171813, 15351.80421855,\n",
              "        9720.83090287, 15968.83654694, 10850.7806567 , 18081.93373434,\n",
              "       16627.46820584,  7318.62765492, 17915.76497345,  9799.50468542,\n",
              "        9950.93748243, 18692.63717938, 10702.21930664, 19482.68186789,\n",
              "       16438.84602018,  8449.23204762, 15600.8281427 , 16909.7743302 ,\n",
              "       13705.47894683, 14226.53925489, 16051.65672947, 12297.37880694,\n",
              "       20281.58273293, 11821.61447733, 15708.17929114, 12585.66966088,\n",
              "       12037.41051472,  9130.89247035, 18582.19404912, 13673.94012836,\n",
              "       16015.97019895, 10657.96775199, 18387.08306839,  8164.31867423,\n",
              "        9749.26840119, 17592.00812387, 21875.5478921 , 17458.6874592 ,\n",
              "       10457.06693415, 18167.75095082,  9386.48383335,  8903.85223019,\n",
              "       16574.61402217,  9373.2077206 , 10493.86588184, 11069.33386048,\n",
              "       15008.67159003, 15380.74578236, 16039.7229071 , 14065.65495356,\n",
              "       19171.08805785, 17498.7589452 , 15315.11955142, 15988.86696474,\n",
              "       12453.11725961,  8110.20018794, 14507.19194774, 15296.30714907,\n",
              "       17400.74370843, 16772.92692368, 12957.04423923, 12798.9727298 ,\n",
              "       10474.29521045, 15330.23530584, 12896.52822017, 13689.75484073,\n",
              "        7040.62718621,  7180.66651915, 14251.44067302, 14146.71676235,\n",
              "       12458.41236958, 14673.55691315, 12163.86390585, 10740.55740528,\n",
              "        5354.55090796,  9917.74457641, 15559.12321393, 15525.54052299,\n",
              "       16252.68116621, 14341.79210629, 12753.33194156, 12921.47395738,\n",
              "        6194.09728598, 14501.04861852, 14128.21418905, 17142.48947087,\n",
              "       13151.93534111,  8422.13880779, 12508.91350776, 15280.76794105,\n",
              "        8048.26061057, 18957.17532517, 11148.01698136, 14326.20792316,\n",
              "       10251.63124348, 11101.65224879,  7554.34916787, 11068.67922161,\n",
              "        5080.76614469,  7783.53756669,  8055.66889845, 17939.17155972,\n",
              "       15203.55269755,  7242.87095047, 13686.90772412, 13553.89557644,\n",
              "       15525.96528866, 13718.30661961, 18791.96038182, 14184.89494927,\n",
              "       18903.64282833, 13994.15958569, 13802.77089532,  5221.49444121,\n",
              "       15126.1875367 , 11424.67450365, 15250.33220142, 19204.06174107,\n",
              "       15106.76612662, 18174.34403208, 15776.8019    , 12246.99260537,\n",
              "        7529.86317707, 11560.64804851, 11882.01555979,  5842.32835977,\n",
              "       11004.13108314, 15708.25859097, 19330.81365482, 10912.29546841,\n",
              "       11178.40840192, 14990.47950183, 11069.41447237, 14950.18748096,\n",
              "       15245.76103578, 19743.41907955, 10881.63116764, 12890.96825625,\n",
              "       12522.12031505, 17518.78936299, 15901.94601339, 13111.70525547,\n",
              "       16042.18023878, 12715.11942993, 11849.05318301, 12941.04594084,\n",
              "       13628.34431523,  5853.22775272,  9417.03516562, 14092.17482246,\n",
              "       12520.92662995,  5773.09543113, 10753.91412992, 16014.43236008,\n",
              "       14077.97790482, 19891.55566395, 18867.177384  , 18139.19785986,\n",
              "       15440.80271104, 13556.58278133, 13484.74325969, 15599.11408804])"
            ]
          },
          "metadata": {
            "tags": []
          },
          "execution_count": 139
        }
      ]
    },
    {
      "cell_type": "code",
      "metadata": {
        "id": "qeKnvrYmniCG",
        "colab_type": "code",
        "outputId": "130e80d4-c821-4ee4-8374-b25b965fd7ab",
        "colab": {
          "base_uri": "https://localhost:8080/",
          "height": 68
        }
      },
      "source": [
        "y_pred = linear.predict(X_val_encoded)\n",
        "print('Linear Regression:')\n",
        "print('Mean Absolute Error', mean_absolute_error(y_val, y_pred))\n",
        "print('R^2 score', r2_score(y_val, y_pred))"
      ],
      "execution_count": 140,
      "outputs": [
        {
          "output_type": "stream",
          "text": [
            "Linear Regression:\n",
            "Mean Absolute Error 4573.522705223291\n",
            "R^2 score 0.7274030687712789\n"
          ],
          "name": "stdout"
        }
      ]
    },
    {
      "cell_type": "code",
      "metadata": {
        "id": "DRSaAGAkk-ps",
        "colab_type": "code",
        "colab": {}
      },
      "source": [
        "from sklearn.linear_model import LinearRegression"
      ],
      "execution_count": 0,
      "outputs": []
    },
    {
      "cell_type": "code",
      "metadata": {
        "id": "o01Wfmw9kTi-",
        "colab_type": "code",
        "colab": {}
      },
      "source": [
        "model = LinearRegression()"
      ],
      "execution_count": 0,
      "outputs": []
    },
    {
      "cell_type": "code",
      "metadata": {
        "id": "ZqL2bp2Nlvr5",
        "colab_type": "code",
        "outputId": "781bbfc2-8bbc-4c5c-9c8b-a27cad15f26a",
        "colab": {
          "base_uri": "https://localhost:8080/",
          "height": 34
        }
      },
      "source": [
        "type(df[['age']])"
      ],
      "execution_count": 143,
      "outputs": [
        {
          "output_type": "execute_result",
          "data": {
            "text/plain": [
              "pandas.core.frame.DataFrame"
            ]
          },
          "metadata": {
            "tags": []
          },
          "execution_count": 143
        }
      ]
    },
    {
      "cell_type": "code",
      "metadata": {
        "id": "76IquLpTl0b9",
        "colab_type": "code",
        "outputId": "c3899771-5765-4920-c124-63ac570acde7",
        "colab": {
          "base_uri": "https://localhost:8080/",
          "height": 419
        }
      },
      "source": [
        "df[['age']]"
      ],
      "execution_count": 144,
      "outputs": [
        {
          "output_type": "execute_result",
          "data": {
            "text/html": [
              "<div>\n",
              "<style scoped>\n",
              "    .dataframe tbody tr th:only-of-type {\n",
              "        vertical-align: middle;\n",
              "    }\n",
              "\n",
              "    .dataframe tbody tr th {\n",
              "        vertical-align: top;\n",
              "    }\n",
              "\n",
              "    .dataframe thead th {\n",
              "        text-align: right;\n",
              "    }\n",
              "</style>\n",
              "<table border=\"1\" class=\"dataframe\">\n",
              "  <thead>\n",
              "    <tr style=\"text-align: right;\">\n",
              "      <th></th>\n",
              "      <th>age</th>\n",
              "    </tr>\n",
              "  </thead>\n",
              "  <tbody>\n",
              "    <tr>\n",
              "      <th>0</th>\n",
              "      <td>19</td>\n",
              "    </tr>\n",
              "    <tr>\n",
              "      <th>1</th>\n",
              "      <td>18</td>\n",
              "    </tr>\n",
              "    <tr>\n",
              "      <th>2</th>\n",
              "      <td>28</td>\n",
              "    </tr>\n",
              "    <tr>\n",
              "      <th>3</th>\n",
              "      <td>33</td>\n",
              "    </tr>\n",
              "    <tr>\n",
              "      <th>4</th>\n",
              "      <td>32</td>\n",
              "    </tr>\n",
              "    <tr>\n",
              "      <th>...</th>\n",
              "      <td>...</td>\n",
              "    </tr>\n",
              "    <tr>\n",
              "      <th>1333</th>\n",
              "      <td>50</td>\n",
              "    </tr>\n",
              "    <tr>\n",
              "      <th>1334</th>\n",
              "      <td>18</td>\n",
              "    </tr>\n",
              "    <tr>\n",
              "      <th>1335</th>\n",
              "      <td>18</td>\n",
              "    </tr>\n",
              "    <tr>\n",
              "      <th>1336</th>\n",
              "      <td>21</td>\n",
              "    </tr>\n",
              "    <tr>\n",
              "      <th>1337</th>\n",
              "      <td>61</td>\n",
              "    </tr>\n",
              "  </tbody>\n",
              "</table>\n",
              "<p>1338 rows × 1 columns</p>\n",
              "</div>"
            ],
            "text/plain": [
              "      age\n",
              "0      19\n",
              "1      18\n",
              "2      28\n",
              "3      33\n",
              "4      32\n",
              "...   ...\n",
              "1333   50\n",
              "1334   18\n",
              "1335   18\n",
              "1336   21\n",
              "1337   61\n",
              "\n",
              "[1338 rows x 1 columns]"
            ]
          },
          "metadata": {
            "tags": []
          },
          "execution_count": 144
        }
      ]
    },
    {
      "cell_type": "code",
      "metadata": {
        "id": "o7ox27oGl32l",
        "colab_type": "code",
        "colab": {}
      },
      "source": [
        "features = ['age', 'smoker', 'bmi', 'sex', 'children', 'region']\n",
        "target = 'charges'\n",
        "X_train = df[features]\n",
        "y_train = df[target]"
      ],
      "execution_count": 0,
      "outputs": []
    },
    {
      "cell_type": "code",
      "metadata": {
        "id": "92U60V1fmQ--",
        "colab_type": "code",
        "outputId": "db59ca3c-febf-42f3-e730-b2fba3c1296a",
        "colab": {
          "base_uri": "https://localhost:8080/",
          "height": 34
        }
      },
      "source": [
        "model.fit(X_train, y_train)"
      ],
      "execution_count": 146,
      "outputs": [
        {
          "output_type": "execute_result",
          "data": {
            "text/plain": [
              "LinearRegression(copy_X=True, fit_intercept=True, n_jobs=None, normalize=False)"
            ]
          },
          "metadata": {
            "tags": []
          },
          "execution_count": 146
        }
      ]
    },
    {
      "cell_type": "code",
      "metadata": {
        "id": "9enppgE4mXYN",
        "colab_type": "code",
        "outputId": "6e361794-1731-4ed9-89dc-4a73b4798e9f",
        "colab": {
          "base_uri": "https://localhost:8080/",
          "height": 34
        }
      },
      "source": [
        "age = 37\n",
        "smoker = 0\n",
        "bmi = 22\n",
        "children = 2\n",
        "sex = 1\n",
        "region = 3\n",
        "X_test = [[age, smoker, bmi, sex, children, region]]\n",
        "y_pred = model.predict(X_test)\n",
        "y_pred"
      ],
      "execution_count": 147,
      "outputs": [
        {
          "output_type": "execute_result",
          "data": {
            "text/plain": [
              "array([5260.65095545])"
            ]
          },
          "metadata": {
            "tags": []
          },
          "execution_count": 147
        }
      ]
    },
    {
      "cell_type": "code",
      "metadata": {
        "id": "GLUVTCXSmw9m",
        "colab_type": "code",
        "outputId": "8877702c-8b6d-40c0-816b-5e30764b3c99",
        "colab": {
          "base_uri": "https://localhost:8080/",
          "height": 51
        }
      },
      "source": [
        "model.coef_"
      ],
      "execution_count": 148,
      "outputs": [
        {
          "output_type": "execute_result",
          "data": {
            "text/plain": [
              "array([  257.78039376, 23811.62382151,   321.38134389,  -129.50258634,\n",
              "         477.78663538,   -98.27183477])"
            ]
          },
          "metadata": {
            "tags": []
          },
          "execution_count": 148
        }
      ]
    },
    {
      "cell_type": "code",
      "metadata": {
        "id": "H7lRB9uqm0jW",
        "colab_type": "code",
        "outputId": "3dd7fea0-6691-40b0-98b1-9a1b69bc01ad",
        "colab": {
          "base_uri": "https://localhost:8080/",
          "height": 34
        }
      },
      "source": [
        "model.intercept_"
      ],
      "execution_count": 149,
      "outputs": [
        {
          "output_type": "execute_result",
          "data": {
            "text/plain": [
              "-11878.868359456308"
            ]
          },
          "metadata": {
            "tags": []
          },
          "execution_count": 149
        }
      ]
    },
    {
      "cell_type": "code",
      "metadata": {
        "id": "TSScuqYIJk3_",
        "colab_type": "code",
        "colab": {}
      },
      "source": [
        "import matplotlib.pyplot as plt\n",
        "import numpy as np\n",
        "import seaborn as sns\n",
        "sns.set_style('white')\n",
        "import pandas as pd"
      ],
      "execution_count": 0,
      "outputs": []
    },
    {
      "cell_type": "code",
      "metadata": {
        "id": "G2hukIEbLST4",
        "colab_type": "code",
        "outputId": "6df433c5-2578-4216-dab5-8e9848d16d21",
        "colab": {
          "base_uri": "https://localhost:8080/",
          "height": 459
        }
      },
      "source": [
        "x = sns.pairplot(train, hue=\"region\", height=1)\n",
        "new_labels = ['Northeast', 'Southeast', 'Southwest', 'Northwest']\n",
        "x.fig.legend(labels=new_labels);\n"
      ],
      "execution_count": 151,
      "outputs": [
        {
          "output_type": "display_data",
          "data": {
            "image/png": "[encoded data removed]",
            "text/plain": [
              "<Figure size 474.375x432 with 42 Axes>"
            ]
          },
          "metadata": {
            "tags": []
          }
        }
      ]
    },
    {
      "cell_type": "code",
      "metadata": {
        "id": "4V1sfAIOODoH",
        "colab_type": "code",
        "outputId": "b71e0fad-76be-4234-d19c-b55b18c9243e",
        "colab": {
          "base_uri": "https://localhost:8080/",
          "height": 279
        }
      },
      "source": [
        "sns.regplot(x=train['bmi'], y=train['charges'], line_kws={'color':'r','alpha':0.7,'lw':5});"
      ],
      "execution_count": 152,
      "outputs": [
        {
          "output_type": "display_data",
          "data": {
            "image/png": "[encoded data removed]",
            "text/plain": [
              "<Figure size 432x288 with 1 Axes>"
            ]
          },
          "metadata": {
            "tags": []
          }
        }
      ]
    },
    {
      "cell_type": "code",
      "metadata": {
        "id": "ny6Kg-ckRNk2",
        "colab_type": "code",
        "outputId": "ac8b6759-419e-4bd4-e16f-0b778d218aed",
        "colab": {
          "base_uri": "https://localhost:8080/",
          "height": 417
        }
      },
      "source": [
        "import plotly.express as px\n",
        "import plotly.graph_objects as go\n",
        "fig1 = px.box(train, x='sex', y='charges', points='all', color='sex', width=800, height=400)\n",
        "fig1.update_xaxes(showticklabels=False)\n",
        "fig1.update_layout(title = 'Female vs Male')\n",
        "fig1.show()\n",
        "#sns.boxplot(x=train['sex'], y=train['charges']);"
      ],
      "execution_count": 153,
      "outputs": [
        {
          "output_type": "display_data",
          "data": {
            "text/html": [
              "<html>\n",
              "<head><meta charset=\"utf-8\" /></head>\n",
              "<body>\n",
              "    <div>\n",
              "            <script src=\"https://cdnjs.cloudflare.com/ajax/libs/mathjax/2.7.5/MathJax.js?config=TeX-AMS-MML_SVG\"></script><script type=\"text/javascript\">if (window.MathJax) {MathJax.Hub.Config({SVG: {font: \"STIX-Web\"}});}</script>\n",
              "                <script type=\"text/javascript\">window.PlotlyConfig = {MathJaxConfig: 'local'};</script>\n",
              "        <script src=\"https://cdn.plot.ly/plotly-latest.min.js\"></script>    \n",
              "            <div id=\"16f18307-1d32-4860-8e04-81fe7a266e99\" class=\"plotly-graph-div\" style=\"height:400px; width:800px;\"></div>\n",
              "            <script type=\"text/javascript\">\n",
              "                \n",
              "                    window.PLOTLYENV=window.PLOTLYENV || {};\n",
              "                    \n",
              "                if (document.getElementById(\"16f18307-1d32-4860-8e04-81fe7a266e99\")) {\n",
              "                    Plotly.newPlot(\n",
              "                        '16f18307-1d32-4860-8e04-81fe7a266e99',\n",
              "                        [{\"alignmentgroup\": \"True\", \"boxpoints\": \"all\", \"hoverlabel\": {\"namelength\": 0}, \"hovertemplate\": \"sex=%{x}<br>charges=%{y}\", \"legendgroup\": \"sex=0\", \"marker\": {\"color\": \"#636efa\"}, \"name\": \"sex=0\", \"notched\": false, \"offsetgroup\": \"sex=0\", \"orientation\": \"v\", \"showlegend\": true, \"type\": \"box\", \"x\": [0, 0, 0, 0, 0, 0, 0, 0, 0, 0, 0, 0, 0, 0, 0, 0, 0, 0, 0, 0, 0, 0, 0, 0, 0, 0, 0, 0, 0, 0, 0, 0, 0, 0, 0, 0, 0, 0, 0, 0, 0, 0, 0, 0, 0, 0, 0, 0, 0, 0, 0, 0, 0, 0, 0, 0, 0, 0, 0, 0, 0, 0, 0, 0, 0, 0, 0, 0, 0, 0, 0, 0, 0, 0, 0, 0, 0, 0, 0, 0, 0, 0, 0, 0, 0, 0, 0, 0, 0, 0, 0, 0, 0, 0, 0, 0, 0, 0, 0, 0, 0, 0, 0, 0, 0, 0, 0, 0, 0, 0, 0, 0, 0, 0, 0, 0, 0, 0, 0, 0, 0, 0, 0, 0, 0, 0, 0, 0, 0, 0, 0, 0, 0, 0, 0, 0, 0, 0, 0, 0, 0, 0, 0, 0, 0, 0, 0, 0, 0, 0, 0, 0, 0, 0, 0, 0, 0, 0, 0, 0, 0, 0, 0, 0, 0, 0, 0, 0, 0, 0, 0, 0, 0, 0, 0, 0, 0, 0, 0, 0, 0, 0, 0, 0, 0, 0, 0, 0, 0, 0, 0, 0, 0, 0, 0, 0, 0, 0, 0, 0, 0, 0, 0, 0, 0, 0, 0, 0, 0, 0, 0, 0, 0, 0, 0, 0, 0, 0, 0, 0, 0, 0, 0, 0, 0, 0, 0, 0, 0, 0, 0, 0, 0, 0, 0, 0, 0, 0, 0, 0, 0, 0, 0, 0, 0, 0, 0, 0, 0, 0, 0, 0, 0, 0, 0, 0, 0, 0, 0, 0, 0, 0, 0, 0, 0, 0, 0, 0, 0, 0, 0, 0, 0, 0, 0, 0, 0, 0, 0, 0, 0, 0, 0, 0, 0, 0, 0, 0, 0, 0, 0, 0, 0, 0, 0, 0, 0, 0, 0, 0, 0, 0, 0, 0, 0, 0, 0, 0, 0, 0, 0, 0, 0, 0, 0, 0, 0, 0, 0, 0, 0, 0, 0, 0, 0, 0, 0, 0, 0, 0, 0, 0, 0, 0, 0, 0, 0, 0, 0, 0, 0, 0, 0, 0, 0, 0, 0, 0, 0, 0, 0, 0, 0, 0, 0, 0, 0, 0, 0, 0, 0, 0, 0, 0, 0, 0, 0, 0, 0, 0, 0, 0, 0, 0, 0, 0, 0, 0, 0, 0, 0, 0, 0, 0, 0, 0, 0, 0, 0, 0, 0, 0], \"x0\": \" \", \"xaxis\": \"x\", \"y\": [3046.062, 16420.49455, 17929.303369999998, 5266.3656, 23288.9284, 14007.222, 21348.706000000002, 2842.76075, 6474.013000000001, 24535.69855, 3378.91, 4347.02335, 11093.6229, 13224.05705, 7201.70085, 19749.383380000003, 11015.1747, 8240.5896, 46113.511, 28923.136919999997, 6686.4313, 4931.647, 38792.6856, 2974.1259999999997, 6571.02435, 8823.279, 3213.62205, 34838.873, 7281.5056, 8538.28845, 28340.18885, 9861.025, 2527.81865, 3943.5954, 7050.642, 24513.09126, 6360.9936, 5478.0368, 7419.4779, 2457.21115, 9704.66805, 10156.7832, 11552.903999999999, 7682.67, 18033.9679, 11842.442, 8582.3023, 4830.63, 8026.6666, 13616.3586, 36910.60803, 46200.9851, 3756.6216, 11512.405, 10043.249, 36898.73308, 6775.960999999999, 11082.5772, 8516.829, 1748.774, 4134.08245, 14455.64405, 35595.5898, 3757.8448, 4189.1131, 14254.6082, 16455.70785, 16776.30405, 12032.326000000001, 8219.2039, 11187.6567, 6186.1269999999995, 5383.536, 1622.1885, 40003.33225, 5148.5526, 14043.4767, 10848.1343, 13887.9685, 13430.265, 14394.39815, 9193.8385, 24520.264, 9634.538, 6128.79745, 24671.66334, 12622.1795, 4922.9159, 3925.7582, 12430.95335, 3353.284, 36149.4835, 2200.83085, 44423.803, 45863.205, 5472.4490000000005, 3410.324, 12265.5069, 7348.142, 5458.04645, 11881.358, 20234.85475, 4562.8421, 2150.469, 3366.6697, 3766.8838, 6196.448, 7133.9025, 4992.3764, 4949.7587, 31620.001060000002, 2166.732, 2261.5688, 12797.20962, 11881.9696, 17748.5062, 7639.41745, 14133.03775, 4337.7352, 8232.6388, 11411.685, 10702.6424, 45008.9555, 15006.57945, 2899.48935, 8539.671, 13041.921, 24180.9335, 5138.2567, 6551.7501, 11150.78, 39725.51805, 9877.6077, 14319.031, 7650.77375, 16657.71745, 9264.796999999999, 3956.07145, 16884.924, 15359.1045, 5312.16985, 40941.2854, 5246.047, 8269.044, 3172.018, 1633.0444, 13457.9608, 29141.3603, 17468.9839, 6414.178000000001, 2457.502, 11455.28, 11482.63485, 1727.785, 25656.575259999998, 13451.122, 33307.5508, 2020.1770000000001, 30942.1918, 33907.547999999995, 5989.52365, 2205.9808, 7345.084, 4185.0979, 3176.8159, 4738.2682, 14590.63205, 9447.3824, 21771.3423, 4340.4409, 5397.6167, 4719.52405, 2217.6012, 2331.519, 4571.41305, 47928.03, 37079.372, 8520.026, 6555.07035, 1631.8212, 7045.499, 14001.1338, 7228.21565, 19594.80965, 5354.07465, 46255.1125, 13635.6379, 10115.00885, 10493.9458, 19444.2658, 17496.306, 7537.1639, 14692.66935, 13228.84695, 12485.8009, 8515.7587, 7046.7222, 3056.3881, 24106.91255, 5846.9176, 14313.8463, 2459.7201, 11657.7189, 6781.3542, 37133.8982, 26125.674769999998, 13844.7972, 17626.23951, 1737.376, 7731.85785, 22395.74424, 9414.92, 8522.003, 35160.13457, 1631.6683, 13462.52, 4234.927, 16115.3045, 26140.3603, 13470.8044, 11840.77505, 14235.072, 9625.92, 5003.853, 6933.24225, 26018.95052, 9910.35985, 8277.523000000001, 12815.44495, 5375.0380000000005, 20878.78443, 3736.4647, 7077.1894, 3201.24515, 10579.711000000001, 3353.4703, 9549.5651, 5327.40025, 7421.19455, 7954.517, 13224.693000000001, 19023.26, 4906.40965, 20296.86345, 5974.3847, 34166.273, 2850.68375, 2196.4732, 10928.848999999998, 10118.424, 21677.28345, 22331.5668, 5325.651, 4350.5144, 3981.9768, 16085.1275, 12094.478000000001, 11073.176000000001, 2201.0971, 1759.338, 2217.46915, 4151.0287, 3989.841, 4357.04365, 11741.726, 58571.074479999996, 2128.43105, 5708.866999999999, 9541.69555, 25678.77845, 12224.35085, 10713.643999999998, 3044.2133, 4564.19145, 10942.13205, 4544.2348, 11090.7178, 8556.907, 8601.3293, 18903.49141, 10797.3362, 7623.518, 20167.336030000002, 24915.04626, 9875.6804, 8965.79575, 14451.83515, 7153.5539, 3994.1778, 10795.937329999999, 10106.13425, 7371.772, 13063.883, 10197.7722, 24227.33724, 4149.736, 1629.8335, 16796.41194, 4561.1885, 24873.3849, 3227.1211, 1728.8970000000002, 2207.69745, 13012.20865, 5385.3379, 3558.62025, 2473.3341, 6496.8859999999995, 47896.79135, 3171.6149, 14382.70905, 13725.47184, 11070.535, 10355.641, 40932.4295, 13470.86, 21344.8467, 5630.45785, 28287.897660000002, 6184.2994, 4883.866, 19107.7796, 2203.73595, 41661.602, 13047.33235, 6770.1925, 2136.88225, 12475.3513, 4766.022, 2709.24395, 2801.2588, 12638.195, 7985.815, 12105.32, 21659.9301, 13429.0354, 8252.2843, 4934.705, 6877.9801, 19964.7463, 18608.262, 6311.951999999999, 13217.0945, 2026.9741, 23065.4207, 11837.16, 48517.56315, 40904.1995, 8527.532, 4466.6214, 2464.6188, 36397.576, 11305.93455, 10806.839, 1621.8827, 17081.08, 3206.49135, 3393.35635, 11856.4115, 3556.9223, 11879.10405, 12231.6136, 40974.1649, 12269.68865, 12629.1656, 7144.86265, 5662.225, 47305.305, 9583.8933, 8534.6718, 3577.9990000000003, 11299.343, 24059.68019, 8825.086, 14474.675, 3392.3652, 6185.3208, 15612.19335, 18223.4512, 14901.5167, 11833.7823, 6753.0380000000005, 7626.993, 7727.2532, 1615.7667, 2138.0707, 7633.7206, 18838.70366, 13844.506000000001, 2730.10785, 7418.522, 11033.6617], \"y0\": \" \", \"yaxis\": \"y\"}, {\"alignmentgroup\": \"True\", \"boxpoints\": \"all\", \"hoverlabel\": {\"namelength\": 0}, \"hovertemplate\": \"sex=%{x}<br>charges=%{y}\", \"legendgroup\": \"sex=1\", \"marker\": {\"color\": \"#EF553B\"}, \"name\": \"sex=1\", \"notched\": false, \"offsetgroup\": \"sex=1\", \"orientation\": \"v\", \"showlegend\": true, \"type\": \"box\", \"x\": [1, 1, 1, 1, 1, 1, 1, 1, 1, 1, 1, 1, 1, 1, 1, 1, 1, 1, 1, 1, 1, 1, 1, 1, 1, 1, 1, 1, 1, 1, 1, 1, 1, 1, 1, 1, 1, 1, 1, 1, 1, 1, 1, 1, 1, 1, 1, 1, 1, 1, 1, 1, 1, 1, 1, 1, 1, 1, 1, 1, 1, 1, 1, 1, 1, 1, 1, 1, 1, 1, 1, 1, 1, 1, 1, 1, 1, 1, 1, 1, 1, 1, 1, 1, 1, 1, 1, 1, 1, 1, 1, 1, 1, 1, 1, 1, 1, 1, 1, 1, 1, 1, 1, 1, 1, 1, 1, 1, 1, 1, 1, 1, 1, 1, 1, 1, 1, 1, 1, 1, 1, 1, 1, 1, 1, 1, 1, 1, 1, 1, 1, 1, 1, 1, 1, 1, 1, 1, 1, 1, 1, 1, 1, 1, 1, 1, 1, 1, 1, 1, 1, 1, 1, 1, 1, 1, 1, 1, 1, 1, 1, 1, 1, 1, 1, 1, 1, 1, 1, 1, 1, 1, 1, 1, 1, 1, 1, 1, 1, 1, 1, 1, 1, 1, 1, 1, 1, 1, 1, 1, 1, 1, 1, 1, 1, 1, 1, 1, 1, 1, 1, 1, 1, 1, 1, 1, 1, 1, 1, 1, 1, 1, 1, 1, 1, 1, 1, 1, 1, 1, 1, 1, 1, 1, 1, 1, 1, 1, 1, 1, 1, 1, 1, 1, 1, 1, 1, 1, 1, 1, 1, 1, 1, 1, 1, 1, 1, 1, 1, 1, 1, 1, 1, 1, 1, 1, 1, 1, 1, 1, 1, 1, 1, 1, 1, 1, 1, 1, 1, 1, 1, 1, 1, 1, 1, 1, 1, 1, 1, 1, 1, 1, 1, 1, 1, 1, 1, 1, 1, 1, 1, 1, 1, 1, 1, 1, 1, 1, 1, 1, 1, 1, 1, 1, 1, 1, 1, 1, 1, 1, 1, 1, 1, 1, 1, 1, 1, 1, 1, 1, 1, 1, 1, 1, 1, 1, 1, 1, 1, 1, 1, 1, 1, 1, 1, 1, 1, 1, 1, 1, 1, 1, 1, 1, 1, 1, 1, 1, 1, 1, 1, 1, 1, 1, 1, 1, 1, 1, 1, 1, 1, 1, 1, 1, 1, 1, 1, 1, 1, 1, 1, 1, 1, 1, 1, 1, 1, 1, 1, 1, 1, 1, 1, 1, 1, 1, 1, 1, 1, 1, 1, 1, 1, 1, 1, 1, 1, 1, 1, 1, 1, 1, 1, 1, 1, 1, 1, 1, 1, 1], \"x0\": \" \", \"xaxis\": \"x\", \"y\": [10407.08585, 14418.2804, 28468.91901, 42303.69215, 1241.565, 6799.4580000000005, 34472.841, 32548.3405, 12557.6053, 18310.742, 1972.95, 40182.246, 10085.846, 3693.428, 9504.3103, 6858.4796, 6356.2707, 17178.6824, 20984.0936, 11737.84884, 1639.5631, 12829.4551, 5028.1466, 47403.88, 13405.3903, 3471.4096, 2416.955, 7726.854, 7441.053000000001, 24869.8368, 47462.894, 1981.5819, 7445.918000000001, 9617.66245, 2304.0022, 4686.3887, 39047.285, 12979.358, 2438.0552, 26926.5144, 8891.1395, 1708.0014, 7160.094, 1526.3120000000001, 21259.37795, 23563.016180000002, 8347.1643, 13747.87235, 39722.7462, 1242.816, 22462.04375, 2104.1134, 12574.048999999999, 10226.2842, 30063.58055, 16586.49771, 6666.243, 11362.755, 7789.635, 11763.0009, 2494.022, 2866.091, 11488.31695, 13143.33665, 3077.0955, 3277.1609999999996, 19515.5416, 4005.4225, 4747.0529, 13393.756000000001, 1720.3537, 1964.78, 5377.4578, 6986.696999999999, 19933.458, 12913.9924, 11938.25595, 1532.4697, 34779.615, 8765.249, 9282.4806, 9174.13565, 34254.05335, 1711.0268, 3484.3309999999997, 13937.6665, 9957.7216, 8083.9198, 7742.1098, 1263.249, 37165.1638, 9391.346, 9630.396999999999, 6203.90175, 6358.77645, 1137.011, 24603.04837, 1261.859, 9304.7019, 26109.32905, 12741.16745, 7518.02535, 8798.593, 18806.14547, 1824.2854, 2102.2647, 1826.8429999999998, 1917.3184, 21232.182259999998, 11363.2832, 11931.12525, 36124.5737, 21082.16, 6117.4945, 10450.552, 8062.764, 19199.944, 1815.8759, 39774.2763, 6289.7549, 8334.45755, 5966.8874, 21595.38229, 2497.0383, 11326.71487, 10601.412, 8615.3, 1135.9407, 1725.5523, 1515.3449, 5855.9025, 1909.52745, 11534.87265, 4646.759, 39241.442, 27218.43725, 17560.37975, 6849.026, 9869.8102, 9048.0273, 10982.5013, 1906.35825, 9144.565, 3875.7341, 4877.98105, 5425.02335, 8835.26495, 1832.094, 35585.576, 2867.1196, 9386.1613, 11244.3769, 39597.4072, 11381.3254, 51194.55914, 9361.3268, 7160.3303, 2689.4954, 4074.4537, 3906.127, 1632.56445, 6393.60345, 1967.0227, 7729.64575, 12928.7911, 33732.6867, 8116.68, 23967.38305, 22412.6485, 8027.968000000001, 1842.519, 10560.4917, 39871.7043, 2103.08, 6250.435, 4500.33925, 2302.3, 2680.9493, 37484.4493, 5926.846, 4915.05985, 1712.227, 41949.2441, 13770.0979, 1984.4533, 47269.85400000001, 11165.41765, 8302.53565, 8782.469000000001, 40103.89, 8342.90875, 10141.1362, 16138.76205, 6600.20595, 19350.3689, 20149.3229, 6940.90985, 11356.6609, 2721.3208, 15555.18875, 16232.847, 1646.4297, 8627.5411, 3861.20965, 11735.87905, 3268.84665, 11554.2236, 11253.421, 38344.566, 20420.60465, 8603.8234, 12949.1554, 10065.413, 38415.474, 20781.48892, 8733.22925, 9563.029, 26467.09737, 6664.68595, 2498.4144, 43813.8661, 8413.46305, 4433.3877, 9788.8659, 5615.369000000001, 25382.297000000002, 36950.2567, 13981.85035, 48675.5177, 1253.9360000000001, 8457.818000000001, 45702.02235, 13143.86485, 5415.6612, 1242.26, 1163.4627, 12730.9996, 1252.407, 19040.876, 23241.47453, 11743.9341, 6640.54485, 36837.467000000004, 11576.13, 41999.52, 8334.5896, 4243.59005, 11566.30055, 27346.04207, 43254.41795, 10269.46, 6610.1097, 12925.886, 8944.1151, 4449.462, 10825.2537, 60021.39897, 12323.936000000002, 1704.70015, 2523.1695, 35069.37452, 3070.8087, 4433.9159, 6059.173000000001, 6457.8434, 41034.2214, 39611.7577, 4661.28635, 32108.662819999998, 15161.5344, 9850.431999999999, 3847.6740000000004, 6748.5912, 25309.488999999998, 2803.69785, 6272.4772, 8606.2174, 20745.9891, 6082.405, 1261.442, 1769.53165, 3537.703, 5116.5004, 9620.3307, 5125.2157, 6406.4107, 27000.98473, 5373.36425, 10214.636, 24915.22085, 6123.5688, 14119.62, 37742.5757, 4058.71245, 43921.1837, 33475.81715, 3279.86855, 3309.7926, 14394.5579, 21098.55405, 17904.52705, 11289.10925, 11884.04858, 9058.7303, 8162.71625, 40720.55105, 4441.21315, 21797.0004, 34303.1672, 9222.4026, 20630.28351, 8703.456, 18648.4217, 10976.24575, 4040.55825, 11946.6259, 10231.4999, 15820.698999999999, 2250.8352, 7265.7025, 7222.78625, 12523.6048, 16450.8947, 49577.6624, 11743.298999999999, 17179.522, 11345.518999999998, 9487.6442, 6600.361, 4260.744000000001, 18963.171919999997, 1149.3959, 21472.4788, 3935.1799, 4894.7533, 8964.06055, 5253.524, 9140.951, 23568.272, 7526.70645, 1141.4451, 42856.837999999996, 35147.52848, 1635.73365, 36189.1017, 10577.087, 35491.64, 8605.3615, 10461.9794, 6653.7886, 10422.91665, 10072.05505, 41919.097, 30166.618169999998, 19214.705530000003, 4762.329000000001, 42112.2356, 2362.22905, 3704.3545, 12890.05765, 14358.36437, 10096.97, 19361.9988, 5124.1887, 2775.19215, 48549.17835, 10600.5483, 21223.6758, 8068.185, 3481.868, 52590.82939, 4746.344, 34617.84065, 12142.5786, 4504.6624, 6837.3687, 9225.2564, 20773.62775, 4032.2407, 7147.4728, 12609.88702, 1705.6245, 38245.59327, 2897.3235, 14478.33015, 5428.7277, 2045.68525, 18767.7377, 4237.12655, 4402.233, 8116.26885, 44260.7499, 9863.4718, 12129.61415, 6710.1919, 4428.88785, 1969.614, 2534.39375, 28868.6639, 7740.3369999999995, 36085.219, 15518.18025, 1625.43375, 4399.731, 13390.559, 36307.7983, 38998.546, 7512.267, 1627.28245, 3443.0640000000003], \"y0\": \" \", \"yaxis\": \"y\"}],\n",
              "                        {\"boxmode\": \"group\", \"height\": 400, \"legend\": {\"tracegroupgap\": 0}, \"margin\": {\"t\": 60}, \"template\": {\"data\": {\"bar\": [{\"error_x\": {\"color\": \"#2a3f5f\"}, \"error_y\": {\"color\": \"#2a3f5f\"}, \"marker\": {\"line\": {\"color\": \"#E5ECF6\", \"width\": 0.5}}, \"type\": \"bar\"}], \"barpolar\": [{\"marker\": {\"line\": {\"color\": \"#E5ECF6\", \"width\": 0.5}}, \"type\": \"barpolar\"}], \"carpet\": [{\"aaxis\": {\"endlinecolor\": \"#2a3f5f\", \"gridcolor\": \"white\", \"linecolor\": \"white\", \"minorgridcolor\": \"white\", \"startlinecolor\": \"#2a3f5f\"}, \"baxis\": {\"endlinecolor\": \"#2a3f5f\", \"gridcolor\": \"white\", \"linecolor\": \"white\", \"minorgridcolor\": \"white\", \"startlinecolor\": \"#2a3f5f\"}, \"type\": \"carpet\"}], \"choropleth\": [{\"colorbar\": {\"outlinewidth\": 0, \"ticks\": \"\"}, \"type\": \"choropleth\"}], \"contour\": [{\"colorbar\": {\"outlinewidth\": 0, \"ticks\": \"\"}, \"colorscale\": [[0.0, \"#0d0887\"], [0.1111111111111111, \"#46039f\"], [0.2222222222222222, \"#7201a8\"], [0.3333333333333333, \"#9c179e\"], [0.4444444444444444, \"#bd3786\"], [0.5555555555555556, \"#d8576b\"], [0.6666666666666666, \"#ed7953\"], [0.7777777777777778, \"#fb9f3a\"], [0.8888888888888888, \"#fdca26\"], [1.0, \"#f0f921\"]], \"type\": \"contour\"}], \"contourcarpet\": [{\"colorbar\": {\"outlinewidth\": 0, \"ticks\": \"\"}, \"type\": \"contourcarpet\"}], \"heatmap\": [{\"colorbar\": {\"outlinewidth\": 0, \"ticks\": \"\"}, \"colorscale\": [[0.0, \"#0d0887\"], [0.1111111111111111, \"#46039f\"], [0.2222222222222222, \"#7201a8\"], [0.3333333333333333, \"#9c179e\"], [0.4444444444444444, \"#bd3786\"], [0.5555555555555556, \"#d8576b\"], [0.6666666666666666, \"#ed7953\"], [0.7777777777777778, \"#fb9f3a\"], [0.8888888888888888, \"#fdca26\"], [1.0, \"#f0f921\"]], \"type\": \"heatmap\"}], \"heatmapgl\": [{\"colorbar\": {\"outlinewidth\": 0, \"ticks\": \"\"}, \"colorscale\": [[0.0, \"#0d0887\"], [0.1111111111111111, \"#46039f\"], [0.2222222222222222, \"#7201a8\"], [0.3333333333333333, \"#9c179e\"], [0.4444444444444444, \"#bd3786\"], [0.5555555555555556, \"#d8576b\"], [0.6666666666666666, \"#ed7953\"], [0.7777777777777778, \"#fb9f3a\"], [0.8888888888888888, \"#fdca26\"], [1.0, \"#f0f921\"]], \"type\": \"heatmapgl\"}], \"histogram\": [{\"marker\": {\"colorbar\": {\"outlinewidth\": 0, \"ticks\": \"\"}}, \"type\": \"histogram\"}], \"histogram2d\": [{\"colorbar\": {\"outlinewidth\": 0, \"ticks\": \"\"}, \"colorscale\": [[0.0, \"#0d0887\"], [0.1111111111111111, \"#46039f\"], [0.2222222222222222, \"#7201a8\"], [0.3333333333333333, \"#9c179e\"], [0.4444444444444444, \"#bd3786\"], [0.5555555555555556, \"#d8576b\"], [0.6666666666666666, \"#ed7953\"], [0.7777777777777778, \"#fb9f3a\"], [0.8888888888888888, \"#fdca26\"], [1.0, \"#f0f921\"]], \"type\": \"histogram2d\"}], \"histogram2dcontour\": [{\"colorbar\": {\"outlinewidth\": 0, \"ticks\": \"\"}, \"colorscale\": [[0.0, \"#0d0887\"], [0.1111111111111111, \"#46039f\"], [0.2222222222222222, \"#7201a8\"], [0.3333333333333333, \"#9c179e\"], [0.4444444444444444, \"#bd3786\"], [0.5555555555555556, \"#d8576b\"], [0.6666666666666666, \"#ed7953\"], [0.7777777777777778, \"#fb9f3a\"], [0.8888888888888888, \"#fdca26\"], [1.0, \"#f0f921\"]], \"type\": \"histogram2dcontour\"}], \"mesh3d\": [{\"colorbar\": {\"outlinewidth\": 0, \"ticks\": \"\"}, \"type\": \"mesh3d\"}], \"parcoords\": [{\"line\": {\"colorbar\": {\"outlinewidth\": 0, \"ticks\": \"\"}}, \"type\": \"parcoords\"}], \"pie\": [{\"automargin\": true, \"type\": \"pie\"}], \"scatter\": [{\"marker\": {\"colorbar\": {\"outlinewidth\": 0, \"ticks\": \"\"}}, \"type\": \"scatter\"}], \"scatter3d\": [{\"line\": {\"colorbar\": {\"outlinewidth\": 0, \"ticks\": \"\"}}, \"marker\": {\"colorbar\": {\"outlinewidth\": 0, \"ticks\": \"\"}}, \"type\": \"scatter3d\"}], \"scattercarpet\": [{\"marker\": {\"colorbar\": {\"outlinewidth\": 0, \"ticks\": \"\"}}, \"type\": \"scattercarpet\"}], \"scattergeo\": [{\"marker\": {\"colorbar\": {\"outlinewidth\": 0, \"ticks\": \"\"}}, \"type\": \"scattergeo\"}], \"scattergl\": [{\"marker\": {\"colorbar\": {\"outlinewidth\": 0, \"ticks\": \"\"}}, \"type\": \"scattergl\"}], \"scattermapbox\": [{\"marker\": {\"colorbar\": {\"outlinewidth\": 0, \"ticks\": \"\"}}, \"type\": \"scattermapbox\"}], \"scatterpolar\": [{\"marker\": {\"colorbar\": {\"outlinewidth\": 0, \"ticks\": \"\"}}, \"type\": \"scatterpolar\"}], \"scatterpolargl\": [{\"marker\": {\"colorbar\": {\"outlinewidth\": 0, \"ticks\": \"\"}}, \"type\": \"scatterpolargl\"}], \"scatterternary\": [{\"marker\": {\"colorbar\": {\"outlinewidth\": 0, \"ticks\": \"\"}}, \"type\": \"scatterternary\"}], \"surface\": [{\"colorbar\": {\"outlinewidth\": 0, \"ticks\": \"\"}, \"colorscale\": [[0.0, \"#0d0887\"], [0.1111111111111111, \"#46039f\"], [0.2222222222222222, \"#7201a8\"], [0.3333333333333333, \"#9c179e\"], [0.4444444444444444, \"#bd3786\"], [0.5555555555555556, \"#d8576b\"], [0.6666666666666666, \"#ed7953\"], [0.7777777777777778, \"#fb9f3a\"], [0.8888888888888888, \"#fdca26\"], [1.0, \"#f0f921\"]], \"type\": \"surface\"}], \"table\": [{\"cells\": {\"fill\": {\"color\": \"#EBF0F8\"}, \"line\": {\"color\": \"white\"}}, \"header\": {\"fill\": {\"color\": \"#C8D4E3\"}, \"line\": {\"color\": \"white\"}}, \"type\": \"table\"}]}, \"layout\": {\"annotationdefaults\": {\"arrowcolor\": \"#2a3f5f\", \"arrowhead\": 0, \"arrowwidth\": 1}, \"coloraxis\": {\"colorbar\": {\"outlinewidth\": 0, \"ticks\": \"\"}}, \"colorscale\": {\"diverging\": [[0, \"#8e0152\"], [0.1, \"#c51b7d\"], [0.2, \"#de77ae\"], [0.3, \"#f1b6da\"], [0.4, \"#fde0ef\"], [0.5, \"#f7f7f7\"], [0.6, \"#e6f5d0\"], [0.7, \"#b8e186\"], [0.8, \"#7fbc41\"], [0.9, \"#4d9221\"], [1, \"#276419\"]], \"sequential\": [[0.0, \"#0d0887\"], [0.1111111111111111, \"#46039f\"], [0.2222222222222222, \"#7201a8\"], [0.3333333333333333, \"#9c179e\"], [0.4444444444444444, \"#bd3786\"], [0.5555555555555556, \"#d8576b\"], [0.6666666666666666, \"#ed7953\"], [0.7777777777777778, \"#fb9f3a\"], [0.8888888888888888, \"#fdca26\"], [1.0, \"#f0f921\"]], \"sequentialminus\": [[0.0, \"#0d0887\"], [0.1111111111111111, \"#46039f\"], [0.2222222222222222, \"#7201a8\"], [0.3333333333333333, \"#9c179e\"], [0.4444444444444444, \"#bd3786\"], [0.5555555555555556, \"#d8576b\"], [0.6666666666666666, \"#ed7953\"], [0.7777777777777778, \"#fb9f3a\"], [0.8888888888888888, \"#fdca26\"], [1.0, \"#f0f921\"]]}, \"colorway\": [\"#636efa\", \"#EF553B\", \"#00cc96\", \"#ab63fa\", \"#FFA15A\", \"#19d3f3\", \"#FF6692\", \"#B6E880\", \"#FF97FF\", \"#FECB52\"], \"font\": {\"color\": \"#2a3f5f\"}, \"geo\": {\"bgcolor\": \"white\", \"lakecolor\": \"white\", \"landcolor\": \"#E5ECF6\", \"showlakes\": true, \"showland\": true, \"subunitcolor\": \"white\"}, \"hoverlabel\": {\"align\": \"left\"}, \"hovermode\": \"closest\", \"mapbox\": {\"style\": \"light\"}, \"paper_bgcolor\": \"white\", \"plot_bgcolor\": \"#E5ECF6\", \"polar\": {\"angularaxis\": {\"gridcolor\": \"white\", \"linecolor\": \"white\", \"ticks\": \"\"}, \"bgcolor\": \"#E5ECF6\", \"radialaxis\": {\"gridcolor\": \"white\", \"linecolor\": \"white\", \"ticks\": \"\"}}, \"scene\": {\"xaxis\": {\"backgroundcolor\": \"#E5ECF6\", \"gridcolor\": \"white\", \"gridwidth\": 2, \"linecolor\": \"white\", \"showbackground\": true, \"ticks\": \"\", \"zerolinecolor\": \"white\"}, \"yaxis\": {\"backgroundcolor\": \"#E5ECF6\", \"gridcolor\": \"white\", \"gridwidth\": 2, \"linecolor\": \"white\", \"showbackground\": true, \"ticks\": \"\", \"zerolinecolor\": \"white\"}, \"zaxis\": {\"backgroundcolor\": \"#E5ECF6\", \"gridcolor\": \"white\", \"gridwidth\": 2, \"linecolor\": \"white\", \"showbackground\": true, \"ticks\": \"\", \"zerolinecolor\": \"white\"}}, \"shapedefaults\": {\"line\": {\"color\": \"#2a3f5f\"}}, \"ternary\": {\"aaxis\": {\"gridcolor\": \"white\", \"linecolor\": \"white\", \"ticks\": \"\"}, \"baxis\": {\"gridcolor\": \"white\", \"linecolor\": \"white\", \"ticks\": \"\"}, \"bgcolor\": \"#E5ECF6\", \"caxis\": {\"gridcolor\": \"white\", \"linecolor\": \"white\", \"ticks\": \"\"}}, \"title\": {\"x\": 0.05}, \"xaxis\": {\"automargin\": true, \"gridcolor\": \"white\", \"linecolor\": \"white\", \"ticks\": \"\", \"title\": {\"standoff\": 15}, \"zerolinecolor\": \"white\", \"zerolinewidth\": 2}, \"yaxis\": {\"automargin\": true, \"gridcolor\": \"white\", \"linecolor\": \"white\", \"ticks\": \"\", \"title\": {\"standoff\": 15}, \"zerolinecolor\": \"white\", \"zerolinewidth\": 2}}}, \"title\": {\"text\": \"Female vs Male\"}, \"width\": 800, \"xaxis\": {\"anchor\": \"y\", \"categoryarray\": [0, 1], \"categoryorder\": \"array\", \"domain\": [0.0, 1.0], \"showticklabels\": false, \"title\": {\"text\": \"sex\"}}, \"yaxis\": {\"anchor\": \"x\", \"domain\": [0.0, 1.0], \"title\": {\"text\": \"charges\"}}},\n",
              "                        {\"responsive\": true}\n",
              "                    ).then(function(){\n",
              "                            \n",
              "var gd = document.getElementById('16f18307-1d32-4860-8e04-81fe7a266e99');\n",
              "var x = new MutationObserver(function (mutations, observer) {{\n",
              "        var display = window.getComputedStyle(gd).display;\n",
              "        if (!display || display === 'none') {{\n",
              "            console.log([gd, 'removed!']);\n",
              "            Plotly.purge(gd);\n",
              "            observer.disconnect();\n",
              "        }}\n",
              "}});\n",
              "\n",
              "// Listen for the removal of the full notebook cells\n",
              "var notebookContainer = gd.closest('#notebook-container');\n",
              "if (notebookContainer) {{\n",
              "    x.observe(notebookContainer, {childList: true});\n",
              "}}\n",
              "\n",
              "// Listen for the clearing of the current output cell\n",
              "var outputEl = gd.closest('.output');\n",
              "if (outputEl) {{\n",
              "    x.observe(outputEl, {childList: true});\n",
              "}}\n",
              "\n",
              "                        })\n",
              "                };\n",
              "                \n",
              "            </script>\n",
              "        </div>\n",
              "</body>\n",
              "</html>"
            ]
          },
          "metadata": {
            "tags": []
          }
        }
      ]
    },
    {
      "cell_type": "code",
      "metadata": {
        "id": "rYsOZhJu3dq3",
        "colab_type": "code",
        "outputId": "ade3bfc2-3d48-4dbf-9fc7-b8efc2d6fd84",
        "colab": {
          "base_uri": "https://localhost:8080/",
          "height": 34
        }
      },
      "source": [
        "import chart_studio.plotly as py\n",
        "py.plot(fig1, filename='sex', auto_open=True)"
      ],
      "execution_count": 154,
      "outputs": [
        {
          "output_type": "execute_result",
          "data": {
            "text/plain": [
              "'https://plot.ly/~lkhuynh/9/'"
            ]
          },
          "metadata": {
            "tags": []
          },
          "execution_count": 154
        }
      ]
    },
    {
      "cell_type": "code",
      "metadata": {
        "id": "pl4Vc0mx3nTB",
        "colab_type": "code",
        "outputId": "6f581ad3-d0b4-4a5b-837f-bfe7226664ec",
        "colab": {
          "base_uri": "https://localhost:8080/",
          "height": 54
        }
      },
      "source": [
        "import chart_studio.tools as tls \n",
        "tls.get_embed('https://plot.ly/~lkhuynh/9/')"
      ],
      "execution_count": 155,
      "outputs": [
        {
          "output_type": "execute_result",
          "data": {
            "text/plain": [
              "'<iframe id=\"igraph\" scrolling=\"no\" style=\"border:none;\" seamless=\"seamless\" src=\"https://plot.ly/~lkhuynh/9.embed\" height=\"525\" width=\"100%\"></iframe>'"
            ]
          },
          "metadata": {
            "tags": []
          },
          "execution_count": 155
        }
      ]
    },
    {
      "cell_type": "code",
      "metadata": {
        "id": "Lq_i0aPETdiC",
        "colab_type": "code",
        "outputId": "d1070866-bccf-4855-cc58-2795ae5b9229",
        "colab": {
          "base_uri": "https://localhost:8080/",
          "height": 367
        }
      },
      "source": [
        "import plotly.express as px\n",
        "fig2 = px.scatter(train, x='age', y='charges', color='bmi', size='sex', width=800,\n",
        "                 height=350)\n",
        "\n",
        "fig2.show()"
      ],
      "execution_count": 156,
      "outputs": [
        {
          "output_type": "display_data",
          "data": {
            "text/html": [
              "<html>\n",
              "<head><meta charset=\"utf-8\" /></head>\n",
              "<body>\n",
              "    <div>\n",
              "            <script src=\"https://cdnjs.cloudflare.com/ajax/libs/mathjax/2.7.5/MathJax.js?config=TeX-AMS-MML_SVG\"></script><script type=\"text/javascript\">if (window.MathJax) {MathJax.Hub.Config({SVG: {font: \"STIX-Web\"}});}</script>\n",
              "                <script type=\"text/javascript\">window.PlotlyConfig = {MathJaxConfig: 'local'};</script>\n",
              "        <script src=\"https://cdn.plot.ly/plotly-latest.min.js\"></script>    \n",
              "            <div id=\"2fd16c9d-2a70-4970-933f-9a08a6ffba86\" class=\"plotly-graph-div\" style=\"height:350px; width:800px;\"></div>\n",
              "            <script type=\"text/javascript\">\n",
              "                \n",
              "                    window.PLOTLYENV=window.PLOTLYENV || {};\n",
              "                    \n",
              "                if (document.getElementById(\"2fd16c9d-2a70-4970-933f-9a08a6ffba86\")) {\n",
              "                    Plotly.newPlot(\n",
              "                        '2fd16c9d-2a70-4970-933f-9a08a6ffba86',\n",
              "                        [{\"hoverlabel\": {\"namelength\": 0}, \"hovertemplate\": \"age=%{x}<br>charges=%{y}<br>sex=%{marker.size}<br>bmi=%{marker.color}\", \"legendgroup\": \"\", \"marker\": {\"color\": [26.6, 20.045, 28.215, 31.79, 39.16, 25.84, 24.32, 36.67, 30.685, 32.1, 26.6, 24.225, 37.9, 27.645, 19.8, 31.065, 19.8, 28.5, 32.7, 41.91, 34.295, 26.315, 27.83, 27.93, 30.25, 31.57, 28.5, 33.44, 25.8, 47.6, 34.1, 36.1, 25.84, 23.37, 23.6, 45.9, 41.47, 42.24, 24.1, 32.965, 28.9, 23.94, 45.43, 27.36, 28.595, 31.4, 27.74, 33.155, 27.74, 27.645, 25.8, 20.235, 27.0, 31.16, 29.0, 25.08, 30.59, 17.29, 29.64, 36.3, 41.47, 38.94, 35.2, 42.94, 29.92, 27.4, 30.2, 26.41, 24.32, 28.785, 39.995, 23.18, 31.9, 42.9, 32.01, 33.7, 33.0, 28.31, 29.0, 23.87, 27.455, 37.0, 26.18, 46.53, 34.2, 37.4, 50.38, 23.76, 27.74, 22.04, 21.85, 34.8, 25.46, 43.89, 25.74, 32.3, 32.3, 32.49, 35.8, 31.1, 32.2, 26.98, 28.6, 32.9, 24.605, 34.1, 21.755, 17.195, 31.02, 26.62, 38.17, 21.565, 44.88, 20.7, 29.925, 27.36, 43.4, 38.28, 37.715, 31.02, 42.4, 26.79, 35.7, 29.7, 25.08, 32.11, 30.5, 27.2, 30.115, 32.205, 19.095, 20.1, 33.535, 29.81, 31.73, 23.75, 37.1, 31.6, 27.6, 31.35, 24.64, 19.95, 27.61, 32.775, 31.54, 33.1, 30.03, 31.73, 22.0, 33.82, 32.3, 36.67, 29.7, 36.85, 25.46, 32.3, 28.785, 30.305, 19.95, 27.6, 35.53, 34.8, 32.3, 37.4, 33.155, 25.84, 31.635, 31.065, 23.32, 29.64, 23.7, 27.55, 31.35, 27.74, 47.52, 26.62, 32.11, 35.4, 37.62, 34.58, 32.965, 25.9, 36.85, 39.7, 32.3, 28.215, 35.2, 28.025, 31.255, 46.2, 25.9, 34.1, 42.4, 27.6, 37.51, 34.4, 35.3, 37.51, 19.855, 29.7, 26.695, 36.955, 25.365, 37.0, 35.31, 28.025, 29.59, 32.56, 24.3, 26.03, 35.53, 37.62, 38.0, 19.95, 23.56, 36.63, 36.86, 36.0, 31.92, 34.4, 36.48, 36.86, 29.6, 36.08, 25.175, 30.14, 28.88, 33.155, 33.33, 38.28, 28.88, 28.3, 21.85, 27.72, 39.6, 32.3, 44.7, 25.9, 28.16, 26.51, 32.45, 17.955, 36.67, 34.865, 34.21, 23.6, 28.2, 25.85, 38.83, 33.345, 24.86, 18.715, 32.67, 36.29, 26.7, 30.495, 37.73, 42.46, 39.7, 39.6, 27.5, 41.325, 33.33, 33.77, 21.755, 23.21, 19.95, 31.255, 20.6, 31.255, 27.9, 21.85, 18.335, 30.8, 37.8, 28.975, 26.315, 32.56, 34.8, 28.025, 22.8, 30.1, 33.4, 39.16, 28.88, 29.92, 29.07, 37.07, 40.37, 28.31, 28.975, 27.7, 22.6, 36.7, 28.7, 33.88, 17.8, 27.36, 39.49, 25.0, 26.695, 31.065, 30.02, 32.205, 34.6, 20.9, 29.92, 30.4, 35.6, 37.335, 27.94, 31.92, 33.1, 35.97, 24.31, 26.41, 22.61, 32.68, 32.395, 27.36, 30.78, 49.06, 25.27, 36.4, 26.51, 22.42, 37.73, 35.97, 38.06, 30.03, 26.8, 22.895, 40.28, 25.555, 29.355, 28.4, 26.695, 27.93, 26.125, 31.79, 33.8, 33.5, 30.9, 27.265, 31.73, 30.3, 24.795, 38.28, 19.95, 28.7, 25.3, 28.4, 33.33, 37.07, 27.72, 22.3, 23.2, 22.135, 20.235, 22.135, 21.375, 37.05, 20.8, 35.91, 17.67, 37.07, 33.915, 26.22, 22.22, 28.9, 24.6, 30.115, 30.21, 32.965, 28.5, 38.39, 28.31, 36.005, 40.81, 40.47, 27.83, 26.18, 31.79, 41.8, 23.845, 25.935, 22.135, 25.4, 43.34, 35.97, 30.59, 35.3, 39.425, 30.78, 28.31, 22.895, 36.08, 34.105, 29.81, 36.08, 26.41, 26.315, 34.01, 24.42, 32.68, 26.22, 23.65, 41.325, 24.7, 27.3, 35.815, 24.225, 30.8, 35.53, 34.4, 26.8, 19.19, 20.235, 28.595, 35.435, 38.17, 27.94, 28.6, 39.4, 33.2, 29.8, 23.56, 33.66, 21.4, 33.4, 30.1, 33.0, 40.375, 34.3, 36.765, 28.405, 33.66, 31.79, 21.85, 30.495, 27.1, 31.73, 24.31, 39.16, 24.3, 25.1, 30.495, 39.1, 35.53, 31.2, 36.765, 27.5, 42.13, 19.475, 28.7, 36.2, 40.565, 32.68, 30.115, 33.915, 28.9, 25.08, 26.505, 20.3, 53.13, 32.9, 29.64, 27.6, 27.1, 33.345, 26.03, 24.985, 34.39, 25.46, 16.815, 40.185, 39.6, 35.3, 43.7, 21.47, 46.09, 30.8, 32.775, 33.44, 28.595, 27.645, 32.6, 40.945, 31.35, 28.7, 18.3, 20.235, 34.105, 32.3, 41.23, 25.555, 29.7, 28.93, 43.89, 33.0, 33.63, 31.4, 34.485, 29.925, 25.08, 31.9, 31.6, 23.655, 24.7, 28.12, 23.085, 27.55, 30.9, 29.26, 22.895, 26.03, 32.11, 29.92, 29.4, 39.05, 23.0, 29.26, 27.2, 34.96, 24.09, 42.13, 40.5, 27.265, 40.185, 29.735, 33.33, 33.66, 41.1, 31.6, 23.8, 28.88, 29.8, 20.615, 29.735, 21.78, 28.1, 27.36, 38.095, 28.69, 34.7, 34.1, 29.735, 28.5, 17.86, 29.83, 24.13, 29.83, 30.495, 25.6, 31.46, 44.745, 23.655, 28.215, 30.875, 29.9, 37.1, 25.27, 28.215, 29.355, 24.795, 20.52, 26.22, 39.82, 32.3, 36.0, 34.43, 27.17, 32.395, 30.78, 33.155, 33.63, 25.0, 30.685, 25.745, 21.8, 25.84, 38.095, 40.66, 26.41, 24.225, 22.895, 24.795, 32.775, 21.78, 44.77, 30.875, 23.085, 30.495, 28.31, 26.885, 44.22, 33.4, 37.4, 31.68, 27.075, 37.1, 29.64, 44.0, 23.18, 37.3, 28.7, 29.83, 41.91, 32.4, 33.725, 36.85, 28.975, 32.01, 30.59, 31.35, 22.61, 33.99, 18.6, 30.21, 33.155, 24.035, 19.3, 28.88, 37.05, 26.41, 21.375, 25.175, 33.99, 24.32, 27.4, 36.765, 33.11, 26.695, 26.03, 21.755, 25.3, 36.96, 26.6, 39.05, 26.4, 39.2, 30.115, 35.815, 19.8, 23.3, 29.48, 36.52, 29.26, 26.2, 27.94, 30.305, 34.6, 29.9, 30.3, 38.83, 43.01, 25.365, 28.12, 28.05, 34.21, 25.27, 31.445, 36.575, 21.47, 18.5, 30.8, 24.605, 34.1, 28.0, 19.855, 37.29, 32.12, 34.2, 30.5, 28.5, 27.835, 31.73, 22.8, 22.1, 30.8, 30.8, 20.35, 31.16, 33.44, 24.89, 31.16, 24.035, 23.37, 30.495, 32.3, 25.8, 24.7, 36.19, 17.29, 23.37, 38.6, 22.6, 29.5, 45.54, 27.55, 39.49, 27.83, 25.2, 36.385, 32.395, 30.25, 39.14, 32.8, 42.75, 25.8, 24.42, 42.13, 17.385, 40.565, 30.97, 36.3, 34.96, 27.72, 34.7, 24.42, 27.645, 33.3, 36.2, 30.4, 31.13, 32.8, 28.3, 23.465, 38.665, 27.1, 39.05, 34.77, 32.395, 33.535, 25.74, 33.44, 33.11, 33.535, 25.74, 33.66, 27.835, 26.03, 41.8, 32.2, 25.46, 28.025, 24.13, 34.77, 34.32, 24.32, 26.79, 23.75, 34.8, 26.07, 33.7, 29.45, 30.59, 30.2, 35.2, 29.48, 31.02, 25.52, 32.965, 37.43, 27.28, 39.33, 25.175, 22.77, 20.13, 19.0, 27.5, 27.645, 31.5, 34.58, 32.015, 34.21, 26.73, 24.32, 28.785, 37.43, 32.34, 24.51, 22.515, 23.4, 27.93, 21.7, 35.625, 28.31, 37.1, 39.615, 32.9, 25.175, 34.1, 20.425, 29.7, 30.8, 38.17, 30.2, 29.6, 41.23, 21.755, 34.8], \"coloraxis\": \"coloraxis\", \"size\": [0, 0, 1, 0, 1, 0, 0, 1, 1, 0, 0, 0, 0, 0, 0, 0, 1, 1, 1, 0, 0, 0, 0, 0, 1, 1, 1, 0, 1, 0, 1, 1, 0, 0, 0, 1, 1, 0, 0, 0, 0, 1, 1, 1, 0, 0, 0, 0, 1, 0, 0, 0, 1, 0, 0, 0, 1, 1, 1, 1, 1, 1, 1, 0, 0, 1, 1, 0, 1, 0, 0, 0, 0, 1, 1, 1, 0, 0, 0, 0, 1, 0, 1, 1, 1, 1, 1, 1, 0, 0, 1, 0, 1, 0, 0, 0, 0, 0, 1, 1, 0, 0, 0, 0, 1, 1, 0, 0, 0, 0, 1, 1, 1, 1, 1, 1, 1, 1, 1, 1, 1, 0, 1, 1, 0, 1, 1, 1, 0, 1, 0, 0, 1, 0, 0, 1, 1, 0, 0, 0, 1, 1, 1, 0, 0, 1, 1, 0, 1, 1, 1, 0, 1, 0, 1, 0, 0, 1, 0, 0, 1, 1, 1, 0, 0, 1, 1, 1, 1, 0, 1, 1, 0, 1, 1, 1, 0, 1, 1, 0, 0, 0, 0, 1, 1, 0, 0, 1, 1, 0, 0, 1, 0, 1, 0, 1, 0, 1, 0, 0, 1, 1, 1, 1, 1, 0, 0, 1, 0, 1, 0, 0, 0, 0, 0, 0, 0, 0, 0, 1, 0, 1, 1, 1, 1, 0, 0, 0, 1, 0, 0, 1, 1, 0, 1, 1, 0, 1, 0, 1, 0, 0, 1, 0, 1, 0, 0, 0, 0, 1, 1, 1, 1, 0, 0, 0, 0, 1, 0, 1, 1, 0, 1, 1, 0, 1, 1, 1, 0, 0, 0, 0, 1, 1, 1, 1, 0, 0, 0, 1, 0, 1, 0, 0, 1, 0, 0, 1, 1, 0, 1, 0, 0, 1, 0, 0, 0, 0, 1, 0, 1, 1, 0, 1, 0, 1, 0, 0, 1, 0, 1, 0, 0, 1, 0, 1, 0, 0, 0, 0, 1, 1, 0, 1, 0, 1, 0, 1, 1, 1, 1, 0, 0, 1, 1, 0, 0, 1, 1, 1, 0, 0, 0, 0, 1, 1, 1, 0, 1, 1, 0, 1, 1, 1, 0, 1, 1, 0, 0, 0, 1, 0, 1, 0, 1, 1, 0, 0, 0, 1, 0, 1, 0, 0, 1, 1, 1, 0, 0, 1, 0, 0, 0, 1, 0, 1, 1, 1, 0, 0, 0, 1, 1, 1, 0, 1, 0, 1, 1, 0, 1, 1, 1, 0, 0, 1, 0, 1, 0, 1, 0, 0, 0, 1, 0, 0, 1, 1, 1, 1, 0, 1, 1, 1, 0, 1, 1, 1, 1, 1, 0, 1, 1, 1, 1, 1, 1, 1, 0, 1, 0, 1, 1, 0, 1, 1, 0, 0, 1, 0, 1, 0, 1, 0, 1, 1, 1, 0, 0, 1, 0, 1, 0, 1, 1, 0, 1, 1, 1, 0, 0, 1, 1, 0, 1, 0, 0, 1, 1, 0, 0, 1, 0, 1, 1, 0, 0, 1, 1, 0, 0, 0, 1, 1, 1, 0, 1, 0, 1, 1, 1, 0, 1, 0, 0, 0, 0, 0, 1, 0, 1, 1, 0, 0, 1, 1, 1, 0, 1, 0, 0, 1, 0, 1, 0, 1, 0, 1, 0, 1, 0, 1, 0, 1, 1, 1, 1, 1, 0, 1, 0, 1, 0, 1, 1, 1, 1, 1, 1, 1, 1, 1, 0, 0, 1, 0, 0, 0, 1, 1, 0, 0, 1, 0, 0, 0, 1, 0, 1, 0, 1, 0, 0, 0, 1, 1, 0, 1, 1, 0, 1, 0, 0, 1, 0, 1, 1, 1, 1, 1, 1, 0, 1, 0, 1, 0, 0, 1, 1, 0, 0, 1, 0, 0, 1, 1, 1, 0, 0, 1, 0, 1, 1, 0, 0, 0, 0, 0, 1, 0, 0, 1, 1, 1, 0, 1, 0, 0, 1, 0, 0, 0, 0, 1, 0, 0, 1, 0, 0, 1, 0, 0, 0, 1, 1, 1, 0, 0, 0, 0, 0, 0, 1, 1, 1, 1, 0, 1, 0, 1, 1, 1, 0, 0, 0, 1, 0, 1, 1, 1, 1, 0, 1, 0, 1, 1, 1, 0, 1, 0, 1, 1, 1, 1, 0, 0, 1, 0, 1, 1, 0, 1, 1, 0, 0, 1, 0, 0, 1, 0, 0, 0, 0, 0, 1, 1, 1, 1, 0, 1, 1, 1, 1, 1, 1, 0, 0, 0, 0, 1, 0, 0, 1, 1, 0, 1, 0, 0, 0, 1, 0, 0, 0, 1, 1, 0, 0, 0, 0, 1, 0, 1, 0, 0, 1, 1, 1, 0, 1, 0, 1, 1, 0, 1, 0, 1, 0, 0, 0, 0, 0, 1, 0, 1, 0, 0, 1, 0, 1, 0, 0, 1, 1, 0, 1, 1, 0, 1, 1, 0, 0, 1, 1, 1, 0, 0, 1, 1, 1, 0, 1, 1, 0, 1, 1, 1, 1, 1, 1, 0, 1, 1], \"sizemode\": \"area\", \"sizeref\": 0.0025, \"symbol\": \"circle\"}, \"mode\": \"markers\", \"name\": \"\", \"showlegend\": false, \"type\": \"scatter\", \"x\": [24, 27, 47, 45, 64, 36, 28, 48, 55, 59, 42, 24, 42, 47, 26, 31, 19, 31, 24, 56, 57, 39, 50, 48, 19, 61, 27, 46, 24, 37, 37, 53, 60, 37, 31, 27, 53, 18, 27, 41, 46, 41, 39, 18, 25, 27, 37, 41, 35, 45, 51, 22, 34, 29, 42, 61, 19, 18, 37, 61, 63, 29, 23, 33, 36, 44, 45, 44, 52, 20, 45, 49, 49, 51, 24, 45, 40, 23, 58, 39, 50, 20, 18, 32, 37, 62, 23, 64, 46, 61, 44, 59, 18, 44, 31, 54, 48, 19, 42, 21, 41, 55, 45, 19, 42, 39, 31, 26, 22, 31, 46, 18, 19, 19, 39, 21, 61, 55, 55, 21, 33, 25, 58, 48, 63, 56, 27, 29, 64, 52, 33, 57, 61, 44, 52, 21, 28, 41, 38, 18, 42, 22, 35, 40, 32, 63, 18, 62, 20, 36, 40, 51, 25, 63, 59, 56, 57, 58, 46, 50, 21, 19, 48, 52, 32, 49, 51, 24, 18, 26, 26, 62, 59, 51, 47, 46, 29, 19, 22, 22, 58, 29, 18, 51, 50, 18, 55, 37, 42, 43, 36, 18, 26, 46, 56, 19, 45, 49, 36, 55, 56, 60, 44, 51, 43, 35, 32, 23, 22, 21, 29, 28, 34, 38, 34, 31, 62, 22, 20, 23, 44, 21, 48, 58, 58, 55, 19, 42, 25, 18, 28, 39, 39, 46, 54, 47, 52, 31, 50, 23, 60, 27, 35, 23, 41, 47, 61, 48, 29, 46, 42, 23, 27, 33, 53, 45, 51, 33, 64, 56, 45, 42, 18, 18, 29, 21, 38, 21, 51, 27, 19, 21, 57, 37, 30, 57, 28, 43, 35, 20, 48, 43, 28, 18, 53, 62, 61, 50, 57, 19, 21, 35, 24, 52, 57, 18, 19, 50, 31, 62, 25, 31, 19, 50, 21, 19, 61, 22, 22, 34, 29, 18, 45, 51, 33, 53, 26, 31, 59, 48, 41, 58, 43, 28, 28, 51, 38, 42, 28, 32, 25, 30, 18, 19, 40, 19, 33, 20, 42, 59, 64, 33, 45, 38, 18, 49, 51, 18, 56, 45, 42, 19, 51, 37, 59, 21, 43, 36, 44, 33, 34, 51, 26, 61, 26, 22, 47, 50, 40, 35, 32, 20, 38, 64, 18, 38, 63, 60, 55, 20, 45, 42, 20, 52, 49, 56, 44, 51, 35, 64, 20, 39, 46, 48, 56, 29, 41, 40, 31, 27, 39, 42, 57, 20, 62, 25, 32, 63, 19, 20, 45, 23, 46, 19, 43, 55, 47, 21, 58, 28, 18, 57, 53, 20, 62, 37, 45, 56, 53, 36, 24, 55, 46, 48, 52, 41, 27, 56, 29, 45, 49, 29, 45, 62, 28, 54, 57, 61, 30, 52, 63, 34, 57, 38, 19, 50, 48, 21, 50, 61, 48, 40, 59, 19, 18, 33, 60, 19, 33, 47, 29, 25, 58, 40, 38, 26, 53, 30, 57, 27, 50, 54, 31, 46, 31, 44, 41, 57, 53, 60, 39, 29, 53, 49, 40, 37, 59, 38, 46, 28, 54, 23, 52, 24, 18, 54, 50, 46, 59, 40, 18, 25, 30, 31, 45, 27, 29, 26, 33, 64, 54, 38, 56, 43, 18, 27, 19, 26, 18, 44, 30, 63, 32, 54, 28, 36, 47, 19, 32, 41, 53, 43, 31, 30, 38, 19, 20, 24, 35, 47, 35, 37, 19, 29, 62, 50, 59, 58, 36, 55, 55, 24, 47, 26, 53, 32, 39, 56, 61, 47, 36, 49, 27, 52, 27, 56, 44, 20, 21, 20, 25, 35, 51, 64, 39, 45, 33, 52, 18, 50, 40, 63, 46, 41, 31, 32, 23, 59, 18, 50, 41, 41, 61, 52, 55, 49, 24, 58, 30, 56, 18, 29, 58, 27, 18, 53, 25, 19, 54, 18, 60, 38, 22, 41, 34, 45, 27, 24, 60, 40, 59, 28, 59, 19, 41, 56, 64, 53, 30, 59, 62, 18, 35, 40, 58, 53, 59, 34, 36, 29, 18, 46, 40, 27, 30, 18, 55, 32, 41, 34, 34, 48, 19, 54, 33, 32, 19, 52, 48, 46, 18, 18, 50, 60, 24, 19, 23, 39, 56, 54, 34, 45, 53, 33, 39, 61, 54, 40, 53, 50, 31, 64, 37, 37, 42, 35, 36, 37, 25, 60, 21, 47, 58, 61, 20, 33, 18, 34, 23, 46, 35, 34, 23, 54, 50, 45, 23, 24, 19, 48, 54, 52, 47, 18, 18, 60, 19, 25, 18, 35, 58, 28, 55, 18, 60, 58, 48, 55, 57, 25, 38, 43, 39, 63, 47, 36, 30, 49, 44, 47, 24, 18, 27, 42, 50, 26, 19, 46, 63, 26, 41, 43, 62, 30, 18, 64, 22, 58, 43, 34, 44, 30, 36, 43, 44, 54, 18, 53, 59, 19, 44, 39, 28, 24, 19, 19, 25, 61, 44, 19, 26, 18, 39, 19, 36, 63, 18, 44, 39, 48, 19, 22], \"xaxis\": \"x\", \"y\": [3046.062, 16420.49455, 10407.08585, 17929.303369999998, 14418.2804, 5266.3656, 23288.9284, 28468.91901, 42303.69215, 14007.222, 21348.706000000002, 2842.76075, 6474.013000000001, 24535.69855, 3378.91, 4347.02335, 1241.565, 6799.4580000000005, 34472.841, 11093.6229, 13224.05705, 7201.70085, 19749.383380000003, 11015.1747, 32548.3405, 12557.6053, 18310.742, 8240.5896, 1972.95, 46113.511, 40182.246, 10085.846, 28923.136919999997, 6686.4313, 4931.647, 3693.428, 9504.3103, 38792.6856, 2974.1259999999997, 6571.02435, 8823.279, 6858.4796, 6356.2707, 17178.6824, 3213.62205, 34838.873, 7281.5056, 8538.28845, 20984.0936, 28340.18885, 9861.025, 2527.81865, 11737.84884, 3943.5954, 7050.642, 24513.09126, 1639.5631, 12829.4551, 5028.1466, 47403.88, 13405.3903, 3471.4096, 2416.955, 6360.9936, 5478.0368, 7726.854, 7441.053000000001, 7419.4779, 24869.8368, 2457.21115, 9704.66805, 10156.7832, 11552.903999999999, 47462.894, 1981.5819, 7445.918000000001, 7682.67, 18033.9679, 11842.442, 8582.3023, 9617.66245, 4830.63, 2304.0022, 4686.3887, 39047.285, 12979.358, 2438.0552, 26926.5144, 8026.6666, 13616.3586, 8891.1395, 36910.60803, 1708.0014, 46200.9851, 3756.6216, 11512.405, 10043.249, 36898.73308, 7160.094, 1526.3120000000001, 6775.960999999999, 11082.5772, 8516.829, 1748.774, 21259.37795, 23563.016180000002, 4134.08245, 14455.64405, 35595.5898, 3757.8448, 8347.1643, 13747.87235, 39722.7462, 1242.816, 22462.04375, 2104.1134, 12574.048999999999, 10226.2842, 30063.58055, 16586.49771, 6666.243, 4189.1131, 11362.755, 7789.635, 14254.6082, 11763.0009, 2494.022, 2866.091, 16455.70785, 11488.31695, 16776.30405, 12032.326000000001, 13143.33665, 8219.2039, 11187.6567, 3077.0955, 3277.1609999999996, 6186.1269999999995, 5383.536, 1622.1885, 19515.5416, 4005.4225, 4747.0529, 40003.33225, 5148.5526, 13393.756000000001, 1720.3537, 14043.4767, 1964.78, 5377.4578, 6986.696999999999, 10848.1343, 19933.458, 13887.9685, 12913.9924, 13430.265, 14394.39815, 11938.25595, 9193.8385, 24520.264, 1532.4697, 34779.615, 8765.249, 9634.538, 6128.79745, 9282.4806, 9174.13565, 34254.05335, 1711.0268, 24671.66334, 3484.3309999999997, 13937.6665, 12622.1795, 9957.7216, 8083.9198, 7742.1098, 4922.9159, 1263.249, 37165.1638, 3925.7582, 12430.95335, 3353.284, 36149.4835, 9391.346, 9630.396999999999, 2200.83085, 44423.803, 6203.90175, 6358.77645, 45863.205, 5472.4490000000005, 1137.011, 3410.324, 24603.04837, 12265.5069, 1261.859, 7348.142, 9304.7019, 5458.04645, 11881.358, 26109.32905, 12741.16745, 7518.02535, 8798.593, 18806.14547, 20234.85475, 4562.8421, 1824.2854, 2150.469, 2102.2647, 3366.6697, 3766.8838, 6196.448, 7133.9025, 4992.3764, 4949.7587, 31620.001060000002, 2166.732, 2261.5688, 1826.8429999999998, 12797.20962, 1917.3184, 21232.182259999998, 11363.2832, 11931.12525, 11881.9696, 17748.5062, 7639.41745, 36124.5737, 14133.03775, 4337.7352, 21082.16, 6117.4945, 8232.6388, 10450.552, 8062.764, 11411.685, 19199.944, 10702.6424, 1815.8759, 45008.9555, 15006.57945, 39774.2763, 2899.48935, 6289.7549, 8539.671, 13041.921, 24180.9335, 5138.2567, 8334.45755, 5966.8874, 21595.38229, 2497.0383, 6551.7501, 11150.78, 39725.51805, 9877.6077, 11326.71487, 14319.031, 10601.412, 8615.3, 7650.77375, 1135.9407, 1725.5523, 16657.71745, 1515.3449, 5855.9025, 1909.52745, 9264.796999999999, 3956.07145, 16884.924, 15359.1045, 11534.87265, 4646.759, 39241.442, 27218.43725, 5312.16985, 40941.2854, 5246.047, 17560.37975, 8269.044, 6849.026, 3172.018, 1633.0444, 9869.8102, 13457.9608, 29141.3603, 9048.0273, 10982.5013, 17468.9839, 1906.35825, 6414.178000000001, 2457.502, 9144.565, 11455.28, 11482.63485, 1727.785, 25656.575259999998, 3875.7341, 13451.122, 4877.98105, 5425.02335, 33307.5508, 8835.26495, 2020.1770000000001, 1832.094, 30942.1918, 33907.547999999995, 35585.576, 5989.52365, 2867.1196, 2205.9808, 7345.084, 9386.1613, 4185.0979, 11244.3769, 3176.8159, 4738.2682, 14590.63205, 9447.3824, 39597.4072, 11381.3254, 21771.3423, 51194.55914, 4340.4409, 9361.3268, 5397.6167, 7160.3303, 2689.4954, 4074.4537, 3906.127, 4719.52405, 2217.6012, 1632.56445, 6393.60345, 2331.519, 4571.41305, 1967.0227, 7729.64575, 12928.7911, 47928.03, 37079.372, 8520.026, 6555.07035, 33732.6867, 8116.68, 23967.38305, 1631.8212, 22412.6485, 8027.968000000001, 7045.499, 1842.519, 10560.4917, 39871.7043, 14001.1338, 2103.08, 6250.435, 7228.21565, 19594.80965, 5354.07465, 4500.33925, 46255.1125, 2302.3, 13635.6379, 2680.9493, 37484.4493, 10115.00885, 10493.9458, 19444.2658, 5926.846, 17496.306, 4915.05985, 7537.1639, 14692.66935, 1712.227, 41949.2441, 13770.0979, 13228.84695, 12485.8009, 1984.4533, 8515.7587, 7046.7222, 3056.3881, 47269.85400000001, 24106.91255, 11165.41765, 8302.53565, 8782.469000000001, 5846.9176, 14313.8463, 2459.7201, 40103.89, 8342.90875, 10141.1362, 11657.7189, 16138.76205, 6781.3542, 6600.20595, 19350.3689, 37133.8982, 20149.3229, 6940.90985, 11356.6609, 26125.674769999998, 13844.7972, 2721.3208, 17626.23951, 15555.18875, 1737.376, 16232.847, 7731.85785, 22395.74424, 9414.92, 1646.4297, 8522.003, 35160.13457, 8627.5411, 3861.20965, 11735.87905, 3268.84665, 1631.6683, 11554.2236, 11253.421, 38344.566, 13462.52, 20420.60465, 8603.8234, 12949.1554, 10065.413, 38415.474, 4234.927, 20781.48892, 8733.22925, 9563.029, 26467.09737, 6664.68595, 2498.4144, 43813.8661, 16115.3045, 8413.46305, 26140.3603, 4433.3877, 9788.8659, 13470.8044, 5615.369000000001, 25382.297000000002, 11840.77505, 14235.072, 36950.2567, 9625.92, 13981.85035, 5003.853, 48675.5177, 6933.24225, 1253.9360000000001, 8457.818000000001, 45702.02235, 26018.95052, 9910.35985, 13143.86485, 8277.523000000001, 5415.6612, 12815.44495, 1242.26, 1163.4627, 5375.0380000000005, 12730.9996, 1252.407, 19040.876, 20878.78443, 3736.4647, 23241.47453, 11743.9341, 7077.1894, 6640.54485, 3201.24515, 10579.711000000001, 36837.467000000004, 11576.13, 3353.4703, 9549.5651, 41999.52, 5327.40025, 8334.5896, 4243.59005, 7421.19455, 7954.517, 11566.30055, 27346.04207, 13224.693000000001, 19023.26, 4906.40965, 43254.41795, 10269.46, 6610.1097, 20296.86345, 12925.886, 5974.3847, 8944.1151, 4449.462, 10825.2537, 34166.273, 60021.39897, 2850.68375, 2196.4732, 10928.848999999998, 10118.424, 21677.28345, 12323.936000000002, 22331.5668, 1704.70015, 2523.1695, 5325.651, 4350.5144, 35069.37452, 3070.8087, 4433.9159, 3981.9768, 6059.173000000001, 16085.1275, 12094.478000000001, 6457.8434, 11073.176000000001, 41034.2214, 2201.0971, 39611.7577, 1759.338, 4661.28635, 2217.46915, 32108.662819999998, 4151.0287, 15161.5344, 3989.841, 9850.431999999999, 3847.6740000000004, 6748.5912, 25309.488999999998, 2803.69785, 4357.04365, 6272.4772, 11741.726, 8606.2174, 58571.074479999996, 20745.9891, 6082.405, 1261.442, 1769.53165, 3537.703, 5116.5004, 9620.3307, 5125.2157, 6406.4107, 2128.43105, 5708.866999999999, 27000.98473, 9541.69555, 25678.77845, 12224.35085, 5373.36425, 10214.636, 10713.643999999998, 3044.2133, 24915.22085, 4564.19145, 10942.13205, 4544.2348, 6123.5688, 11090.7178, 14119.62, 8556.907, 37742.5757, 8601.3293, 18903.49141, 10797.3362, 4058.71245, 43921.1837, 7623.518, 33475.81715, 3279.86855, 20167.336030000002, 3309.7926, 24915.04626, 9875.6804, 14394.5579, 8965.79575, 21098.55405, 17904.52705, 11289.10925, 11884.04858, 9058.7303, 8162.71625, 14451.83515, 40720.55105, 7153.5539, 4441.21315, 3994.1778, 10795.937329999999, 21797.0004, 34303.1672, 10106.13425, 7371.772, 9222.4026, 13063.883, 10197.7722, 20630.28351, 8703.456, 18648.4217, 24227.33724, 4149.736, 10976.24575, 1629.8335, 4040.55825, 11946.6259, 16796.41194, 4561.1885, 24873.3849, 3227.1211, 1728.8970000000002, 10231.4999, 2207.69745, 13012.20865, 15820.698999999999, 2250.8352, 7265.7025, 5385.3379, 7222.78625, 3558.62025, 2473.3341, 12523.6048, 6496.8859999999995, 47896.79135, 3171.6149, 14382.70905, 16450.8947, 13725.47184, 11070.535, 49577.6624, 10355.641, 40932.4295, 11743.298999999999, 13470.86, 21344.8467, 5630.45785, 17179.522, 11345.518999999998, 9487.6442, 28287.897660000002, 6184.2994, 4883.866, 19107.7796, 2203.73595, 41661.602, 6600.361, 4260.744000000001, 18963.171919999997, 1149.3959, 13047.33235, 21472.4788, 6770.1925, 3935.1799, 4894.7533, 8964.06055, 2136.88225, 12475.3513, 4766.022, 5253.524, 2709.24395, 9140.951, 23568.272, 7526.70645, 1141.4451, 2801.2588, 42856.837999999996, 12638.195, 35147.52848, 1635.73365, 36189.1017, 7985.815, 10577.087, 12105.32, 35491.64, 8605.3615, 10461.9794, 6653.7886, 21659.9301, 13429.0354, 10422.91665, 8252.2843, 10072.05505, 41919.097, 4934.705, 30166.618169999998, 19214.705530000003, 6877.9801, 19964.7463, 4762.329000000001, 18608.262, 6311.951999999999, 42112.2356, 13217.0945, 2026.9741, 23065.4207, 11837.16, 48517.56315, 2362.22905, 3704.3545, 12890.05765, 14358.36437, 40904.1995, 10096.97, 19361.9988, 5124.1887, 2775.19215, 48549.17835, 10600.5483, 8527.532, 4466.6214, 2464.6188, 36397.576, 21223.6758, 11305.93455, 10806.839, 8068.185, 3481.868, 1621.8827, 52590.82939, 17081.08, 3206.49135, 3393.35635, 4746.344, 11856.4115, 3556.9223, 11879.10405, 34617.84065, 12142.5786, 12231.6136, 40974.1649, 12269.68865, 12629.1656, 4504.6624, 7144.86265, 6837.3687, 5662.225, 47305.305, 9225.2564, 20773.62775, 4032.2407, 9583.8933, 7147.4728, 8534.6718, 12609.88702, 1705.6245, 3577.9990000000003, 38245.59327, 11299.343, 2897.3235, 24059.68019, 8825.086, 14474.675, 3392.3652, 6185.3208, 14478.33015, 15612.19335, 5428.7277, 18223.4512, 14901.5167, 2045.68525, 11833.7823, 18767.7377, 6753.0380000000005, 7626.993, 4237.12655, 4402.233, 7727.2532, 8116.26885, 44260.7499, 1615.7667, 9863.4718, 12129.61415, 2138.0707, 7633.7206, 6710.1919, 4428.88785, 1969.614, 18838.70366, 13844.506000000001, 2534.39375, 28868.6639, 7740.3369999999995, 2730.10785, 36085.219, 15518.18025, 7418.522, 1625.43375, 4399.731, 13390.559, 36307.7983, 38998.546, 7512.267, 11033.6617, 1627.28245, 3443.0640000000003], \"yaxis\": \"y\"}],\n",
              "                        {\"coloraxis\": {\"colorbar\": {\"title\": {\"text\": \"bmi\"}}, \"colorscale\": [[0.0, \"#0d0887\"], [0.1111111111111111, \"#46039f\"], [0.2222222222222222, \"#7201a8\"], [0.3333333333333333, \"#9c179e\"], [0.4444444444444444, \"#bd3786\"], [0.5555555555555556, \"#d8576b\"], [0.6666666666666666, \"#ed7953\"], [0.7777777777777778, \"#fb9f3a\"], [0.8888888888888888, \"#fdca26\"], [1.0, \"#f0f921\"]]}, \"height\": 350, \"legend\": {\"itemsizing\": \"constant\", \"tracegroupgap\": 0}, \"margin\": {\"t\": 60}, \"template\": {\"data\": {\"bar\": [{\"error_x\": {\"color\": \"#2a3f5f\"}, \"error_y\": {\"color\": \"#2a3f5f\"}, \"marker\": {\"line\": {\"color\": \"#E5ECF6\", \"width\": 0.5}}, \"type\": \"bar\"}], \"barpolar\": [{\"marker\": {\"line\": {\"color\": \"#E5ECF6\", \"width\": 0.5}}, \"type\": \"barpolar\"}], \"carpet\": [{\"aaxis\": {\"endlinecolor\": \"#2a3f5f\", \"gridcolor\": \"white\", \"linecolor\": \"white\", \"minorgridcolor\": \"white\", \"startlinecolor\": \"#2a3f5f\"}, \"baxis\": {\"endlinecolor\": \"#2a3f5f\", \"gridcolor\": \"white\", \"linecolor\": \"white\", \"minorgridcolor\": \"white\", \"startlinecolor\": \"#2a3f5f\"}, \"type\": \"carpet\"}], \"choropleth\": [{\"colorbar\": {\"outlinewidth\": 0, \"ticks\": \"\"}, \"type\": \"choropleth\"}], \"contour\": [{\"colorbar\": {\"outlinewidth\": 0, \"ticks\": \"\"}, \"colorscale\": [[0.0, \"#0d0887\"], [0.1111111111111111, \"#46039f\"], [0.2222222222222222, \"#7201a8\"], [0.3333333333333333, \"#9c179e\"], [0.4444444444444444, \"#bd3786\"], [0.5555555555555556, \"#d8576b\"], [0.6666666666666666, \"#ed7953\"], [0.7777777777777778, \"#fb9f3a\"], [0.8888888888888888, \"#fdca26\"], [1.0, \"#f0f921\"]], \"type\": \"contour\"}], \"contourcarpet\": [{\"colorbar\": {\"outlinewidth\": 0, \"ticks\": \"\"}, \"type\": \"contourcarpet\"}], \"heatmap\": [{\"colorbar\": {\"outlinewidth\": 0, \"ticks\": \"\"}, \"colorscale\": [[0.0, \"#0d0887\"], [0.1111111111111111, \"#46039f\"], [0.2222222222222222, \"#7201a8\"], [0.3333333333333333, \"#9c179e\"], [0.4444444444444444, \"#bd3786\"], [0.5555555555555556, \"#d8576b\"], [0.6666666666666666, \"#ed7953\"], [0.7777777777777778, \"#fb9f3a\"], [0.8888888888888888, \"#fdca26\"], [1.0, \"#f0f921\"]], \"type\": \"heatmap\"}], \"heatmapgl\": [{\"colorbar\": {\"outlinewidth\": 0, \"ticks\": \"\"}, \"colorscale\": [[0.0, \"#0d0887\"], [0.1111111111111111, \"#46039f\"], [0.2222222222222222, \"#7201a8\"], [0.3333333333333333, \"#9c179e\"], [0.4444444444444444, \"#bd3786\"], [0.5555555555555556, \"#d8576b\"], [0.6666666666666666, \"#ed7953\"], [0.7777777777777778, \"#fb9f3a\"], [0.8888888888888888, \"#fdca26\"], [1.0, \"#f0f921\"]], \"type\": \"heatmapgl\"}], \"histogram\": [{\"marker\": {\"colorbar\": {\"outlinewidth\": 0, \"ticks\": \"\"}}, \"type\": \"histogram\"}], \"histogram2d\": [{\"colorbar\": {\"outlinewidth\": 0, \"ticks\": \"\"}, \"colorscale\": [[0.0, \"#0d0887\"], [0.1111111111111111, \"#46039f\"], [0.2222222222222222, \"#7201a8\"], [0.3333333333333333, \"#9c179e\"], [0.4444444444444444, \"#bd3786\"], [0.5555555555555556, \"#d8576b\"], [0.6666666666666666, \"#ed7953\"], [0.7777777777777778, \"#fb9f3a\"], [0.8888888888888888, \"#fdca26\"], [1.0, \"#f0f921\"]], \"type\": \"histogram2d\"}], \"histogram2dcontour\": [{\"colorbar\": {\"outlinewidth\": 0, \"ticks\": \"\"}, \"colorscale\": [[0.0, \"#0d0887\"], [0.1111111111111111, \"#46039f\"], [0.2222222222222222, \"#7201a8\"], [0.3333333333333333, \"#9c179e\"], [0.4444444444444444, \"#bd3786\"], [0.5555555555555556, \"#d8576b\"], [0.6666666666666666, \"#ed7953\"], [0.7777777777777778, \"#fb9f3a\"], [0.8888888888888888, \"#fdca26\"], [1.0, \"#f0f921\"]], \"type\": \"histogram2dcontour\"}], \"mesh3d\": [{\"colorbar\": {\"outlinewidth\": 0, \"ticks\": \"\"}, \"type\": \"mesh3d\"}], \"parcoords\": [{\"line\": {\"colorbar\": {\"outlinewidth\": 0, \"ticks\": \"\"}}, \"type\": \"parcoords\"}], \"pie\": [{\"automargin\": true, \"type\": \"pie\"}], \"scatter\": [{\"marker\": {\"colorbar\": {\"outlinewidth\": 0, \"ticks\": \"\"}}, \"type\": \"scatter\"}], \"scatter3d\": [{\"line\": {\"colorbar\": {\"outlinewidth\": 0, \"ticks\": \"\"}}, \"marker\": {\"colorbar\": {\"outlinewidth\": 0, \"ticks\": \"\"}}, \"type\": \"scatter3d\"}], \"scattercarpet\": [{\"marker\": {\"colorbar\": {\"outlinewidth\": 0, \"ticks\": \"\"}}, \"type\": \"scattercarpet\"}], \"scattergeo\": [{\"marker\": {\"colorbar\": {\"outlinewidth\": 0, \"ticks\": \"\"}}, \"type\": \"scattergeo\"}], \"scattergl\": [{\"marker\": {\"colorbar\": {\"outlinewidth\": 0, \"ticks\": \"\"}}, \"type\": \"scattergl\"}], \"scattermapbox\": [{\"marker\": {\"colorbar\": {\"outlinewidth\": 0, \"ticks\": \"\"}}, \"type\": \"scattermapbox\"}], \"scatterpolar\": [{\"marker\": {\"colorbar\": {\"outlinewidth\": 0, \"ticks\": \"\"}}, \"type\": \"scatterpolar\"}], \"scatterpolargl\": [{\"marker\": {\"colorbar\": {\"outlinewidth\": 0, \"ticks\": \"\"}}, \"type\": \"scatterpolargl\"}], \"scatterternary\": [{\"marker\": {\"colorbar\": {\"outlinewidth\": 0, \"ticks\": \"\"}}, \"type\": \"scatterternary\"}], \"surface\": [{\"colorbar\": {\"outlinewidth\": 0, \"ticks\": \"\"}, \"colorscale\": [[0.0, \"#0d0887\"], [0.1111111111111111, \"#46039f\"], [0.2222222222222222, \"#7201a8\"], [0.3333333333333333, \"#9c179e\"], [0.4444444444444444, \"#bd3786\"], [0.5555555555555556, \"#d8576b\"], [0.6666666666666666, \"#ed7953\"], [0.7777777777777778, \"#fb9f3a\"], [0.8888888888888888, \"#fdca26\"], [1.0, \"#f0f921\"]], \"type\": \"surface\"}], \"table\": [{\"cells\": {\"fill\": {\"color\": \"#EBF0F8\"}, \"line\": {\"color\": \"white\"}}, \"header\": {\"fill\": {\"color\": \"#C8D4E3\"}, \"line\": {\"color\": \"white\"}}, \"type\": \"table\"}]}, \"layout\": {\"annotationdefaults\": {\"arrowcolor\": \"#2a3f5f\", \"arrowhead\": 0, \"arrowwidth\": 1}, \"coloraxis\": {\"colorbar\": {\"outlinewidth\": 0, \"ticks\": \"\"}}, \"colorscale\": {\"diverging\": [[0, \"#8e0152\"], [0.1, \"#c51b7d\"], [0.2, \"#de77ae\"], [0.3, \"#f1b6da\"], [0.4, \"#fde0ef\"], [0.5, \"#f7f7f7\"], [0.6, \"#e6f5d0\"], [0.7, \"#b8e186\"], [0.8, \"#7fbc41\"], [0.9, \"#4d9221\"], [1, \"#276419\"]], \"sequential\": [[0.0, \"#0d0887\"], [0.1111111111111111, \"#46039f\"], [0.2222222222222222, \"#7201a8\"], [0.3333333333333333, \"#9c179e\"], [0.4444444444444444, \"#bd3786\"], [0.5555555555555556, \"#d8576b\"], [0.6666666666666666, \"#ed7953\"], [0.7777777777777778, \"#fb9f3a\"], [0.8888888888888888, \"#fdca26\"], [1.0, \"#f0f921\"]], \"sequentialminus\": [[0.0, \"#0d0887\"], [0.1111111111111111, \"#46039f\"], [0.2222222222222222, \"#7201a8\"], [0.3333333333333333, \"#9c179e\"], [0.4444444444444444, \"#bd3786\"], [0.5555555555555556, \"#d8576b\"], [0.6666666666666666, \"#ed7953\"], [0.7777777777777778, \"#fb9f3a\"], [0.8888888888888888, \"#fdca26\"], [1.0, \"#f0f921\"]]}, \"colorway\": [\"#636efa\", \"#EF553B\", \"#00cc96\", \"#ab63fa\", \"#FFA15A\", \"#19d3f3\", \"#FF6692\", \"#B6E880\", \"#FF97FF\", \"#FECB52\"], \"font\": {\"color\": \"#2a3f5f\"}, \"geo\": {\"bgcolor\": \"white\", \"lakecolor\": \"white\", \"landcolor\": \"#E5ECF6\", \"showlakes\": true, \"showland\": true, \"subunitcolor\": \"white\"}, \"hoverlabel\": {\"align\": \"left\"}, \"hovermode\": \"closest\", \"mapbox\": {\"style\": \"light\"}, \"paper_bgcolor\": \"white\", \"plot_bgcolor\": \"#E5ECF6\", \"polar\": {\"angularaxis\": {\"gridcolor\": \"white\", \"linecolor\": \"white\", \"ticks\": \"\"}, \"bgcolor\": \"#E5ECF6\", \"radialaxis\": {\"gridcolor\": \"white\", \"linecolor\": \"white\", \"ticks\": \"\"}}, \"scene\": {\"xaxis\": {\"backgroundcolor\": \"#E5ECF6\", \"gridcolor\": \"white\", \"gridwidth\": 2, \"linecolor\": \"white\", \"showbackground\": true, \"ticks\": \"\", \"zerolinecolor\": \"white\"}, \"yaxis\": {\"backgroundcolor\": \"#E5ECF6\", \"gridcolor\": \"white\", \"gridwidth\": 2, \"linecolor\": \"white\", \"showbackground\": true, \"ticks\": \"\", \"zerolinecolor\": \"white\"}, \"zaxis\": {\"backgroundcolor\": \"#E5ECF6\", \"gridcolor\": \"white\", \"gridwidth\": 2, \"linecolor\": \"white\", \"showbackground\": true, \"ticks\": \"\", \"zerolinecolor\": \"white\"}}, \"shapedefaults\": {\"line\": {\"color\": \"#2a3f5f\"}}, \"ternary\": {\"aaxis\": {\"gridcolor\": \"white\", \"linecolor\": \"white\", \"ticks\": \"\"}, \"baxis\": {\"gridcolor\": \"white\", \"linecolor\": \"white\", \"ticks\": \"\"}, \"bgcolor\": \"#E5ECF6\", \"caxis\": {\"gridcolor\": \"white\", \"linecolor\": \"white\", \"ticks\": \"\"}}, \"title\": {\"x\": 0.05}, \"xaxis\": {\"automargin\": true, \"gridcolor\": \"white\", \"linecolor\": \"white\", \"ticks\": \"\", \"title\": {\"standoff\": 15}, \"zerolinecolor\": \"white\", \"zerolinewidth\": 2}, \"yaxis\": {\"automargin\": true, \"gridcolor\": \"white\", \"linecolor\": \"white\", \"ticks\": \"\", \"title\": {\"standoff\": 15}, \"zerolinecolor\": \"white\", \"zerolinewidth\": 2}}}, \"width\": 800, \"xaxis\": {\"anchor\": \"y\", \"domain\": [0.0, 1.0], \"title\": {\"text\": \"age\"}}, \"yaxis\": {\"anchor\": \"x\", \"domain\": [0.0, 1.0], \"title\": {\"text\": \"charges\"}}},\n",
              "                        {\"responsive\": true}\n",
              "                    ).then(function(){\n",
              "                            \n",
              "var gd = document.getElementById('2fd16c9d-2a70-4970-933f-9a08a6ffba86');\n",
              "var x = new MutationObserver(function (mutations, observer) {{\n",
              "        var display = window.getComputedStyle(gd).display;\n",
              "        if (!display || display === 'none') {{\n",
              "            console.log([gd, 'removed!']);\n",
              "            Plotly.purge(gd);\n",
              "            observer.disconnect();\n",
              "        }}\n",
              "}});\n",
              "\n",
              "// Listen for the removal of the full notebook cells\n",
              "var notebookContainer = gd.closest('#notebook-container');\n",
              "if (notebookContainer) {{\n",
              "    x.observe(notebookContainer, {childList: true});\n",
              "}}\n",
              "\n",
              "// Listen for the clearing of the current output cell\n",
              "var outputEl = gd.closest('.output');\n",
              "if (outputEl) {{\n",
              "    x.observe(outputEl, {childList: true});\n",
              "}}\n",
              "\n",
              "                        })\n",
              "                };\n",
              "                \n",
              "            </script>\n",
              "        </div>\n",
              "</body>\n",
              "</html>"
            ]
          },
          "metadata": {
            "tags": []
          }
        }
      ]
    },
    {
      "cell_type": "code",
      "metadata": {
        "id": "phgz1pe60hhF",
        "colab_type": "code",
        "outputId": "c8afa385-263f-4268-b95d-dc68d8edb338",
        "colab": {
          "base_uri": "https://localhost:8080/",
          "height": 34
        }
      },
      "source": [
        "import chart_studio.plotly as py\n",
        "py.plot(fig2, filename='age', auto_open=True)"
      ],
      "execution_count": 157,
      "outputs": [
        {
          "output_type": "execute_result",
          "data": {
            "text/plain": [
              "'https://plot.ly/~lkhuynh/7/'"
            ]
          },
          "metadata": {
            "tags": []
          },
          "execution_count": 157
        }
      ]
    },
    {
      "cell_type": "code",
      "metadata": {
        "id": "D9kjYKK80z1Y",
        "colab_type": "code",
        "outputId": "7b5b9c8d-b75b-40f2-da82-01303ba66de8",
        "colab": {
          "base_uri": "https://localhost:8080/",
          "height": 54
        }
      },
      "source": [
        "import chart_studio.tools as tls \n",
        "tls.get_embed('https://plot.ly/~lkhuynh/7/')"
      ],
      "execution_count": 158,
      "outputs": [
        {
          "output_type": "execute_result",
          "data": {
            "text/plain": [
              "'<iframe id=\"igraph\" scrolling=\"no\" style=\"border:none;\" seamless=\"seamless\" src=\"https://plot.ly/~lkhuynh/7.embed\" height=\"525\" width=\"100%\"></iframe>'"
            ]
          },
          "metadata": {
            "tags": []
          },
          "execution_count": 158
        }
      ]
    },
    {
      "cell_type": "code",
      "metadata": {
        "id": "IUMDIGWfpAf8",
        "colab_type": "code",
        "colab": {}
      },
      "source": [
        "fig = px.parallel_categories(train, color='region', color_continuous_scale=px.colors.sequential.Inferno)"
      ],
      "execution_count": 0,
      "outputs": []
    },
    {
      "cell_type": "code",
      "metadata": {
        "id": "i4YELTmWiqRB",
        "colab_type": "code",
        "outputId": "84c50b8c-fe7c-4741-da51-1887f06cfcfd",
        "colab": {
          "base_uri": "https://localhost:8080/",
          "height": 542
        }
      },
      "source": [
        "fig.show()"
      ],
      "execution_count": 160,
      "outputs": [
        {
          "output_type": "display_data",
          "data": {
            "text/html": [
              "<html>\n",
              "<head><meta charset=\"utf-8\" /></head>\n",
              "<body>\n",
              "    <div>\n",
              "            <script src=\"https://cdnjs.cloudflare.com/ajax/libs/mathjax/2.7.5/MathJax.js?config=TeX-AMS-MML_SVG\"></script><script type=\"text/javascript\">if (window.MathJax) {MathJax.Hub.Config({SVG: {font: \"STIX-Web\"}});}</script>\n",
              "                <script type=\"text/javascript\">window.PlotlyConfig = {MathJaxConfig: 'local'};</script>\n",
              "        <script src=\"https://cdn.plot.ly/plotly-latest.min.js\"></script>    \n",
              "            <div id=\"3f38a969-2236-463a-b912-26e769aa8cbf\" class=\"plotly-graph-div\" style=\"height:525px; width:100%;\"></div>\n",
              "            <script type=\"text/javascript\">\n",
              "                \n",
              "                    window.PLOTLYENV=window.PLOTLYENV || {};\n",
              "                    \n",
              "                if (document.getElementById(\"3f38a969-2236-463a-b912-26e769aa8cbf\")) {\n",
              "                    Plotly.newPlot(\n",
              "                        '3f38a969-2236-463a-b912-26e769aa8cbf',\n",
              "                        [{\"dimensions\": [{\"label\": \"sex\", \"values\": [0, 0, 1, 0, 1, 0, 0, 1, 1, 0, 0, 0, 0, 0, 0, 0, 1, 1, 1, 0, 0, 0, 0, 0, 1, 1, 1, 0, 1, 0, 1, 1, 0, 0, 0, 1, 1, 0, 0, 0, 0, 1, 1, 1, 0, 0, 0, 0, 1, 0, 0, 0, 1, 0, 0, 0, 1, 1, 1, 1, 1, 1, 1, 0, 0, 1, 1, 0, 1, 0, 0, 0, 0, 1, 1, 1, 0, 0, 0, 0, 1, 0, 1, 1, 1, 1, 1, 1, 0, 0, 1, 0, 1, 0, 0, 0, 0, 0, 1, 1, 0, 0, 0, 0, 1, 1, 0, 0, 0, 0, 1, 1, 1, 1, 1, 1, 1, 1, 1, 1, 1, 0, 1, 1, 0, 1, 1, 1, 0, 1, 0, 0, 1, 0, 0, 1, 1, 0, 0, 0, 1, 1, 1, 0, 0, 1, 1, 0, 1, 1, 1, 0, 1, 0, 1, 0, 0, 1, 0, 0, 1, 1, 1, 0, 0, 1, 1, 1, 1, 0, 1, 1, 0, 1, 1, 1, 0, 1, 1, 0, 0, 0, 0, 1, 1, 0, 0, 1, 1, 0, 0, 1, 0, 1, 0, 1, 0, 1, 0, 0, 1, 1, 1, 1, 1, 0, 0, 1, 0, 1, 0, 0, 0, 0, 0, 0, 0, 0, 0, 1, 0, 1, 1, 1, 1, 0, 0, 0, 1, 0, 0, 1, 1, 0, 1, 1, 0, 1, 0, 1, 0, 0, 1, 0, 1, 0, 0, 0, 0, 1, 1, 1, 1, 0, 0, 0, 0, 1, 0, 1, 1, 0, 1, 1, 0, 1, 1, 1, 0, 0, 0, 0, 1, 1, 1, 1, 0, 0, 0, 1, 0, 1, 0, 0, 1, 0, 0, 1, 1, 0, 1, 0, 0, 1, 0, 0, 0, 0, 1, 0, 1, 1, 0, 1, 0, 1, 0, 0, 1, 0, 1, 0, 0, 1, 0, 1, 0, 0, 0, 0, 1, 1, 0, 1, 0, 1, 0, 1, 1, 1, 1, 0, 0, 1, 1, 0, 0, 1, 1, 1, 0, 0, 0, 0, 1, 1, 1, 0, 1, 1, 0, 1, 1, 1, 0, 1, 1, 0, 0, 0, 1, 0, 1, 0, 1, 1, 0, 0, 0, 1, 0, 1, 0, 0, 1, 1, 1, 0, 0, 1, 0, 0, 0, 1, 0, 1, 1, 1, 0, 0, 0, 1, 1, 1, 0, 1, 0, 1, 1, 0, 1, 1, 1, 0, 0, 1, 0, 1, 0, 1, 0, 0, 0, 1, 0, 0, 1, 1, 1, 1, 0, 1, 1, 1, 0, 1, 1, 1, 1, 1, 0, 1, 1, 1, 1, 1, 1, 1, 0, 1, 0, 1, 1, 0, 1, 1, 0, 0, 1, 0, 1, 0, 1, 0, 1, 1, 1, 0, 0, 1, 0, 1, 0, 1, 1, 0, 1, 1, 1, 0, 0, 1, 1, 0, 1, 0, 0, 1, 1, 0, 0, 1, 0, 1, 1, 0, 0, 1, 1, 0, 0, 0, 1, 1, 1, 0, 1, 0, 1, 1, 1, 0, 1, 0, 0, 0, 0, 0, 1, 0, 1, 1, 0, 0, 1, 1, 1, 0, 1, 0, 0, 1, 0, 1, 0, 1, 0, 1, 0, 1, 0, 1, 0, 1, 1, 1, 1, 1, 0, 1, 0, 1, 0, 1, 1, 1, 1, 1, 1, 1, 1, 1, 0, 0, 1, 0, 0, 0, 1, 1, 0, 0, 1, 0, 0, 0, 1, 0, 1, 0, 1, 0, 0, 0, 1, 1, 0, 1, 1, 0, 1, 0, 0, 1, 0, 1, 1, 1, 1, 1, 1, 0, 1, 0, 1, 0, 0, 1, 1, 0, 0, 1, 0, 0, 1, 1, 1, 0, 0, 1, 0, 1, 1, 0, 0, 0, 0, 0, 1, 0, 0, 1, 1, 1, 0, 1, 0, 0, 1, 0, 0, 0, 0, 1, 0, 0, 1, 0, 0, 1, 0, 0, 0, 1, 1, 1, 0, 0, 0, 0, 0, 0, 1, 1, 1, 1, 0, 1, 0, 1, 1, 1, 0, 0, 0, 1, 0, 1, 1, 1, 1, 0, 1, 0, 1, 1, 1, 0, 1, 0, 1, 1, 1, 1, 0, 0, 1, 0, 1, 1, 0, 1, 1, 0, 0, 1, 0, 0, 1, 0, 0, 0, 0, 0, 1, 1, 1, 1, 0, 1, 1, 1, 1, 1, 1, 0, 0, 0, 0, 1, 0, 0, 1, 1, 0, 1, 0, 0, 0, 1, 0, 0, 0, 1, 1, 0, 0, 0, 0, 1, 0, 1, 0, 0, 1, 1, 1, 0, 1, 0, 1, 1, 0, 1, 0, 1, 0, 0, 0, 0, 0, 1, 0, 1, 0, 0, 1, 0, 1, 0, 0, 1, 1, 0, 1, 1, 0, 1, 1, 0, 0, 1, 1, 1, 0, 0, 1, 1, 1, 0, 1, 1, 0, 1, 1, 1, 1, 1, 1, 0, 1, 1]}, {\"label\": \"children\", \"values\": [0, 3, 4, 0, 1, 0, 1, 1, 0, 3, 0, 0, 0, 2, 1, 0, 0, 5, 0, 0, 2, 2, 3, 4, 0, 0, 0, 1, 0, 2, 4, 1, 0, 2, 2, 2, 0, 0, 0, 0, 2, 1, 2, 1, 0, 0, 3, 3, 2, 1, 1, 0, 2, 0, 1, 0, 0, 2, 0, 1, 0, 1, 1, 3, 1, 2, 1, 0, 3, 0, 3, 2, 5, 2, 0, 1, 3, 0, 0, 5, 1, 5, 2, 2, 1, 0, 1, 0, 0, 0, 3, 2, 0, 2, 0, 1, 2, 0, 2, 0, 1, 0, 2, 0, 2, 2, 0, 2, 3, 0, 2, 0, 0, 0, 1, 0, 0, 0, 3, 0, 5, 2, 0, 0, 0, 1, 0, 0, 3, 3, 2, 1, 0, 2, 2, 2, 1, 0, 0, 0, 0, 3, 1, 2, 1, 0, 1, 0, 1, 1, 2, 2, 3, 0, 1, 3, 4, 0, 2, 1, 0, 0, 1, 0, 3, 1, 0, 0, 1, 4, 2, 1, 0, 1, 1, 1, 2, 0, 1, 2, 0, 0, 0, 1, 2, 0, 0, 2, 0, 0, 1, 0, 1, 0, 2, 0, 0, 2, 0, 2, 1, 0, 1, 0, 2, 0, 1, 0, 0, 0, 0, 1, 3, 2, 0, 2, 1, 0, 0, 0, 0, 0, 0, 0, 0, 2, 0, 1, 2, 0, 1, 1, 1, 1, 1, 1, 3, 3, 3, 0, 0, 2, 1, 0, 1, 1, 0, 3, 3, 1, 0, 0, 0, 3, 2, 1, 1, 1, 0, 0, 3, 1, 0, 1, 1, 0, 1, 0, 0, 1, 0, 1, 0, 0, 2, 0, 3, 3, 1, 1, 0, 1, 0, 0, 0, 0, 0, 1, 0, 0, 0, 3, 0, 0, 0, 0, 0, 0, 1, 0, 4, 3, 0, 0, 0, 1, 3, 0, 0, 2, 0, 0, 0, 1, 0, 2, 0, 1, 3, 1, 3, 0, 1, 1, 2, 0, 0, 2, 0, 1, 3, 1, 0, 0, 1, 1, 0, 0, 2, 2, 1, 0, 2, 1, 0, 0, 2, 0, 0, 2, 1, 1, 3, 1, 3, 1, 0, 3, 1, 1, 0, 3, 0, 0, 0, 2, 3, 2, 2, 3, 0, 5, 3, 0, 0, 3, 0, 0, 3, 0, 2, 1, 2, 2, 3, 0, 2, 0, 2, 0, 0, 2, 1, 3, 0, 0, 1, 1, 0, 0, 0, 1, 0, 0, 0, 0, 1, 3, 0, 0, 0, 2, 3, 0, 3, 1, 1, 3, 0, 0, 0, 1, 3, 2, 0, 0, 2, 4, 1, 2, 3, 0, 2, 3, 2, 1, 0, 2, 0, 2, 1, 2, 5, 0, 5, 3, 0, 2, 0, 0, 0, 1, 1, 2, 0, 0, 2, 2, 1, 0, 0, 0, 0, 0, 0, 2, 0, 0, 1, 0, 0, 2, 0, 1, 2, 0, 1, 0, 1, 0, 1, 1, 2, 1, 1, 0, 3, 0, 0, 1, 5, 2, 0, 3, 1, 1, 2, 1, 3, 3, 1, 0, 3, 0, 0, 1, 2, 1, 0, 1, 0, 0, 3, 1, 0, 0, 2, 2, 4, 3, 3, 2, 0, 1, 1, 0, 0, 3, 0, 2, 1, 3, 0, 0, 2, 3, 3, 2, 0, 1, 3, 3, 1, 3, 2, 0, 0, 2, 1, 3, 1, 2, 0, 4, 1, 0, 0, 0, 1, 0, 0, 0, 3, 2, 1, 0, 1, 0, 2, 1, 0, 0, 1, 1, 2, 0, 1, 0, 2, 0, 1, 2, 0, 0, 5, 2, 0, 3, 2, 1, 4, 0, 3, 1, 1, 0, 0, 0, 2, 1, 2, 5, 0, 0, 0, 1, 0, 0, 1, 0, 0, 1, 1, 1, 4, 3, 1, 0, 0, 0, 0, 0, 0, 2, 1, 0, 0, 0, 0, 1, 1, 0, 3, 1, 1, 0, 2, 0, 3, 0, 0, 0, 1, 1, 0, 0, 1, 3, 0, 1, 0, 1, 2, 3, 1, 0, 3, 4, 1, 0, 1, 1, 0, 3, 1, 3, 1, 0, 1, 0, 0, 2, 2, 0, 0, 0, 3, 3, 0, 3, 0, 3, 1, 5, 3, 0, 0, 3, 0, 1, 2, 1, 0, 2, 0, 1, 2, 2, 2, 0, 0, 0, 0, 1, 1, 0, 0, 1, 1, 5, 3, 2, 1, 3, 3, 2, 3, 0, 2, 0, 1, 2, 1, 3, 0, 0, 0, 0, 2, 1, 0, 0, 1, 0, 0, 0, 0, 2, 2, 4, 2, 0, 0, 2, 2, 1, 1, 1, 1, 0, 1, 0, 1, 1, 4, 0, 2, 2, 1, 1, 0, 5, 3, 3, 3, 0, 0, 0, 2, 3, 1, 1, 0, 1, 2, 2, 0, 0, 0, 0, 1, 2, 2, 0, 3, 0, 0, 1, 2, 1, 2, 0, 3, 0, 0, 0, 0, 2, 4, 4, 0, 3]}, {\"label\": \"smoker\", \"values\": [0, 1, 0, 0, 0, 0, 0, 0, 1, 0, 1, 0, 0, 1, 0, 0, 0, 0, 1, 0, 0, 0, 0, 0, 1, 0, 1, 0, 0, 1, 1, 0, 0, 0, 0, 0, 0, 1, 0, 0, 0, 0, 0, 1, 0, 1, 0, 0, 1, 0, 0, 0, 0, 0, 0, 0, 0, 1, 0, 1, 0, 0, 0, 0, 0, 0, 0, 0, 1, 0, 0, 0, 0, 1, 0, 0, 0, 1, 0, 0, 0, 0, 0, 0, 1, 0, 0, 1, 0, 0, 0, 0, 0, 1, 0, 0, 0, 1, 0, 0, 0, 0, 0, 0, 1, 0, 0, 1, 1, 0, 0, 1, 1, 0, 1, 0, 0, 0, 0, 0, 0, 0, 0, 0, 0, 0, 0, 0, 0, 0, 1, 0, 0, 0, 0, 0, 0, 0, 0, 0, 1, 0, 0, 1, 0, 0, 0, 0, 0, 0, 0, 0, 1, 0, 0, 0, 0, 0, 0, 1, 0, 1, 0, 0, 0, 0, 0, 1, 0, 0, 0, 0, 0, 0, 0, 0, 0, 0, 1, 0, 0, 0, 1, 0, 0, 0, 1, 0, 0, 1, 0, 0, 0, 0, 0, 0, 0, 0, 0, 0, 1, 0, 0, 0, 0, 1, 0, 0, 0, 0, 0, 0, 0, 0, 0, 0, 0, 0, 0, 0, 0, 0, 0, 0, 0, 0, 1, 0, 1, 0, 0, 1, 0, 0, 0, 0, 0, 1, 0, 0, 1, 1, 1, 0, 0, 0, 0, 1, 0, 0, 0, 0, 0, 0, 0, 1, 0, 0, 0, 0, 0, 0, 0, 0, 1, 0, 0, 0, 0, 0, 1, 1, 0, 0, 1, 1, 0, 1, 0, 1, 0, 0, 0, 0, 0, 0, 1, 0, 0, 1, 0, 0, 0, 0, 0, 0, 0, 0, 0, 0, 0, 0, 1, 0, 0, 0, 1, 1, 1, 0, 0, 0, 0, 0, 0, 0, 0, 0, 0, 0, 1, 0, 1, 1, 0, 0, 0, 0, 0, 0, 0, 0, 0, 0, 0, 0, 0, 0, 0, 0, 1, 1, 0, 0, 1, 0, 1, 0, 1, 0, 0, 0, 0, 1, 0, 0, 0, 0, 1, 0, 0, 1, 0, 0, 0, 1, 0, 0, 1, 0, 1, 0, 0, 0, 0, 1, 0, 0, 0, 0, 0, 0, 0, 1, 1, 0, 0, 0, 0, 0, 0, 1, 0, 0, 0, 1, 0, 0, 1, 1, 1, 0, 0, 1, 0, 0, 0, 0, 0, 1, 0, 0, 0, 0, 0, 0, 0, 0, 0, 0, 0, 0, 0, 1, 0, 0, 0, 0, 0, 1, 0, 0, 0, 0, 0, 0, 0, 1, 1, 0, 0, 0, 0, 0, 0, 1, 0, 0, 1, 0, 0, 0, 1, 0, 0, 0, 1, 0, 0, 0, 0, 0, 0, 0, 0, 0, 0, 0, 1, 0, 0, 0, 0, 0, 0, 0, 0, 1, 0, 0, 0, 1, 0, 0, 0, 0, 0, 0, 0, 0, 1, 0, 1, 0, 0, 1, 0, 0, 0, 0, 0, 1, 1, 0, 0, 0, 0, 1, 0, 1, 0, 0, 0, 0, 1, 0, 0, 0, 0, 0, 0, 0, 0, 1, 0, 1, 0, 0, 0, 0, 0, 0, 0, 0, 0, 0, 1, 0, 0, 0, 0, 0, 1, 1, 0, 0, 0, 0, 0, 0, 0, 0, 0, 0, 0, 0, 1, 0, 0, 0, 0, 0, 1, 0, 0, 0, 0, 0, 0, 0, 1, 0, 0, 0, 0, 1, 0, 1, 0, 1, 0, 0, 0, 0, 0, 1, 1, 0, 0, 0, 0, 0, 1, 0, 0, 0, 0, 0, 1, 0, 0, 0, 0, 0, 0, 0, 1, 0, 0, 0, 0, 0, 0, 0, 0, 1, 0, 0, 0, 0, 0, 1, 0, 0, 0, 0, 0, 0, 0, 0, 1, 0, 0, 1, 0, 0, 1, 0, 1, 0, 0, 0, 0, 1, 0, 0, 0, 0, 0, 1, 0, 1, 0, 0, 0, 0, 0, 1, 0, 0, 0, 0, 0, 0, 0, 0, 0, 0, 1, 0, 0, 0, 1, 0, 1, 0, 1, 0, 0, 0, 1, 0, 0, 0, 1, 0, 0, 0, 0, 1, 0, 0, 0, 0, 1, 0, 1, 0, 1, 0, 0, 1, 0, 1, 0, 0, 0, 0, 1, 0, 1, 0, 0, 1, 0, 0, 0, 0, 1, 1, 0, 0, 0, 0, 0, 1, 1, 0, 0, 0, 0, 0, 0, 1, 0, 0, 1, 0, 0, 0, 0, 0, 0, 1, 0, 1, 0, 0, 0, 0, 0, 0, 0, 1, 0, 0, 0, 0, 0, 0, 0, 0, 0, 0, 1, 0, 0, 0, 1, 0, 0, 0, 0, 0, 0, 1, 0, 0, 0, 0, 0, 0, 0, 0, 0, 1, 0, 1, 0, 0, 1, 1, 0, 0, 0, 0, 1, 1, 0, 0, 0, 0]}, {\"label\": \"region\", \"values\": [0, 3, 0, 1, 1, 3, 0, 3, 0, 2, 3, 3, 2, 3, 2, 0, 2, 0, 2, 1, 0, 3, 1, 3, 1, 1, 3, 1, 2, 2, 2, 2, 3, 3, 2, 2, 1, 1, 2, 3, 2, 0, 1, 0, 0, 2, 3, 0, 0, 3, 2, 3, 2, 0, 2, 1, 3, 0, 3, 2, 1, 1, 2, 3, 1, 2, 2, 3, 0, 0, 0, 3, 2, 1, 1, 2, 1, 3, 2, 1, 0, 2, 1, 1, 0, 2, 1, 1, 3, 0, 0, 2, 0, 1, 1, 0, 0, 3, 2, 2, 2, 3, 1, 2, 0, 1, 3, 0, 1, 1, 1, 0, 1, 2, 0, 0, 2, 1, 3, 1, 2, 3, 2, 1, 3, 0, 2, 2, 3, 0, 0, 2, 0, 1, 3, 3, 2, 2, 2, 1, 1, 0, 1, 3, 0, 2, 1, 0, 2, 3, 3, 3, 2, 1, 0, 0, 0, 0, 3, 2, 1, 2, 3, 2, 3, 0, 3, 0, 1, 0, 2, 3, 3, 0, 1, 1, 3, 2, 1, 0, 0, 2, 1, 2, 2, 0, 1, 3, 3, 1, 2, 1, 2, 2, 1, 2, 2, 1, 0, 2, 3, 0, 3, 2, 1, 3, 1, 1, 2, 0, 1, 1, 2, 0, 0, 1, 0, 2, 3, 2, 0, 3, 2, 1, 0, 1, 3, 0, 1, 1, 0, 2, 3, 1, 2, 2, 2, 2, 1, 1, 1, 0, 0, 0, 1, 2, 2, 1, 1, 0, 1, 3, 1, 0, 2, 3, 1, 1, 2, 2, 2, 0, 1, 1, 0, 1, 3, 3, 2, 3, 2, 0, 0, 2, 2, 0, 3, 1, 2, 3, 2, 2, 2, 1, 3, 1, 3, 1, 1, 3, 3, 2, 2, 2, 2, 1, 2, 0, 1, 2, 3, 3, 3, 3, 2, 2, 1, 3, 2, 3, 1, 0, 2, 1, 1, 0, 3, 3, 0, 0, 0, 1, 0, 2, 1, 0, 1, 1, 1, 1, 2, 0, 0, 3, 3, 2, 3, 0, 0, 1, 2, 2, 2, 0, 0, 2, 3, 1, 0, 2, 2, 2, 1, 1, 1, 2, 2, 0, 0, 0, 0, 0, 2, 0, 3, 1, 3, 3, 1, 2, 2, 0, 3, 3, 0, 1, 3, 0, 1, 0, 1, 1, 1, 1, 0, 0, 0, 2, 1, 1, 0, 2, 0, 0, 0, 0, 1, 0, 1, 1, 0, 3, 3, 1, 3, 0, 1, 3, 2, 2, 3, 0, 2, 3, 2, 2, 0, 0, 3, 0, 1, 1, 2, 2, 2, 2, 0, 1, 2, 2, 2, 1, 3, 2, 3, 3, 1, 1, 0, 3, 2, 3, 1, 1, 2, 2, 3, 2, 1, 2, 0, 2, 1, 3, 2, 2, 3, 3, 3, 0, 2, 1, 0, 2, 1, 2, 0, 2, 2, 0, 3, 0, 3, 0, 0, 3, 1, 2, 2, 3, 1, 1, 3, 0, 3, 3, 2, 0, 1, 2, 2, 3, 0, 3, 0, 0, 1, 1, 1, 1, 3, 2, 3, 3, 0, 1, 2, 3, 0, 0, 0, 3, 2, 1, 0, 0, 3, 1, 2, 1, 2, 3, 2, 0, 1, 1, 2, 0, 0, 0, 1, 1, 2, 2, 2, 0, 2, 3, 3, 1, 2, 0, 0, 3, 2, 2, 3, 3, 3, 3, 3, 0, 3, 2, 1, 0, 3, 3, 3, 2, 2, 0, 3, 0, 3, 0, 3, 1, 3, 2, 1, 1, 0, 0, 3, 3, 2, 0, 0, 2, 0, 0, 0, 0, 3, 3, 0, 3, 1, 1, 3, 0, 3, 3, 0, 1, 2, 2, 1, 0, 2, 0, 2, 0, 2, 2, 0, 1, 2, 3, 1, 0, 1, 0, 0, 0, 1, 2, 3, 0, 3, 2, 0, 3, 3, 3, 0, 1, 3, 2, 0, 1, 3, 3, 0, 2, 1, 3, 1, 1, 2, 0, 3, 1, 2, 1, 1, 1, 2, 1, 0, 2, 2, 2, 1, 1, 0, 3, 1, 1, 3, 0, 3, 3, 2, 2, 3, 1, 2, 3, 1, 1, 2, 2, 0, 3, 0, 0, 2, 2, 2, 1, 3, 1, 0, 3, 0, 0, 0, 0, 2, 3, 1, 0, 0, 2, 2, 2, 1, 0, 1, 1, 2, 0, 3, 1, 0, 2, 0, 2, 1, 1, 3, 0, 3, 1, 3, 1, 2, 1, 3, 2, 2, 0, 1, 2, 2, 0, 0, 2, 1, 3, 0, 0, 1, 3, 1, 3, 1, 1, 0, 0, 1, 2, 0, 0, 3, 3, 1, 0, 3, 0, 2, 1, 2, 0, 3, 2, 1, 1, 1, 1, 3, 0, 1, 0, 3, 1, 1, 0, 2, 0, 2, 3, 3, 1, 1, 3, 3, 3, 1, 3, 0, 2, 3, 2, 3, 3, 2, 3, 2, 0, 2, 3, 1, 2, 1, 2, 2, 3, 3, 2]}], \"domain\": {\"x\": [0.0, 1.0], \"y\": [0.0, 1.0]}, \"line\": {\"color\": [0, 3, 0, 1, 1, 3, 0, 3, 0, 2, 3, 3, 2, 3, 2, 0, 2, 0, 2, 1, 0, 3, 1, 3, 1, 1, 3, 1, 2, 2, 2, 2, 3, 3, 2, 2, 1, 1, 2, 3, 2, 0, 1, 0, 0, 2, 3, 0, 0, 3, 2, 3, 2, 0, 2, 1, 3, 0, 3, 2, 1, 1, 2, 3, 1, 2, 2, 3, 0, 0, 0, 3, 2, 1, 1, 2, 1, 3, 2, 1, 0, 2, 1, 1, 0, 2, 1, 1, 3, 0, 0, 2, 0, 1, 1, 0, 0, 3, 2, 2, 2, 3, 1, 2, 0, 1, 3, 0, 1, 1, 1, 0, 1, 2, 0, 0, 2, 1, 3, 1, 2, 3, 2, 1, 3, 0, 2, 2, 3, 0, 0, 2, 0, 1, 3, 3, 2, 2, 2, 1, 1, 0, 1, 3, 0, 2, 1, 0, 2, 3, 3, 3, 2, 1, 0, 0, 0, 0, 3, 2, 1, 2, 3, 2, 3, 0, 3, 0, 1, 0, 2, 3, 3, 0, 1, 1, 3, 2, 1, 0, 0, 2, 1, 2, 2, 0, 1, 3, 3, 1, 2, 1, 2, 2, 1, 2, 2, 1, 0, 2, 3, 0, 3, 2, 1, 3, 1, 1, 2, 0, 1, 1, 2, 0, 0, 1, 0, 2, 3, 2, 0, 3, 2, 1, 0, 1, 3, 0, 1, 1, 0, 2, 3, 1, 2, 2, 2, 2, 1, 1, 1, 0, 0, 0, 1, 2, 2, 1, 1, 0, 1, 3, 1, 0, 2, 3, 1, 1, 2, 2, 2, 0, 1, 1, 0, 1, 3, 3, 2, 3, 2, 0, 0, 2, 2, 0, 3, 1, 2, 3, 2, 2, 2, 1, 3, 1, 3, 1, 1, 3, 3, 2, 2, 2, 2, 1, 2, 0, 1, 2, 3, 3, 3, 3, 2, 2, 1, 3, 2, 3, 1, 0, 2, 1, 1, 0, 3, 3, 0, 0, 0, 1, 0, 2, 1, 0, 1, 1, 1, 1, 2, 0, 0, 3, 3, 2, 3, 0, 0, 1, 2, 2, 2, 0, 0, 2, 3, 1, 0, 2, 2, 2, 1, 1, 1, 2, 2, 0, 0, 0, 0, 0, 2, 0, 3, 1, 3, 3, 1, 2, 2, 0, 3, 3, 0, 1, 3, 0, 1, 0, 1, 1, 1, 1, 0, 0, 0, 2, 1, 1, 0, 2, 0, 0, 0, 0, 1, 0, 1, 1, 0, 3, 3, 1, 3, 0, 1, 3, 2, 2, 3, 0, 2, 3, 2, 2, 0, 0, 3, 0, 1, 1, 2, 2, 2, 2, 0, 1, 2, 2, 2, 1, 3, 2, 3, 3, 1, 1, 0, 3, 2, 3, 1, 1, 2, 2, 3, 2, 1, 2, 0, 2, 1, 3, 2, 2, 3, 3, 3, 0, 2, 1, 0, 2, 1, 2, 0, 2, 2, 0, 3, 0, 3, 0, 0, 3, 1, 2, 2, 3, 1, 1, 3, 0, 3, 3, 2, 0, 1, 2, 2, 3, 0, 3, 0, 0, 1, 1, 1, 1, 3, 2, 3, 3, 0, 1, 2, 3, 0, 0, 0, 3, 2, 1, 0, 0, 3, 1, 2, 1, 2, 3, 2, 0, 1, 1, 2, 0, 0, 0, 1, 1, 2, 2, 2, 0, 2, 3, 3, 1, 2, 0, 0, 3, 2, 2, 3, 3, 3, 3, 3, 0, 3, 2, 1, 0, 3, 3, 3, 2, 2, 0, 3, 0, 3, 0, 3, 1, 3, 2, 1, 1, 0, 0, 3, 3, 2, 0, 0, 2, 0, 0, 0, 0, 3, 3, 0, 3, 1, 1, 3, 0, 3, 3, 0, 1, 2, 2, 1, 0, 2, 0, 2, 0, 2, 2, 0, 1, 2, 3, 1, 0, 1, 0, 0, 0, 1, 2, 3, 0, 3, 2, 0, 3, 3, 3, 0, 1, 3, 2, 0, 1, 3, 3, 0, 2, 1, 3, 1, 1, 2, 0, 3, 1, 2, 1, 1, 1, 2, 1, 0, 2, 2, 2, 1, 1, 0, 3, 1, 1, 3, 0, 3, 3, 2, 2, 3, 1, 2, 3, 1, 1, 2, 2, 0, 3, 0, 0, 2, 2, 2, 1, 3, 1, 0, 3, 0, 0, 0, 0, 2, 3, 1, 0, 0, 2, 2, 2, 1, 0, 1, 1, 2, 0, 3, 1, 0, 2, 0, 2, 1, 1, 3, 0, 3, 1, 3, 1, 2, 1, 3, 2, 2, 0, 1, 2, 2, 0, 0, 2, 1, 3, 0, 0, 1, 3, 1, 3, 1, 1, 0, 0, 1, 2, 0, 0, 3, 3, 1, 0, 3, 0, 2, 1, 2, 0, 3, 2, 1, 1, 1, 1, 3, 0, 1, 0, 3, 1, 1, 0, 2, 0, 2, 3, 3, 1, 1, 3, 3, 3, 1, 3, 0, 2, 3, 2, 3, 3, 2, 3, 2, 0, 2, 3, 1, 2, 1, 2, 2, 3, 3, 2], \"coloraxis\": \"coloraxis\"}, \"name\": \"\", \"type\": \"parcats\"}],\n",
              "                        {\"coloraxis\": {\"colorbar\": {\"title\": {\"text\": \"region\"}}, \"colorscale\": [[0.0, \"#000004\"], [0.1111111111111111, \"#1b0c41\"], [0.2222222222222222, \"#4a0c6b\"], [0.3333333333333333, \"#781c6d\"], [0.4444444444444444, \"#a52c60\"], [0.5555555555555556, \"#cf4446\"], [0.6666666666666666, \"#ed6925\"], [0.7777777777777778, \"#fb9b06\"], [0.8888888888888888, \"#f7d13d\"], [1.0, \"#fcffa4\"]]}, \"legend\": {\"tracegroupgap\": 0}, \"margin\": {\"t\": 60}, \"template\": {\"data\": {\"bar\": [{\"error_x\": {\"color\": \"#2a3f5f\"}, \"error_y\": {\"color\": \"#2a3f5f\"}, \"marker\": {\"line\": {\"color\": \"#E5ECF6\", \"width\": 0.5}}, \"type\": \"bar\"}], \"barpolar\": [{\"marker\": {\"line\": {\"color\": \"#E5ECF6\", \"width\": 0.5}}, \"type\": \"barpolar\"}], \"carpet\": [{\"aaxis\": {\"endlinecolor\": \"#2a3f5f\", \"gridcolor\": \"white\", \"linecolor\": \"white\", \"minorgridcolor\": \"white\", \"startlinecolor\": \"#2a3f5f\"}, \"baxis\": {\"endlinecolor\": \"#2a3f5f\", \"gridcolor\": \"white\", \"linecolor\": \"white\", \"minorgridcolor\": \"white\", \"startlinecolor\": \"#2a3f5f\"}, \"type\": \"carpet\"}], \"choropleth\": [{\"colorbar\": {\"outlinewidth\": 0, \"ticks\": \"\"}, \"type\": \"choropleth\"}], \"contour\": [{\"colorbar\": {\"outlinewidth\": 0, \"ticks\": \"\"}, \"colorscale\": [[0.0, \"#0d0887\"], [0.1111111111111111, \"#46039f\"], [0.2222222222222222, \"#7201a8\"], [0.3333333333333333, \"#9c179e\"], [0.4444444444444444, \"#bd3786\"], [0.5555555555555556, \"#d8576b\"], [0.6666666666666666, \"#ed7953\"], [0.7777777777777778, \"#fb9f3a\"], [0.8888888888888888, \"#fdca26\"], [1.0, \"#f0f921\"]], \"type\": \"contour\"}], \"contourcarpet\": [{\"colorbar\": {\"outlinewidth\": 0, \"ticks\": \"\"}, \"type\": \"contourcarpet\"}], \"heatmap\": [{\"colorbar\": {\"outlinewidth\": 0, \"ticks\": \"\"}, \"colorscale\": [[0.0, \"#0d0887\"], [0.1111111111111111, \"#46039f\"], [0.2222222222222222, \"#7201a8\"], [0.3333333333333333, \"#9c179e\"], [0.4444444444444444, \"#bd3786\"], [0.5555555555555556, \"#d8576b\"], [0.6666666666666666, \"#ed7953\"], [0.7777777777777778, \"#fb9f3a\"], [0.8888888888888888, \"#fdca26\"], [1.0, \"#f0f921\"]], \"type\": \"heatmap\"}], \"heatmapgl\": [{\"colorbar\": {\"outlinewidth\": 0, \"ticks\": \"\"}, \"colorscale\": [[0.0, \"#0d0887\"], [0.1111111111111111, \"#46039f\"], [0.2222222222222222, \"#7201a8\"], [0.3333333333333333, \"#9c179e\"], [0.4444444444444444, \"#bd3786\"], [0.5555555555555556, \"#d8576b\"], [0.6666666666666666, \"#ed7953\"], [0.7777777777777778, \"#fb9f3a\"], [0.8888888888888888, \"#fdca26\"], [1.0, \"#f0f921\"]], \"type\": \"heatmapgl\"}], \"histogram\": [{\"marker\": {\"colorbar\": {\"outlinewidth\": 0, \"ticks\": \"\"}}, \"type\": \"histogram\"}], \"histogram2d\": [{\"colorbar\": {\"outlinewidth\": 0, \"ticks\": \"\"}, \"colorscale\": [[0.0, \"#0d0887\"], [0.1111111111111111, \"#46039f\"], [0.2222222222222222, \"#7201a8\"], [0.3333333333333333, \"#9c179e\"], [0.4444444444444444, \"#bd3786\"], [0.5555555555555556, \"#d8576b\"], [0.6666666666666666, \"#ed7953\"], [0.7777777777777778, \"#fb9f3a\"], [0.8888888888888888, \"#fdca26\"], [1.0, \"#f0f921\"]], \"type\": \"histogram2d\"}], \"histogram2dcontour\": [{\"colorbar\": {\"outlinewidth\": 0, \"ticks\": \"\"}, \"colorscale\": [[0.0, \"#0d0887\"], [0.1111111111111111, \"#46039f\"], [0.2222222222222222, \"#7201a8\"], [0.3333333333333333, \"#9c179e\"], [0.4444444444444444, \"#bd3786\"], [0.5555555555555556, \"#d8576b\"], [0.6666666666666666, \"#ed7953\"], [0.7777777777777778, \"#fb9f3a\"], [0.8888888888888888, \"#fdca26\"], [1.0, \"#f0f921\"]], \"type\": \"histogram2dcontour\"}], \"mesh3d\": [{\"colorbar\": {\"outlinewidth\": 0, \"ticks\": \"\"}, \"type\": \"mesh3d\"}], \"parcoords\": [{\"line\": {\"colorbar\": {\"outlinewidth\": 0, \"ticks\": \"\"}}, \"type\": \"parcoords\"}], \"pie\": [{\"automargin\": true, \"type\": \"pie\"}], \"scatter\": [{\"marker\": {\"colorbar\": {\"outlinewidth\": 0, \"ticks\": \"\"}}, \"type\": \"scatter\"}], \"scatter3d\": [{\"line\": {\"colorbar\": {\"outlinewidth\": 0, \"ticks\": \"\"}}, \"marker\": {\"colorbar\": {\"outlinewidth\": 0, \"ticks\": \"\"}}, \"type\": \"scatter3d\"}], \"scattercarpet\": [{\"marker\": {\"colorbar\": {\"outlinewidth\": 0, \"ticks\": \"\"}}, \"type\": \"scattercarpet\"}], \"scattergeo\": [{\"marker\": {\"colorbar\": {\"outlinewidth\": 0, \"ticks\": \"\"}}, \"type\": \"scattergeo\"}], \"scattergl\": [{\"marker\": {\"colorbar\": {\"outlinewidth\": 0, \"ticks\": \"\"}}, \"type\": \"scattergl\"}], \"scattermapbox\": [{\"marker\": {\"colorbar\": {\"outlinewidth\": 0, \"ticks\": \"\"}}, \"type\": \"scattermapbox\"}], \"scatterpolar\": [{\"marker\": {\"colorbar\": {\"outlinewidth\": 0, \"ticks\": \"\"}}, \"type\": \"scatterpolar\"}], \"scatterpolargl\": [{\"marker\": {\"colorbar\": {\"outlinewidth\": 0, \"ticks\": \"\"}}, \"type\": \"scatterpolargl\"}], \"scatterternary\": [{\"marker\": {\"colorbar\": {\"outlinewidth\": 0, \"ticks\": \"\"}}, \"type\": \"scatterternary\"}], \"surface\": [{\"colorbar\": {\"outlinewidth\": 0, \"ticks\": \"\"}, \"colorscale\": [[0.0, \"#0d0887\"], [0.1111111111111111, \"#46039f\"], [0.2222222222222222, \"#7201a8\"], [0.3333333333333333, \"#9c179e\"], [0.4444444444444444, \"#bd3786\"], [0.5555555555555556, \"#d8576b\"], [0.6666666666666666, \"#ed7953\"], [0.7777777777777778, \"#fb9f3a\"], [0.8888888888888888, \"#fdca26\"], [1.0, \"#f0f921\"]], \"type\": \"surface\"}], \"table\": [{\"cells\": {\"fill\": {\"color\": \"#EBF0F8\"}, \"line\": {\"color\": \"white\"}}, \"header\": {\"fill\": {\"color\": \"#C8D4E3\"}, \"line\": {\"color\": \"white\"}}, \"type\": \"table\"}]}, \"layout\": {\"annotationdefaults\": {\"arrowcolor\": \"#2a3f5f\", \"arrowhead\": 0, \"arrowwidth\": 1}, \"coloraxis\": {\"colorbar\": {\"outlinewidth\": 0, \"ticks\": \"\"}}, \"colorscale\": {\"diverging\": [[0, \"#8e0152\"], [0.1, \"#c51b7d\"], [0.2, \"#de77ae\"], [0.3, \"#f1b6da\"], [0.4, \"#fde0ef\"], [0.5, \"#f7f7f7\"], [0.6, \"#e6f5d0\"], [0.7, \"#b8e186\"], [0.8, \"#7fbc41\"], [0.9, \"#4d9221\"], [1, \"#276419\"]], \"sequential\": [[0.0, \"#0d0887\"], [0.1111111111111111, \"#46039f\"], [0.2222222222222222, \"#7201a8\"], [0.3333333333333333, \"#9c179e\"], [0.4444444444444444, \"#bd3786\"], [0.5555555555555556, \"#d8576b\"], [0.6666666666666666, \"#ed7953\"], [0.7777777777777778, \"#fb9f3a\"], [0.8888888888888888, \"#fdca26\"], [1.0, \"#f0f921\"]], \"sequentialminus\": [[0.0, \"#0d0887\"], [0.1111111111111111, \"#46039f\"], [0.2222222222222222, \"#7201a8\"], [0.3333333333333333, \"#9c179e\"], [0.4444444444444444, \"#bd3786\"], [0.5555555555555556, \"#d8576b\"], [0.6666666666666666, \"#ed7953\"], [0.7777777777777778, \"#fb9f3a\"], [0.8888888888888888, \"#fdca26\"], [1.0, \"#f0f921\"]]}, \"colorway\": [\"#636efa\", \"#EF553B\", \"#00cc96\", \"#ab63fa\", \"#FFA15A\", \"#19d3f3\", \"#FF6692\", \"#B6E880\", \"#FF97FF\", \"#FECB52\"], \"font\": {\"color\": \"#2a3f5f\"}, \"geo\": {\"bgcolor\": \"white\", \"lakecolor\": \"white\", \"landcolor\": \"#E5ECF6\", \"showlakes\": true, \"showland\": true, \"subunitcolor\": \"white\"}, \"hoverlabel\": {\"align\": \"left\"}, \"hovermode\": \"closest\", \"mapbox\": {\"style\": \"light\"}, \"paper_bgcolor\": \"white\", \"plot_bgcolor\": \"#E5ECF6\", \"polar\": {\"angularaxis\": {\"gridcolor\": \"white\", \"linecolor\": \"white\", \"ticks\": \"\"}, \"bgcolor\": \"#E5ECF6\", \"radialaxis\": {\"gridcolor\": \"white\", \"linecolor\": \"white\", \"ticks\": \"\"}}, \"scene\": {\"xaxis\": {\"backgroundcolor\": \"#E5ECF6\", \"gridcolor\": \"white\", \"gridwidth\": 2, \"linecolor\": \"white\", \"showbackground\": true, \"ticks\": \"\", \"zerolinecolor\": \"white\"}, \"yaxis\": {\"backgroundcolor\": \"#E5ECF6\", \"gridcolor\": \"white\", \"gridwidth\": 2, \"linecolor\": \"white\", \"showbackground\": true, \"ticks\": \"\", \"zerolinecolor\": \"white\"}, \"zaxis\": {\"backgroundcolor\": \"#E5ECF6\", \"gridcolor\": \"white\", \"gridwidth\": 2, \"linecolor\": \"white\", \"showbackground\": true, \"ticks\": \"\", \"zerolinecolor\": \"white\"}}, \"shapedefaults\": {\"line\": {\"color\": \"#2a3f5f\"}}, \"ternary\": {\"aaxis\": {\"gridcolor\": \"white\", \"linecolor\": \"white\", \"ticks\": \"\"}, \"baxis\": {\"gridcolor\": \"white\", \"linecolor\": \"white\", \"ticks\": \"\"}, \"bgcolor\": \"#E5ECF6\", \"caxis\": {\"gridcolor\": \"white\", \"linecolor\": \"white\", \"ticks\": \"\"}}, \"title\": {\"x\": 0.05}, \"xaxis\": {\"automargin\": true, \"gridcolor\": \"white\", \"linecolor\": \"white\", \"ticks\": \"\", \"title\": {\"standoff\": 15}, \"zerolinecolor\": \"white\", \"zerolinewidth\": 2}, \"yaxis\": {\"automargin\": true, \"gridcolor\": \"white\", \"linecolor\": \"white\", \"ticks\": \"\", \"title\": {\"standoff\": 15}, \"zerolinecolor\": \"white\", \"zerolinewidth\": 2}}}},\n",
              "                        {\"responsive\": true}\n",
              "                    ).then(function(){\n",
              "                            \n",
              "var gd = document.getElementById('3f38a969-2236-463a-b912-26e769aa8cbf');\n",
              "var x = new MutationObserver(function (mutations, observer) {{\n",
              "        var display = window.getComputedStyle(gd).display;\n",
              "        if (!display || display === 'none') {{\n",
              "            console.log([gd, 'removed!']);\n",
              "            Plotly.purge(gd);\n",
              "            observer.disconnect();\n",
              "        }}\n",
              "}});\n",
              "\n",
              "// Listen for the removal of the full notebook cells\n",
              "var notebookContainer = gd.closest('#notebook-container');\n",
              "if (notebookContainer) {{\n",
              "    x.observe(notebookContainer, {childList: true});\n",
              "}}\n",
              "\n",
              "// Listen for the clearing of the current output cell\n",
              "var outputEl = gd.closest('.output');\n",
              "if (outputEl) {{\n",
              "    x.observe(outputEl, {childList: true});\n",
              "}}\n",
              "\n",
              "                        })\n",
              "                };\n",
              "                \n",
              "            </script>\n",
              "        </div>\n",
              "</body>\n",
              "</html>"
            ]
          },
          "metadata": {
            "tags": []
          }
        }
      ]
    },
    {
      "cell_type": "code",
      "metadata": {
        "id": "--pMZ2_Bit5Y",
        "colab_type": "code",
        "colab": {}
      },
      "source": [
        "import matplotlib.pyplot as plt\n",
        "import bubbles\n",
        "from bubbly.bubbly import bubbleplot\n",
        "from plotly.offline import init_notebook_mode, iplot"
      ],
      "execution_count": 0,
      "outputs": []
    },
    {
      "cell_type": "code",
      "metadata": {
        "id": "EvfVccDrAnxD",
        "colab_type": "code",
        "outputId": "e2f92452-087e-47fc-e64e-09723963d8e8",
        "colab": {
          "base_uri": "https://localhost:8080/",
          "height": 627
        }
      },
      "source": [
        "figure = bubbleplot(dataset=train, x_column='bmi', y_column='charges', bubble_column='smoker',\n",
        "                    time_column='age', color_column='sex', y_title='Yearly Premium', x_title='BMI', width=800)\n",
        "iplot(figure, config={'scrollzoom': True});"
      ],
      "execution_count": 162,
      "outputs": [
        {
          "output_type": "stream",
          "text": [
            "/usr/local/lib/python3.6/dist-packages/plotly/offline/offline.py:159: UserWarning:\n",
            "\n",
            "\n",
            "Unrecognized config options supplied: ['scrollzoom']\n",
            "\n"
          ],
          "name": "stderr"
        },
        {
          "output_type": "display_data",
          "data": {
            "text/html": [
              "<html>\n",
              "<head><meta charset=\"utf-8\" /></head>\n",
              "<body>\n",
              "    <div>\n",
              "            <script src=\"https://cdnjs.cloudflare.com/ajax/libs/mathjax/2.7.5/MathJax.js?config=TeX-AMS-MML_SVG\"></script><script type=\"text/javascript\">if (window.MathJax) {MathJax.Hub.Config({SVG: {font: \"STIX-Web\"}});}</script>\n",
              "                <script type=\"text/javascript\">window.PlotlyConfig = {MathJaxConfig: 'local'};</script>\n",
              "        <script src=\"https://cdn.plot.ly/plotly-latest.min.js\"></script>    \n",
              "            <div id=\"49fd8d9a-7f3a-43ba-a67f-6a0dc8d1395c\" class=\"plotly-graph-div\" style=\"height:525px; width:800px;\"></div>\n",
              "            <script type=\"text/javascript\">\n",
              "                \n",
              "                    window.PLOTLYENV=window.PLOTLYENV || {};\n",
              "                    \n",
              "                if (document.getElementById(\"49fd8d9a-7f3a-43ba-a67f-6a0dc8d1395c\")) {\n",
              "                    Plotly.newPlot(\n",
              "                        '49fd8d9a-7f3a-43ba-a67f-6a0dc8d1395c',\n",
              "                        [{\"marker\": {\"color\": [0, 1, 1, 1, 1, 1, 0, 1, 1, 0, 0, 1, 0, 1, 1, 0, 0, 0, 0, 1, 0, 1, 0, 1, 0, 1, 0, 0, 1, 1, 0, 0, 0, 0, 0, 1, 1, 0, 1, 1, 0, 0, 1, 1, 0, 0, 1, 1], \"size\": 10}, \"mode\": \"markers\", \"text\": [\"1\", \"1\", \"1\", \"0\", \"0\", \"1\", \"0\", \"0\", \"0\", \"1\", \"0\", \"0\", \"0\", \"0\", \"0\", \"0\", \"0\", \"0\", \"0\", \"1\", \"0\", \"0\", \"0\", \"0\", \"0\", \"0\", \"0\", \"0\", \"0\", \"1\", \"0\", \"0\", \"0\", \"0\", \"0\", \"0\", \"0\", \"0\", \"0\", \"0\", \"0\", \"0\", \"1\", \"0\", \"1\", \"0\", \"1\", \"1\"], \"type\": \"scatter\", \"x\": [42.24, 27.36, 17.29, 26.18, 25.46, 21.565, 31.35, 30.03, 23.32, 36.85, 28.215, 34.1, 38.28, 33.33, 33.77, 39.16, 33.88, 31.92, 40.28, 31.73, 38.28, 28.5, 38.17, 53.13, 25.08, 23.085, 24.09, 40.185, 21.78, 31.68, 36.85, 31.35, 33.155, 30.115, 30.305, 43.01, 37.29, 32.12, 39.14, 30.4, 31.13, 38.665, 33.535, 23.75, 27.28, 26.73, 25.175, 38.17], \"y\": [38792.6856, 17178.6824, 12829.4551, 2304.0022, 1708.0014, 13747.87235, 1622.1885, 1720.3537, 1711.0268, 36149.4835, 2200.83085, 1137.011, 14133.03775, 1135.9407, 1725.5523, 1633.0444, 11482.63485, 2205.9808, 2217.6012, 33732.6867, 1631.8212, 1712.227, 1631.6683, 1163.4627, 2196.4732, 1704.70015, 2201.0971, 2217.46915, 11884.04858, 34303.1672, 1629.8335, 4561.1885, 2207.69745, 21344.8467, 2203.73595, 1149.3959, 1141.4451, 2801.2588, 12890.05765, 3481.868, 1621.8827, 3393.35635, 34617.84065, 1705.6245, 18223.4512, 1615.7667, 15518.18025, 36307.7983]}],\n",
              "                        {\"hovermode\": \"closest\", \"margin\": {\"b\": 50, \"pad\": 5, \"t\": 50}, \"showlegend\": false, \"sliders\": [{\"active\": 0, \"currentvalue\": {\"font\": {\"size\": 20}, \"prefix\": \"Year:\", \"visible\": true, \"xanchor\": \"right\"}, \"len\": 0.9, \"pad\": {\"b\": 10, \"t\": 50}, \"steps\": [{\"args\": [[24], {\"frame\": {\"duration\": 300, \"redraw\": false}, \"mode\": \"immediate\", \"transition\": {\"duration\": 300}}], \"label\": \"24\", \"method\": \"animate\"}, {\"args\": [[27], {\"frame\": {\"duration\": 300, \"redraw\": false}, \"mode\": \"immediate\", \"transition\": {\"duration\": 300}}], \"label\": \"27\", \"method\": \"animate\"}, {\"args\": [[47], {\"frame\": {\"duration\": 300, \"redraw\": false}, \"mode\": \"immediate\", \"transition\": {\"duration\": 300}}], \"label\": \"47\", \"method\": \"animate\"}, {\"args\": [[45], {\"frame\": {\"duration\": 300, \"redraw\": false}, \"mode\": \"immediate\", \"transition\": {\"duration\": 300}}], \"label\": \"45\", \"method\": \"animate\"}, {\"args\": [[64], {\"frame\": {\"duration\": 300, \"redraw\": false}, \"mode\": \"immediate\", \"transition\": {\"duration\": 300}}], \"label\": \"64\", \"method\": \"animate\"}, {\"args\": [[36], {\"frame\": {\"duration\": 300, \"redraw\": false}, \"mode\": \"immediate\", \"transition\": {\"duration\": 300}}], \"label\": \"36\", \"method\": \"animate\"}, {\"args\": [[28], {\"frame\": {\"duration\": 300, \"redraw\": false}, \"mode\": \"immediate\", \"transition\": {\"duration\": 300}}], \"label\": \"28\", \"method\": \"animate\"}, {\"args\": [[48], {\"frame\": {\"duration\": 300, \"redraw\": false}, \"mode\": \"immediate\", \"transition\": {\"duration\": 300}}], \"label\": \"48\", \"method\": \"animate\"}, {\"args\": [[55], {\"frame\": {\"duration\": 300, \"redraw\": false}, \"mode\": \"immediate\", \"transition\": {\"duration\": 300}}], \"label\": \"55\", \"method\": \"animate\"}, {\"args\": [[59], {\"frame\": {\"duration\": 300, \"redraw\": false}, \"mode\": \"immediate\", \"transition\": {\"duration\": 300}}], \"label\": \"59\", \"method\": \"animate\"}, {\"args\": [[42], {\"frame\": {\"duration\": 300, \"redraw\": false}, \"mode\": \"immediate\", \"transition\": {\"duration\": 300}}], \"label\": \"42\", \"method\": \"animate\"}, {\"args\": [[26], {\"frame\": {\"duration\": 300, \"redraw\": false}, \"mode\": \"immediate\", \"transition\": {\"duration\": 300}}], \"label\": \"26\", \"method\": \"animate\"}, {\"args\": [[31], {\"frame\": {\"duration\": 300, \"redraw\": false}, \"mode\": \"immediate\", \"transition\": {\"duration\": 300}}], \"label\": \"31\", \"method\": \"animate\"}, {\"args\": [[19], {\"frame\": {\"duration\": 300, \"redraw\": false}, \"mode\": \"immediate\", \"transition\": {\"duration\": 300}}], \"label\": \"19\", \"method\": \"animate\"}, {\"args\": [[56], {\"frame\": {\"duration\": 300, \"redraw\": false}, \"mode\": \"immediate\", \"transition\": {\"duration\": 300}}], \"label\": \"56\", \"method\": \"animate\"}, {\"args\": [[57], {\"frame\": {\"duration\": 300, \"redraw\": false}, \"mode\": \"immediate\", \"transition\": {\"duration\": 300}}], \"label\": \"57\", \"method\": \"animate\"}, {\"args\": [[39], {\"frame\": {\"duration\": 300, \"redraw\": false}, \"mode\": \"immediate\", \"transition\": {\"duration\": 300}}], \"label\": \"39\", \"method\": \"animate\"}, {\"args\": [[50], {\"frame\": {\"duration\": 300, \"redraw\": false}, \"mode\": \"immediate\", \"transition\": {\"duration\": 300}}], \"label\": \"50\", \"method\": \"animate\"}, {\"args\": [[61], {\"frame\": {\"duration\": 300, \"redraw\": false}, \"mode\": \"immediate\", \"transition\": {\"duration\": 300}}], \"label\": \"61\", \"method\": \"animate\"}, {\"args\": [[46], {\"frame\": {\"duration\": 300, \"redraw\": false}, \"mode\": \"immediate\", \"transition\": {\"duration\": 300}}], \"label\": \"46\", \"method\": \"animate\"}, {\"args\": [[37], {\"frame\": {\"duration\": 300, \"redraw\": false}, \"mode\": \"immediate\", \"transition\": {\"duration\": 300}}], \"label\": \"37\", \"method\": \"animate\"}, {\"args\": [[53], {\"frame\": {\"duration\": 300, \"redraw\": false}, \"mode\": \"immediate\", \"transition\": {\"duration\": 300}}], \"label\": \"53\", \"method\": \"animate\"}, {\"args\": [[60], {\"frame\": {\"duration\": 300, \"redraw\": false}, \"mode\": \"immediate\", \"transition\": {\"duration\": 300}}], \"label\": \"60\", \"method\": \"animate\"}, {\"args\": [[18], {\"frame\": {\"duration\": 300, \"redraw\": false}, \"mode\": \"immediate\", \"transition\": {\"duration\": 300}}], \"label\": \"18\", \"method\": \"animate\"}, {\"args\": [[41], {\"frame\": {\"duration\": 300, \"redraw\": false}, \"mode\": \"immediate\", \"transition\": {\"duration\": 300}}], \"label\": \"41\", \"method\": \"animate\"}, {\"args\": [[25], {\"frame\": {\"duration\": 300, \"redraw\": false}, \"mode\": \"immediate\", \"transition\": {\"duration\": 300}}], \"label\": \"25\", \"method\": \"animate\"}, {\"args\": [[35], {\"frame\": {\"duration\": 300, \"redraw\": false}, \"mode\": \"immediate\", \"transition\": {\"duration\": 300}}], \"label\": \"35\", \"method\": \"animate\"}, {\"args\": [[51], {\"frame\": {\"duration\": 300, \"redraw\": false}, \"mode\": \"immediate\", \"transition\": {\"duration\": 300}}], \"label\": \"51\", \"method\": \"animate\"}, {\"args\": [[22], {\"frame\": {\"duration\": 300, \"redraw\": false}, \"mode\": \"immediate\", \"transition\": {\"duration\": 300}}], \"label\": \"22\", \"method\": \"animate\"}, {\"args\": [[34], {\"frame\": {\"duration\": 300, \"redraw\": false}, \"mode\": \"immediate\", \"transition\": {\"duration\": 300}}], \"label\": \"34\", \"method\": \"animate\"}, {\"args\": [[29], {\"frame\": {\"duration\": 300, \"redraw\": false}, \"mode\": \"immediate\", \"transition\": {\"duration\": 300}}], \"label\": \"29\", \"method\": \"animate\"}, {\"args\": [[63], {\"frame\": {\"duration\": 300, \"redraw\": false}, \"mode\": \"immediate\", \"transition\": {\"duration\": 300}}], \"label\": \"63\", \"method\": \"animate\"}, {\"args\": [[23], {\"frame\": {\"duration\": 300, \"redraw\": false}, \"mode\": \"immediate\", \"transition\": {\"duration\": 300}}], \"label\": \"23\", \"method\": \"animate\"}, {\"args\": [[33], {\"frame\": {\"duration\": 300, \"redraw\": false}, \"mode\": \"immediate\", \"transition\": {\"duration\": 300}}], \"label\": \"33\", \"method\": \"animate\"}, {\"args\": [[44], {\"frame\": {\"duration\": 300, \"redraw\": false}, \"mode\": \"immediate\", \"transition\": {\"duration\": 300}}], \"label\": \"44\", \"method\": \"animate\"}, {\"args\": [[52], {\"frame\": {\"duration\": 300, \"redraw\": false}, \"mode\": \"immediate\", \"transition\": {\"duration\": 300}}], \"label\": \"52\", \"method\": \"animate\"}, {\"args\": [[20], {\"frame\": {\"duration\": 300, \"redraw\": false}, \"mode\": \"immediate\", \"transition\": {\"duration\": 300}}], \"label\": \"20\", \"method\": \"animate\"}, {\"args\": [[49], {\"frame\": {\"duration\": 300, \"redraw\": false}, \"mode\": \"immediate\", \"transition\": {\"duration\": 300}}], \"label\": \"49\", \"method\": \"animate\"}, {\"args\": [[40], {\"frame\": {\"duration\": 300, \"redraw\": false}, \"mode\": \"immediate\", \"transition\": {\"duration\": 300}}], \"label\": \"40\", \"method\": \"animate\"}, {\"args\": [[58], {\"frame\": {\"duration\": 300, \"redraw\": false}, \"mode\": \"immediate\", \"transition\": {\"duration\": 300}}], \"label\": \"58\", \"method\": \"animate\"}, {\"args\": [[32], {\"frame\": {\"duration\": 300, \"redraw\": false}, \"mode\": \"immediate\", \"transition\": {\"duration\": 300}}], \"label\": \"32\", \"method\": \"animate\"}, {\"args\": [[62], {\"frame\": {\"duration\": 300, \"redraw\": false}, \"mode\": \"immediate\", \"transition\": {\"duration\": 300}}], \"label\": \"62\", \"method\": \"animate\"}, {\"args\": [[54], {\"frame\": {\"duration\": 300, \"redraw\": false}, \"mode\": \"immediate\", \"transition\": {\"duration\": 300}}], \"label\": \"54\", \"method\": \"animate\"}, {\"args\": [[21], {\"frame\": {\"duration\": 300, \"redraw\": false}, \"mode\": \"immediate\", \"transition\": {\"duration\": 300}}], \"label\": \"21\", \"method\": \"animate\"}, {\"args\": [[38], {\"frame\": {\"duration\": 300, \"redraw\": false}, \"mode\": \"immediate\", \"transition\": {\"duration\": 300}}], \"label\": \"38\", \"method\": \"animate\"}, {\"args\": [[43], {\"frame\": {\"duration\": 300, \"redraw\": false}, \"mode\": \"immediate\", \"transition\": {\"duration\": 300}}], \"label\": \"43\", \"method\": \"animate\"}, {\"args\": [[30], {\"frame\": {\"duration\": 300, \"redraw\": false}, \"mode\": \"immediate\", \"transition\": {\"duration\": 300}}], \"label\": \"30\", \"method\": \"animate\"}], \"transition\": {\"duration\": 300, \"easing\": \"cubic-in-out\"}, \"x\": 0.1, \"xanchor\": \"left\", \"y\": 0, \"yanchor\": \"top\"}], \"template\": {\"data\": {\"bar\": [{\"error_x\": {\"color\": \"#2a3f5f\"}, \"error_y\": {\"color\": \"#2a3f5f\"}, \"marker\": {\"line\": {\"color\": \"#E5ECF6\", \"width\": 0.5}}, \"type\": \"bar\"}], \"barpolar\": [{\"marker\": {\"line\": {\"color\": \"#E5ECF6\", \"width\": 0.5}}, \"type\": \"barpolar\"}], \"carpet\": [{\"aaxis\": {\"endlinecolor\": \"#2a3f5f\", \"gridcolor\": \"white\", \"linecolor\": \"white\", \"minorgridcolor\": \"white\", \"startlinecolor\": \"#2a3f5f\"}, \"baxis\": {\"endlinecolor\": \"#2a3f5f\", \"gridcolor\": \"white\", \"linecolor\": \"white\", \"minorgridcolor\": \"white\", \"startlinecolor\": \"#2a3f5f\"}, \"type\": \"carpet\"}], \"choropleth\": [{\"colorbar\": {\"outlinewidth\": 0, \"ticks\": \"\"}, \"type\": \"choropleth\"}], \"contour\": [{\"colorbar\": {\"outlinewidth\": 0, \"ticks\": \"\"}, \"colorscale\": [[0.0, \"#0d0887\"], [0.1111111111111111, \"#46039f\"], [0.2222222222222222, \"#7201a8\"], [0.3333333333333333, \"#9c179e\"], [0.4444444444444444, \"#bd3786\"], [0.5555555555555556, \"#d8576b\"], [0.6666666666666666, \"#ed7953\"], [0.7777777777777778, \"#fb9f3a\"], [0.8888888888888888, \"#fdca26\"], [1.0, \"#f0f921\"]], \"type\": \"contour\"}], \"contourcarpet\": [{\"colorbar\": {\"outlinewidth\": 0, \"ticks\": \"\"}, \"type\": \"contourcarpet\"}], \"heatmap\": [{\"colorbar\": {\"outlinewidth\": 0, \"ticks\": \"\"}, \"colorscale\": [[0.0, \"#0d0887\"], [0.1111111111111111, \"#46039f\"], [0.2222222222222222, \"#7201a8\"], [0.3333333333333333, \"#9c179e\"], [0.4444444444444444, \"#bd3786\"], [0.5555555555555556, \"#d8576b\"], [0.6666666666666666, \"#ed7953\"], [0.7777777777777778, \"#fb9f3a\"], [0.8888888888888888, \"#fdca26\"], [1.0, \"#f0f921\"]], \"type\": \"heatmap\"}], \"heatmapgl\": [{\"colorbar\": {\"outlinewidth\": 0, \"ticks\": \"\"}, \"colorscale\": [[0.0, \"#0d0887\"], [0.1111111111111111, \"#46039f\"], [0.2222222222222222, \"#7201a8\"], [0.3333333333333333, \"#9c179e\"], [0.4444444444444444, \"#bd3786\"], [0.5555555555555556, \"#d8576b\"], [0.6666666666666666, \"#ed7953\"], [0.7777777777777778, \"#fb9f3a\"], [0.8888888888888888, \"#fdca26\"], [1.0, \"#f0f921\"]], \"type\": \"heatmapgl\"}], \"histogram\": [{\"marker\": {\"colorbar\": {\"outlinewidth\": 0, \"ticks\": \"\"}}, \"type\": \"histogram\"}], \"histogram2d\": [{\"colorbar\": {\"outlinewidth\": 0, \"ticks\": \"\"}, \"colorscale\": [[0.0, \"#0d0887\"], [0.1111111111111111, \"#46039f\"], [0.2222222222222222, \"#7201a8\"], [0.3333333333333333, \"#9c179e\"], [0.4444444444444444, \"#bd3786\"], [0.5555555555555556, \"#d8576b\"], [0.6666666666666666, \"#ed7953\"], [0.7777777777777778, \"#fb9f3a\"], [0.8888888888888888, \"#fdca26\"], [1.0, \"#f0f921\"]], \"type\": \"histogram2d\"}], \"histogram2dcontour\": [{\"colorbar\": {\"outlinewidth\": 0, \"ticks\": \"\"}, \"colorscale\": [[0.0, \"#0d0887\"], [0.1111111111111111, \"#46039f\"], [0.2222222222222222, \"#7201a8\"], [0.3333333333333333, \"#9c179e\"], [0.4444444444444444, \"#bd3786\"], [0.5555555555555556, \"#d8576b\"], [0.6666666666666666, \"#ed7953\"], [0.7777777777777778, \"#fb9f3a\"], [0.8888888888888888, \"#fdca26\"], [1.0, \"#f0f921\"]], \"type\": \"histogram2dcontour\"}], \"mesh3d\": [{\"colorbar\": {\"outlinewidth\": 0, \"ticks\": \"\"}, \"type\": \"mesh3d\"}], \"parcoords\": [{\"line\": {\"colorbar\": {\"outlinewidth\": 0, \"ticks\": \"\"}}, \"type\": \"parcoords\"}], \"pie\": [{\"automargin\": true, \"type\": \"pie\"}], \"scatter\": [{\"marker\": {\"colorbar\": {\"outlinewidth\": 0, \"ticks\": \"\"}}, \"type\": \"scatter\"}], \"scatter3d\": [{\"line\": {\"colorbar\": {\"outlinewidth\": 0, \"ticks\": \"\"}}, \"marker\": {\"colorbar\": {\"outlinewidth\": 0, \"ticks\": \"\"}}, \"type\": \"scatter3d\"}], \"scattercarpet\": [{\"marker\": {\"colorbar\": {\"outlinewidth\": 0, \"ticks\": \"\"}}, \"type\": \"scattercarpet\"}], \"scattergeo\": [{\"marker\": {\"colorbar\": {\"outlinewidth\": 0, \"ticks\": \"\"}}, \"type\": \"scattergeo\"}], \"scattergl\": [{\"marker\": {\"colorbar\": {\"outlinewidth\": 0, \"ticks\": \"\"}}, \"type\": \"scattergl\"}], \"scattermapbox\": [{\"marker\": {\"colorbar\": {\"outlinewidth\": 0, \"ticks\": \"\"}}, \"type\": \"scattermapbox\"}], \"scatterpolar\": [{\"marker\": {\"colorbar\": {\"outlinewidth\": 0, \"ticks\": \"\"}}, \"type\": \"scatterpolar\"}], \"scatterpolargl\": [{\"marker\": {\"colorbar\": {\"outlinewidth\": 0, \"ticks\": \"\"}}, \"type\": \"scatterpolargl\"}], \"scatterternary\": [{\"marker\": {\"colorbar\": {\"outlinewidth\": 0, \"ticks\": \"\"}}, \"type\": \"scatterternary\"}], \"surface\": [{\"colorbar\": {\"outlinewidth\": 0, \"ticks\": \"\"}, \"colorscale\": [[0.0, \"#0d0887\"], [0.1111111111111111, \"#46039f\"], [0.2222222222222222, \"#7201a8\"], [0.3333333333333333, \"#9c179e\"], [0.4444444444444444, \"#bd3786\"], [0.5555555555555556, \"#d8576b\"], [0.6666666666666666, \"#ed7953\"], [0.7777777777777778, \"#fb9f3a\"], [0.8888888888888888, \"#fdca26\"], [1.0, \"#f0f921\"]], \"type\": \"surface\"}], \"table\": [{\"cells\": {\"fill\": {\"color\": \"#EBF0F8\"}, \"line\": {\"color\": \"white\"}}, \"header\": {\"fill\": {\"color\": \"#C8D4E3\"}, \"line\": {\"color\": \"white\"}}, \"type\": \"table\"}]}, \"layout\": {\"annotationdefaults\": {\"arrowcolor\": \"#2a3f5f\", \"arrowhead\": 0, \"arrowwidth\": 1}, \"coloraxis\": {\"colorbar\": {\"outlinewidth\": 0, \"ticks\": \"\"}}, \"colorscale\": {\"diverging\": [[0, \"#8e0152\"], [0.1, \"#c51b7d\"], [0.2, \"#de77ae\"], [0.3, \"#f1b6da\"], [0.4, \"#fde0ef\"], [0.5, \"#f7f7f7\"], [0.6, \"#e6f5d0\"], [0.7, \"#b8e186\"], [0.8, \"#7fbc41\"], [0.9, \"#4d9221\"], [1, \"#276419\"]], \"sequential\": [[0.0, \"#0d0887\"], [0.1111111111111111, \"#46039f\"], [0.2222222222222222, \"#7201a8\"], [0.3333333333333333, \"#9c179e\"], [0.4444444444444444, \"#bd3786\"], [0.5555555555555556, \"#d8576b\"], [0.6666666666666666, \"#ed7953\"], [0.7777777777777778, \"#fb9f3a\"], [0.8888888888888888, \"#fdca26\"], [1.0, \"#f0f921\"]], \"sequentialminus\": [[0.0, \"#0d0887\"], [0.1111111111111111, \"#46039f\"], [0.2222222222222222, \"#7201a8\"], [0.3333333333333333, \"#9c179e\"], [0.4444444444444444, \"#bd3786\"], [0.5555555555555556, \"#d8576b\"], [0.6666666666666666, \"#ed7953\"], [0.7777777777777778, \"#fb9f3a\"], [0.8888888888888888, \"#fdca26\"], [1.0, \"#f0f921\"]]}, \"colorway\": [\"#636efa\", \"#EF553B\", \"#00cc96\", \"#ab63fa\", \"#FFA15A\", \"#19d3f3\", \"#FF6692\", \"#B6E880\", \"#FF97FF\", \"#FECB52\"], \"font\": {\"color\": \"#2a3f5f\"}, \"geo\": {\"bgcolor\": \"white\", \"lakecolor\": \"white\", \"landcolor\": \"#E5ECF6\", \"showlakes\": true, \"showland\": true, \"subunitcolor\": \"white\"}, \"hoverlabel\": {\"align\": \"left\"}, \"hovermode\": \"closest\", \"mapbox\": {\"style\": \"light\"}, \"paper_bgcolor\": \"white\", \"plot_bgcolor\": \"#E5ECF6\", \"polar\": {\"angularaxis\": {\"gridcolor\": \"white\", \"linecolor\": \"white\", \"ticks\": \"\"}, \"bgcolor\": \"#E5ECF6\", \"radialaxis\": {\"gridcolor\": \"white\", \"linecolor\": \"white\", \"ticks\": \"\"}}, \"scene\": {\"xaxis\": {\"backgroundcolor\": \"#E5ECF6\", \"gridcolor\": \"white\", \"gridwidth\": 2, \"linecolor\": \"white\", \"showbackground\": true, \"ticks\": \"\", \"zerolinecolor\": \"white\"}, \"yaxis\": {\"backgroundcolor\": \"#E5ECF6\", \"gridcolor\": \"white\", \"gridwidth\": 2, \"linecolor\": \"white\", \"showbackground\": true, \"ticks\": \"\", \"zerolinecolor\": \"white\"}, \"zaxis\": {\"backgroundcolor\": \"#E5ECF6\", \"gridcolor\": \"white\", \"gridwidth\": 2, \"linecolor\": \"white\", \"showbackground\": true, \"ticks\": \"\", \"zerolinecolor\": \"white\"}}, \"shapedefaults\": {\"line\": {\"color\": \"#2a3f5f\"}}, \"ternary\": {\"aaxis\": {\"gridcolor\": \"white\", \"linecolor\": \"white\", \"ticks\": \"\"}, \"baxis\": {\"gridcolor\": \"white\", \"linecolor\": \"white\", \"ticks\": \"\"}, \"bgcolor\": \"#E5ECF6\", \"caxis\": {\"gridcolor\": \"white\", \"linecolor\": \"white\", \"ticks\": \"\"}}, \"title\": {\"x\": 0.05}, \"xaxis\": {\"automargin\": true, \"gridcolor\": \"white\", \"linecolor\": \"white\", \"ticks\": \"\", \"title\": {\"standoff\": 15}, \"zerolinecolor\": \"white\", \"zerolinewidth\": 2}, \"yaxis\": {\"automargin\": true, \"gridcolor\": \"white\", \"linecolor\": \"white\", \"ticks\": \"\", \"title\": {\"standoff\": 15}, \"zerolinecolor\": \"white\", \"zerolinewidth\": 2}}}, \"updatemenus\": [{\"buttons\": [{\"args\": [null, {\"frame\": {\"duration\": 500, \"redraw\": false}, \"fromcurrent\": true, \"transition\": {\"duration\": 300, \"easing\": \"quadratic-in-out\"}}], \"label\": \"Play\", \"method\": \"animate\"}, {\"args\": [[null], {\"frame\": {\"duration\": 0, \"redraw\": false}, \"mode\": \"immediate\", \"transition\": {\"duration\": 0}}], \"label\": \"Pause\", \"method\": \"animate\"}], \"direction\": \"left\", \"pad\": {\"r\": 10, \"t\": 87}, \"showactive\": false, \"type\": \"buttons\", \"x\": 0.1, \"xanchor\": \"right\", \"y\": 0, \"yanchor\": \"top\"}], \"width\": 800, \"xaxis\": {\"autorange\": false, \"range\": [11.7705, 74.382], \"title\": {\"text\": \"BMI\"}}, \"yaxis\": {\"autorange\": false, \"range\": [795.15849, 84029.958558], \"title\": {\"text\": \"Yearly Premium\"}}},\n",
              "                        {\"scrollzoom\": true, \"responsive\": true}\n",
              "                    ).then(function(){\n",
              "                            Plotly.addFrames('49fd8d9a-7f3a-43ba-a67f-6a0dc8d1395c', [{\"data\": [{\"marker\": {\"color\": [0, 0, 1, 1, 1, 1, 0, 0, 0, 1, 0, 1, 0, 1, 0, 1, 1], \"size\": 10}, \"mode\": \"markers\", \"text\": [\"0\", \"0\", \"1\", \"0\", \"0\", \"1\", \"0\", \"0\", \"0\", \"0\", \"0\", \"1\", \"0\", \"1\", \"0\", \"0\", \"0\"], \"x\": [26.6, 24.225, 32.7, 25.8, 32.01, 31.065, 22.6, 30.1, 29.925, 28.5, 25.27, 29.83, 33.99, 28.5, 27.72, 26.79, 23.4], \"y\": [3046.062, 2842.76075, 34472.841, 1972.95, 1981.5819, 34254.05335, 2457.502, 4234.927, 2850.68375, 3537.703, 3044.2133, 18648.4217, 2473.3341, 35147.52848, 2464.6188, 12609.88702, 1969.614], \"type\": \"scatter\"}], \"name\": \"24\"}, {\"data\": [{\"marker\": {\"color\": [0, 1, 1, 0, 0, 1, 0, 1, 0, 0, 1, 0, 1, 1, 0, 1, 0, 0, 1, 0], \"size\": 10}, \"mode\": \"markers\", \"text\": [\"1\", \"1\", \"0\", \"0\", \"1\", \"0\", \"1\", \"0\", \"0\", \"1\", \"0\", \"0\", \"0\", \"1\", \"0\", \"0\", \"0\", \"0\", \"0\", \"0\"], \"x\": [20.045, 28.5, 45.9, 24.1, 31.4, 30.5, 17.955, 32.67, 31.255, 36.08, 33.66, 21.47, 26.03, 42.13, 32.395, 33.155, 30.59, 25.175, 30.3, 34.8], \"y\": [16420.49455, 18310.742, 3693.428, 2974.1259999999997, 34838.873, 2494.022, 15006.57945, 2497.0383, 3956.07145, 37133.8982, 2498.4144, 3353.4703, 3070.8087, 39611.7577, 18903.49141, 4058.71245, 16796.41194, 3558.62025, 4260.744000000001, 3577.9990000000003], \"type\": \"scatter\"}], \"name\": \"27\"}, {\"data\": [{\"marker\": {\"color\": [1, 0, 1, 1, 0, 0, 1, 0, 1, 1, 1, 0, 0, 1, 1, 0], \"size\": 10}, \"mode\": \"markers\", \"text\": [\"0\", \"1\", \"0\", \"0\", \"0\", \"0\", \"0\", \"0\", \"1\", \"0\", \"1\", \"0\", \"1\", \"0\", \"0\", \"0\"], \"x\": [28.215, 27.645, 47.52, 32.3, 23.6, 33.915, 19.19, 33.345, 29.8, 29.83, 28.215, 36.0, 27.83, 36.2, 25.46, 24.32], \"y\": [10407.08585, 24535.69855, 8083.9198, 8062.764, 8539.671, 10115.00885, 8627.5411, 20878.78443, 25309.488999999998, 9620.3307, 24915.22085, 8556.907, 23065.4207, 8068.185, 9225.2564, 8534.6718], \"type\": \"scatter\"}], \"name\": \"47\"}, {\"data\": [{\"marker\": {\"color\": [0, 0, 1, 0, 1, 0, 0, 0, 1, 0, 0, 1, 0, 0, 1, 1, 1, 1, 1, 1, 1, 0], \"size\": 10}, \"mode\": \"markers\", \"text\": [\"0\", \"0\", \"0\", \"0\", \"0\", \"0\", \"0\", \"1\", \"0\", \"0\", \"0\", \"0\", \"0\", \"0\", \"0\", \"0\", \"0\", \"1\", \"1\", \"0\", \"0\", \"0\"], \"x\": [31.79, 27.645, 30.2, 39.995, 33.7, 28.6, 35.3, 30.495, 27.5, 33.1, 30.9, 28.7, 27.83, 35.815, 23.56, 30.495, 24.31, 22.895, 22.895, 21.375, 20.35, 36.3], \"y\": [17929.303369999998, 28340.18885, 7441.053000000001, 9704.66805, 7445.918000000001, 8516.829, 7348.142, 39725.51805, 8615.3, 7345.084, 8520.026, 8027.968000000001, 8515.7587, 7731.85785, 8603.8234, 8413.46305, 9788.8659, 35069.37452, 21098.55405, 7222.78625, 8605.3615, 8527.532], \"type\": \"scatter\"}], \"name\": \"45\"}, {\"data\": [{\"marker\": {\"color\": [1, 1, 0, 0, 0, 0, 0, 0, 1, 1, 1, 0], \"size\": 10}, \"mode\": \"markers\", \"text\": [\"0\", \"1\", \"0\", \"0\", \"1\", \"0\", \"0\", \"0\", \"0\", \"1\", \"0\", \"0\"], \"x\": [39.16, 23.76, 30.115, 39.7, 33.8, 32.965, 35.97, 39.05, 26.41, 36.96, 24.7, 39.33], \"y\": [14418.2804, 26926.5144, 16455.70785, 14319.031, 47928.03, 14692.66935, 14313.8463, 16085.1275, 14394.5579, 49577.6624, 30166.618169999998, 14901.5167], \"type\": \"scatter\"}], \"name\": \"64\"}, {\"data\": [{\"marker\": {\"color\": [0, 0, 1, 0, 0, 0, 1, 1, 1, 1, 0, 0, 1, 1, 1], \"size\": 10}, \"mode\": \"markers\", \"text\": [\"0\", \"0\", \"0\", \"0\", \"0\", \"0\", \"1\", \"0\", \"0\", \"1\", \"0\", \"1\", \"1\", \"0\", \"0\"], \"x\": [25.84, 29.92, 33.82, 25.9, 19.855, 22.135, 33.4, 28.88, 30.875, 34.43, 26.2, 22.6, 28.025, 31.5, 29.7], \"y\": [5266.3656, 5478.0368, 5377.4578, 5472.4490000000005, 5458.04645, 7228.21565, 38415.474, 6748.5912, 5373.36425, 37742.5757, 4883.866, 18608.262, 20773.62775, 4402.233, 4399.731], \"type\": \"scatter\"}], \"name\": \"36\"}, {\"data\": [{\"marker\": {\"color\": [0, 1, 0, 0, 0, 0, 1, 0, 1, 1, 1, 1, 1, 0, 0, 1], \"size\": 10}, \"mode\": \"markers\", \"text\": [\"0\", \"0\", \"0\", \"0\", \"0\", \"0\", \"1\", \"0\", \"0\", \"0\", \"0\", \"0\", \"0\", \"0\", \"0\", \"0\"], \"x\": [24.32, 37.1, 37.62, 28.88, 26.315, 33.4, 36.4, 26.51, 38.06, 35.435, 24.3, 33.0, 23.8, 33.11, 34.77, 22.515], \"y\": [23288.9284, 3277.1609999999996, 3766.8838, 4337.7352, 5312.16985, 3172.018, 51194.55914, 4340.4409, 2689.4954, 3268.84665, 5615.369000000001, 4449.462, 3847.6740000000004, 3171.6149, 3556.9223, 4428.88785], \"type\": \"scatter\"}], \"name\": \"28\"}, {\"data\": [{\"marker\": {\"color\": [1, 0, 0, 1, 1, 1, 0, 0, 0, 1, 1, 1, 0, 1, 1, 1, 0, 0], \"size\": 10}, \"mode\": \"markers\", \"text\": [\"0\", \"0\", \"0\", \"0\", \"0\", \"0\", \"1\", \"0\", \"0\", \"0\", \"0\", \"1\", \"0\", \"0\", \"1\", \"1\", \"1\", \"0\"], \"x\": [36.67, 27.93, 32.3, 29.7, 32.3, 29.6, 25.85, 22.8, 27.36, 30.78, 34.3, 40.565, 28.9, 31.445, 28.0, 24.42, 33.11, 41.23], \"y\": [28468.91901, 11015.1747, 10043.249, 7789.635, 8765.249, 21232.182259999998, 24180.9335, 8269.044, 9447.3824, 10141.1362, 9563.029, 45702.02235, 8277.523000000001, 8964.06055, 23568.272, 21223.6758, 40974.1649, 11033.6617], \"type\": \"scatter\"}], \"name\": \"48\"}, {\"data\": [{\"marker\": {\"color\": [1, 0, 1, 1, 0, 0, 0, 0, 0, 1, 1, 0, 1, 0, 0, 0], \"size\": 10}, \"mode\": \"markers\", \"text\": [\"1\", \"0\", \"0\", \"0\", \"1\", \"0\", \"0\", \"0\", \"0\", \"0\", \"0\", \"0\", \"0\", \"0\", \"0\", \"0\"], \"x\": [30.685, 26.98, 38.28, 37.715, 35.2, 29.7, 30.14, 40.81, 26.8, 33.0, 29.9, 37.1, 37.3, 25.365, 32.395, 33.535], \"y\": [42303.69215, 11082.5772, 10226.2842, 30063.58055, 44423.803, 11881.358, 11881.9696, 12485.8009, 35160.13457, 20781.48892, 10214.636, 10713.643999999998, 20630.28351, 13047.33235, 11879.10405, 12269.68865], \"type\": \"scatter\"}], \"name\": \"55\"}, {\"data\": [{\"marker\": {\"color\": [0, 0, 1, 0, 0, 1, 0, 0, 1, 1, 0, 1, 0, 0, 1, 0, 1], \"size\": 10}, \"mode\": \"markers\", \"text\": [\"0\", \"0\", \"0\", \"0\", \"0\", \"0\", \"0\", \"0\", \"0\", \"0\", \"1\", \"0\", \"1\", \"0\", \"0\", \"0\", \"0\"], \"x\": [32.1, 34.8, 25.46, 31.35, 32.395, 31.79, 27.72, 26.505, 29.7, 24.7, 23.655, 37.4, 36.765, 26.695, 26.4, 36.52, 28.785], \"y\": [14007.222, 36910.60803, 12913.9924, 12622.1795, 14590.63205, 12928.7911, 14001.1338, 12815.44495, 12925.886, 12323.936000000002, 25678.77845, 21797.0004, 47896.79135, 14382.70905, 11743.298999999999, 28287.897660000002, 12129.61415], \"type\": \"scatter\"}], \"name\": \"59\"}, {\"data\": [{\"marker\": {\"color\": [0, 0, 0, 1, 1, 1, 1, 0, 1, 0, 1, 1, 0, 0, 1, 0, 1], \"size\": 10}, \"mode\": \"markers\", \"text\": [\"1\", \"0\", \"0\", \"0\", \"1\", \"1\", \"0\", \"0\", \"0\", \"0\", \"0\", \"0\", \"0\", \"0\", \"0\", \"1\", \"1\"], \"x\": [26.6, 37.9, 29.0, 35.8, 24.605, 24.64, 31.255, 33.155, 24.86, 41.325, 35.97, 26.125, 25.3, 26.18, 26.315, 23.37, 26.07], \"y\": [21348.706000000002, 6474.013000000001, 7050.642, 7160.094, 21259.37795, 19515.5416, 6358.77645, 7639.41745, 5966.8874, 7650.77375, 7160.3303, 7729.64575, 7045.499, 7046.7222, 6940.90985, 19964.7463, 38245.59327], \"type\": \"scatter\"}], \"name\": \"42\"}, {\"data\": [{\"marker\": {\"color\": [0, 0, 0, 1, 0, 0, 1, 1, 0, 0, 1, 0, 1, 0, 1], \"size\": 10}, \"mode\": \"markers\", \"text\": [\"0\", \"1\", \"0\", \"0\", \"0\", \"0\", \"0\", \"0\", \"0\", \"0\", \"0\", \"0\", \"0\", \"0\", \"1\"], \"x\": [19.8, 17.195, 29.64, 23.7, 42.4, 22.61, 20.8, 17.67, 40.185, 29.92, 27.265, 29.355, 29.45, 29.48, 32.9], \"y\": [3378.91, 14455.64405, 24671.66334, 3484.3309999999997, 3410.324, 3176.8159, 2302.3, 2680.9493, 3201.24515, 3981.9768, 4661.28635, 4564.19145, 2897.3235, 3392.3652, 36085.219], \"type\": \"scatter\"}], \"name\": \"26\"}, {\"data\": [{\"marker\": {\"color\": [0, 1, 0, 0, 0, 0, 0, 1, 1, 1, 0, 1, 0, 1, 0, 0, 1, 0], \"size\": 10}, \"mode\": \"markers\", \"text\": [\"0\", \"0\", \"0\", \"0\", \"0\", \"0\", \"0\", \"1\", \"0\", \"0\", \"0\", \"1\", \"0\", \"0\", \"0\", \"1\", \"0\", \"0\"], \"x\": [31.065, 28.5, 23.6, 25.74, 21.755, 26.62, 36.63, 25.9, 39.49, 31.065, 32.68, 29.81, 32.775, 28.595, 29.26, 38.095, 26.885, 25.8], \"y\": [4347.02335, 6799.4580000000005, 4931.647, 3756.6216, 4134.08245, 3757.8448, 4949.7587, 19199.944, 3875.7341, 5425.02335, 4738.2682, 19350.3689, 5327.40025, 4243.59005, 4350.5144, 58571.074479999996, 4441.21315, 4934.705], \"type\": \"scatter\"}], \"name\": \"31\"}, {\"data\": [{\"marker\": {\"color\": [1, 1, 1, 0, 0, 1, 1, 1, 1, 1, 0, 0, 0, 0, 0, 1, 1, 0, 1, 0, 1, 1, 1, 1, 0, 1, 1, 0, 0, 1, 0, 0, 1, 0, 0, 0, 0, 0, 0, 0, 1, 1], \"size\": 10}, \"mode\": \"markers\", \"text\": [\"0\", \"1\", \"0\", \"1\", \"0\", \"1\", \"0\", \"1\", \"0\", \"0\", \"1\", \"1\", \"1\", \"0\", \"1\", \"0\", \"0\", \"0\", \"0\", \"0\", \"0\", \"0\", \"0\", \"0\", \"0\", \"0\", \"0\", \"0\", \"0\", \"1\", \"0\", \"0\", \"0\", \"1\", \"1\", \"0\", \"0\", \"0\", \"1\", \"0\", \"0\", \"0\"], \"x\": [19.8, 30.25, 30.59, 32.49, 32.9, 44.88, 20.7, 34.8, 35.4, 34.4, 28.88, 27.9, 28.31, 17.8, 30.02, 20.9, 25.555, 28.4, 28.4, 24.7, 35.53, 28.7, 20.3, 27.6, 40.5, 20.615, 34.1, 30.495, 18.6, 26.03, 36.575, 24.605, 27.835, 34.7, 28.3, 30.59, 37.43, 27.93, 21.7, 39.615, 20.425, 21.755], \"y\": [1241.565, 32548.3405, 1639.5631, 36898.73308, 1748.774, 39722.7462, 1242.816, 34779.615, 1263.249, 1261.859, 17748.5062, 16884.924, 17468.9839, 1727.785, 33307.5508, 1832.094, 1632.56445, 2331.519, 1842.519, 1737.376, 1646.4297, 1253.9360000000001, 1242.26, 1252.407, 1759.338, 2803.69785, 1261.442, 2128.43105, 1728.8970000000002, 16450.8947, 2136.88225, 2709.24395, 1635.73365, 36397.576, 17081.08, 24059.68019, 2138.0707, 18838.70366, 13844.506000000001, 2730.10785, 1625.43375, 1627.28245], \"type\": \"scatter\"}], \"name\": \"19\"}, {\"data\": [{\"marker\": {\"color\": [0, 1, 0, 0, 1, 1, 1, 1, 0, 1, 1, 0, 0, 1, 1, 0, 1], \"size\": 10}, \"mode\": \"markers\", \"text\": [\"0\", \"0\", \"0\", \"0\", \"1\", \"0\", \"1\", \"0\", \"0\", \"0\", \"1\", \"0\", \"0\", \"1\", \"0\", \"0\", \"0\"], \"x\": [41.91, 32.11, 32.3, 37.51, 26.695, 39.6, 19.95, 25.935, 28.31, 33.66, 31.79, 27.2, 39.82, 33.63, 33.725, 25.3, 22.1], \"y\": [11093.6229, 11763.0009, 13430.265, 12265.5069, 26109.32905, 10601.412, 22412.6485, 11165.41765, 11657.7189, 12949.1554, 43813.8661, 11073.176000000001, 11090.7178, 43921.1837, 10976.24575, 11070.535, 10577.087], \"type\": \"scatter\"}], \"name\": \"56\"}, {\"data\": [{\"marker\": {\"color\": [0, 0, 0, 1, 1, 1, 0, 1, 1, 0, 1, 1, 1, 0], \"size\": 10}, \"mode\": \"markers\", \"text\": [\"0\", \"0\", \"0\", \"0\", \"1\", \"0\", \"0\", \"0\", \"0\", \"0\", \"1\", \"0\", \"0\", \"0\"], \"x\": [34.295, 20.1, 28.785, 18.335, 28.975, 40.37, 28.7, 34.01, 27.94, 30.495, 42.13, 43.7, 40.945, 25.74], \"y\": [13224.05705, 12032.326000000001, 14394.39815, 11534.87265, 27218.43725, 10982.5013, 11455.28, 11356.6609, 11554.2236, 11840.77505, 48675.5177, 11576.13, 11566.30055, 12629.1656], \"type\": \"scatter\"}], \"name\": \"57\"}, {\"data\": [{\"marker\": {\"color\": [0, 1, 0, 1, 1, 1, 1, 1, 1, 0, 1, 0, 0, 0, 0, 1, 0, 1], \"size\": 10}, \"mode\": \"markers\", \"text\": [\"0\", \"0\", \"0\", \"0\", \"1\", \"1\", \"0\", \"1\", \"1\", \"1\", \"0\", \"0\", \"0\", \"1\", \"0\", \"0\", \"0\", \"0\"], \"x\": [26.315, 45.43, 23.87, 34.1, 29.925, 28.3, 21.85, 35.3, 26.41, 18.3, 26.22, 24.225, 22.8, 24.89, 41.8, 24.51, 34.1, 29.6], \"y\": [7201.70085, 6356.2707, 8582.3023, 23563.016180000002, 22462.04375, 21082.16, 6117.4945, 40103.89, 20149.3229, 19023.26, 6123.5688, 8965.79575, 7985.815, 21659.9301, 5662.225, 6710.1919, 7418.522, 7512.267], \"type\": \"scatter\"}], \"name\": \"39\"}, {\"data\": [{\"marker\": {\"color\": [0, 1, 0, 1, 0, 1, 0, 1, 0, 1, 0, 0, 0, 0, 1, 0, 1, 1, 1, 0], \"size\": 10}, \"mode\": \"markers\", \"text\": [\"0\", \"0\", \"1\", \"0\", \"0\", \"0\", \"0\", \"0\", \"0\", \"0\", \"0\", \"0\", \"0\", \"0\", \"0\", \"0\", \"1\", \"1\", \"0\", \"0\"], \"x\": [27.83, 27.455, 27.6, 32.3, 28.16, 37.07, 27.36, 32.205, 26.22, 36.2, 30.115, 46.09, 31.6, 44.745, 44.77, 27.075, 34.2, 32.3, 30.97, 33.7], \"y\": [19749.383380000003, 9617.66245, 24520.264, 9630.396999999999, 10702.6424, 9048.0273, 25656.575259999998, 8835.26495, 10493.9458, 8457.818000000001, 9910.35985, 9549.5651, 10118.424, 9541.69555, 9058.7303, 10106.13425, 42856.837999999996, 41919.097, 10600.5483, 11299.343], \"type\": \"scatter\"}], \"name\": \"50\"}, {\"data\": [{\"marker\": {\"color\": [1, 0, 1, 0, 1, 1, 0, 0, 0, 0, 0, 1, 1, 0, 0, 0, 1], \"size\": 10}, \"mode\": \"markers\", \"text\": [\"0\", \"0\", \"1\", \"0\", \"0\", \"0\", \"0\", \"1\", \"1\", \"0\", \"0\", \"0\", \"0\", \"0\", \"0\", \"1\", \"1\"], \"x\": [31.57, 25.08, 36.3, 22.04, 43.4, 33.535, 28.2, 29.07, 29.92, 35.91, 39.1, 33.915, 32.3, 44.0, 31.16, 36.385, 28.31], \"y\": [12557.6053, 24513.09126, 47403.88, 13616.3586, 12574.048999999999, 13143.33665, 13041.921, 29141.3603, 30942.1918, 13635.6379, 14235.072, 13143.86485, 14119.62, 13063.883, 13429.0354, 48517.56315, 28868.6639], \"type\": \"scatter\"}], \"name\": \"61\"}, {\"data\": [{\"marker\": {\"color\": [0, 0, 0, 1, 0, 1, 1, 0, 1, 1, 0, 1, 1, 1, 0, 1, 0, 1, 1, 0], \"size\": 10}, \"mode\": \"markers\", \"text\": [\"0\", \"0\", \"0\", \"0\", \"0\", \"0\", \"0\", \"0\", \"0\", \"0\", \"0\", \"0\", \"0\", \"0\", \"1\", \"1\", \"1\", \"0\", \"0\", \"0\"], \"x\": [33.44, 28.9, 27.74, 38.17, 19.95, 26.62, 27.6, 27.72, 33.345, 39.425, 30.8, 40.375, 33.44, 43.89, 23.655, 30.495, 34.6, 19.855, 25.8, 30.2], \"y\": [8240.5896, 8823.279, 8026.6666, 8347.1643, 9193.8385, 7742.1098, 24603.04837, 8232.6388, 8334.45755, 8342.90875, 9414.92, 8733.22925, 8334.5896, 8944.1151, 21677.28345, 40720.55105, 41661.602, 7526.70645, 10096.97, 8825.086], \"type\": \"scatter\"}], \"name\": \"46\"}, {\"data\": [{\"marker\": {\"color\": [0, 1, 0, 0, 1, 1, 1, 1, 1, 1, 0, 1, 1, 0, 0], \"size\": 10}, \"mode\": \"markers\", \"text\": [\"1\", \"1\", \"0\", \"0\", \"0\", \"1\", \"0\", \"0\", \"1\", \"0\", \"1\", \"0\", \"0\", \"0\", \"0\"], \"x\": [47.6, 34.1, 23.37, 27.74, 29.64, 34.2, 28.025, 30.8, 37.07, 29.8, 25.555, 29.83, 36.19, 17.29, 29.5], \"y\": [46113.511, 40182.246, 6686.4313, 7281.5056, 5028.1466, 39047.285, 6203.90175, 4646.759, 39871.7043, 20420.60465, 20296.86345, 6406.4107, 19214.705530000003, 6877.9801, 6311.951999999999], \"type\": \"scatter\"}], \"name\": \"37\"}, {\"data\": [{\"marker\": {\"color\": [1, 1, 0, 1, 1, 1, 1, 0, 1, 1, 0, 0, 0, 0, 1, 1, 1, 1], \"size\": 10}, \"mode\": \"markers\", \"text\": [\"0\", \"0\", \"0\", \"0\", \"0\", \"0\", \"0\", \"0\", \"0\", \"1\", \"0\", \"0\", \"1\", \"0\", \"0\", \"0\", \"0\", \"0\"], \"x\": [36.1, 41.47, 26.7, 28.88, 26.41, 28.6, 21.4, 39.6, 31.35, 34.105, 28.1, 24.795, 22.61, 26.6, 29.48, 31.16, 30.495, 24.32], \"y\": [10085.846, 9504.3103, 11150.78, 9869.8102, 11244.3769, 11253.421, 10065.413, 10579.711000000001, 27346.04207, 43254.41795, 11741.726, 10942.13205, 24873.3849, 10355.641, 9487.6442, 10461.9794, 10072.05505, 9863.4718], \"type\": \"scatter\"}], \"name\": \"53\"}, {\"data\": [{\"marker\": {\"color\": [0, 1, 0, 0, 1, 0, 0, 1, 0, 0, 1, 1], \"size\": 10}, \"mode\": \"markers\", \"text\": [\"0\", \"0\", \"1\", \"0\", \"0\", \"0\", \"0\", \"0\", \"0\", \"0\", \"1\", \"0\"], \"x\": [25.84, 36.955, 32.45, 36.005, 29.64, 28.7, 24.035, 24.32, 30.5, 27.55, 32.8, 25.74], \"y\": [28923.136919999997, 12741.16745, 45008.9555, 13228.84695, 12730.9996, 13224.693000000001, 13012.20865, 12523.6048, 12638.195, 13217.0945, 52590.82939, 12142.5786], \"type\": \"scatter\"}], \"name\": \"60\"}, {\"data\": [{\"marker\": {\"color\": [0, 1, 1, 1, 1, 1, 0, 1, 1, 0, 0, 1, 0, 1, 1, 0, 0, 0, 0, 1, 0, 1, 0, 1, 0, 1, 0, 0, 1, 1, 0, 0, 0, 0, 0, 1, 1, 0, 1, 1, 0, 0, 1, 1, 0, 0, 1, 1], \"size\": 10}, \"mode\": \"markers\", \"text\": [\"1\", \"1\", \"1\", \"0\", \"0\", \"1\", \"0\", \"0\", \"0\", \"1\", \"0\", \"0\", \"0\", \"0\", \"0\", \"0\", \"0\", \"0\", \"0\", \"1\", \"0\", \"0\", \"0\", \"0\", \"0\", \"0\", \"0\", \"0\", \"0\", \"1\", \"0\", \"0\", \"0\", \"0\", \"0\", \"0\", \"0\", \"0\", \"0\", \"0\", \"0\", \"0\", \"1\", \"0\", \"1\", \"0\", \"1\", \"1\"], \"x\": [42.24, 27.36, 17.29, 26.18, 25.46, 21.565, 31.35, 30.03, 23.32, 36.85, 28.215, 34.1, 38.28, 33.33, 33.77, 39.16, 33.88, 31.92, 40.28, 31.73, 38.28, 28.5, 38.17, 53.13, 25.08, 23.085, 24.09, 40.185, 21.78, 31.68, 36.85, 31.35, 33.155, 30.115, 30.305, 43.01, 37.29, 32.12, 39.14, 30.4, 31.13, 38.665, 33.535, 23.75, 27.28, 26.73, 25.175, 38.17], \"y\": [38792.6856, 17178.6824, 12829.4551, 2304.0022, 1708.0014, 13747.87235, 1622.1885, 1720.3537, 1711.0268, 36149.4835, 2200.83085, 1137.011, 14133.03775, 1135.9407, 1725.5523, 1633.0444, 11482.63485, 2205.9808, 2217.6012, 33732.6867, 1631.8212, 1712.227, 1631.6683, 1163.4627, 2196.4732, 1704.70015, 2201.0971, 2217.46915, 11884.04858, 34303.1672, 1629.8335, 4561.1885, 2207.69745, 21344.8467, 2203.73595, 1149.3959, 1141.4451, 2801.2588, 12890.05765, 3481.868, 1621.8827, 3393.35635, 34617.84065, 1705.6245, 18223.4512, 1615.7667, 15518.18025, 36307.7983], \"type\": \"scatter\"}], \"name\": \"18\"}, {\"data\": [{\"marker\": {\"color\": [0, 1, 0, 0, 0, 1, 1, 0, 1, 0, 1, 0, 0, 1, 1, 0, 0, 0], \"size\": 10}, \"mode\": \"markers\", \"text\": [\"0\", \"0\", \"0\", \"0\", \"0\", \"0\", \"1\", \"0\", \"0\", \"0\", \"0\", \"0\", \"0\", \"0\", \"0\", \"0\", \"0\", \"0\"], \"x\": [32.965, 23.94, 33.155, 32.2, 31.6, 34.21, 30.78, 36.08, 28.405, 32.6, 21.78, 28.31, 37.1, 29.64, 37.05, 21.755, 28.05, 31.02], \"y\": [6571.02435, 6858.4796, 8538.28845, 6775.960999999999, 6186.1269999999995, 6289.7549, 39597.4072, 6781.3542, 6664.68595, 7954.517, 6272.4772, 7153.5539, 7371.772, 9222.4026, 7265.7025, 13725.47184, 6770.1925, 6185.3208], \"type\": \"scatter\"}], \"name\": \"41\"}, {\"data\": [{\"marker\": {\"color\": [0, 0, 1, 1, 1, 1, 1, 1, 1, 1, 0, 1, 0, 1, 1], \"size\": 10}, \"mode\": \"markers\", \"text\": [\"0\", \"0\", \"1\", \"1\", \"0\", \"0\", \"0\", \"0\", \"0\", \"0\", \"0\", \"1\", \"0\", \"0\", \"0\"], \"x\": [28.595, 26.79, 29.7, 33.33, 26.695, 26.8, 26.22, 24.985, 27.55, 25.84, 33.99, 45.54, 23.465, 33.66, 35.625], \"y\": [3213.62205, 4189.1131, 19933.458, 36124.5737, 4877.98105, 3906.127, 2721.3208, 23241.47453, 2523.1695, 3309.7926, 3227.1211, 42112.2356, 3206.49135, 4504.6624, 2534.39375], \"type\": \"scatter\"}], \"name\": \"25\"}, {\"data\": [{\"marker\": {\"color\": [1, 1, 0, 1, 0, 0, 1, 0, 1, 1, 0, 0, 1, 1, 1], \"size\": 10}, \"mode\": \"markers\", \"text\": [\"1\", \"0\", \"1\", \"1\", \"0\", \"0\", \"0\", \"0\", \"0\", \"0\", \"0\", \"0\", \"0\", \"1\", \"0\"], \"x\": [27.74, 27.61, 28.025, 36.67, 34.8, 27.7, 28.9, 43.34, 17.86, 24.13, 38.095, 35.815, 38.6, 24.42, 27.1], \"y\": [20984.0936, 4747.0529, 20234.85475, 39774.2763, 5246.047, 6414.178000000001, 5926.846, 5846.9176, 5116.5004, 5125.2157, 24915.04626, 5630.45785, 4762.329000000001, 19361.9988, 4746.344], \"type\": \"scatter\"}], \"name\": \"35\"}, {\"data\": [{\"marker\": {\"color\": [0, 1, 0, 1, 1, 1, 1, 0, 0, 1, 1, 1, 1, 0, 1, 0], \"size\": 10}, \"mode\": \"markers\", \"text\": [\"0\", \"1\", \"0\", \"0\", \"0\", \"0\", \"0\", \"0\", \"0\", \"0\", \"0\", \"1\", \"0\", \"1\", \"0\", \"0\"], \"x\": [25.8, 42.9, 36.67, 31.635, 27.74, 39.7, 37.0, 37.73, 20.6, 35.97, 22.42, 24.795, 33.33, 37.05, 25.4, 40.66], \"y\": [9861.025, 47462.894, 10848.1343, 9174.13565, 9957.7216, 9391.346, 8798.593, 9877.6077, 9264.796999999999, 9386.1613, 9361.3268, 23967.38305, 10560.4917, 46255.1125, 8782.469000000001, 9875.6804], \"type\": \"scatter\"}], \"name\": \"51\"}, {\"data\": [{\"marker\": {\"color\": [0, 0, 1, 1, 0, 0, 0, 0, 1, 1, 1, 1, 1], \"size\": 10}, \"mode\": \"markers\", \"text\": [\"0\", \"1\", \"0\", \"1\", \"0\", \"0\", \"0\", \"1\", \"1\", \"1\", \"0\", \"0\", \"0\"], \"x\": [20.235, 31.02, 19.95, 37.62, 34.58, 24.3, 36.0, 30.4, 35.6, 37.07, 28.88, 25.175, 34.8], \"y\": [2527.81865, 35595.5898, 4005.4225, 37165.1638, 3925.7582, 2150.469, 2166.732, 33907.547999999995, 35585.576, 37484.4493, 2250.8352, 2045.68525, 3443.0640000000003], \"type\": \"scatter\"}], \"name\": \"22\"}, {\"data\": [{\"marker\": {\"color\": [1, 0, 0, 0, 1, 0, 0, 0, 1, 1, 1, 1, 1, 0], \"size\": 10}, \"mode\": \"markers\", \"text\": [\"0\", \"0\", \"0\", \"0\", \"0\", \"0\", \"0\", \"0\", \"0\", \"0\", \"1\", \"0\", \"0\", \"0\"], \"x\": [27.0, 38.0, 23.56, 37.335, 21.375, 27.5, 26.41, 29.26, 34.21, 25.27, 30.8, 32.8, 42.13, 19.0], \"y\": [11737.84884, 6196.448, 4992.3764, 5989.52365, 4500.33925, 5003.853, 5385.3379, 6184.2994, 3935.1799, 4894.7533, 35491.64, 14358.36437, 5124.1887, 6753.0380000000005], \"type\": \"scatter\"}], \"name\": \"34\"}, {\"data\": [{\"marker\": {\"color\": [0, 1, 1, 0, 0, 0, 0, 0, 1, 1, 0, 1, 0, 0, 1, 0, 1, 0], \"size\": 10}, \"mode\": \"markers\", \"text\": [\"0\", \"0\", \"0\", \"0\", \"0\", \"0\", \"0\", \"1\", \"0\", \"1\", \"1\", \"0\", \"0\", \"0\", \"0\", \"0\", \"0\", \"1\"], \"x\": [31.16, 38.94, 27.2, 32.11, 25.9, 35.53, 38.83, 21.755, 27.94, 22.895, 21.85, 31.73, 26.03, 20.235, 32.11, 25.6, 28.975, 27.94], \"y\": [3943.5954, 3471.4096, 2866.091, 4922.9159, 3353.284, 3366.6697, 5138.2567, 16657.71745, 2867.1196, 16138.76205, 16115.3045, 4433.3877, 3736.4647, 4906.40965, 4433.9159, 5708.866999999999, 4040.55825, 19107.7796], \"type\": \"scatter\"}], \"name\": \"29\"}, {\"data\": [{\"marker\": {\"color\": [1, 0, 1, 0, 1, 1, 1, 1, 0, 0, 0, 1], \"size\": 10}, \"mode\": \"markers\", \"text\": [\"0\", \"0\", \"0\", \"0\", \"0\", \"0\", \"0\", \"0\", \"0\", \"1\", \"0\", \"0\"], \"x\": [41.47, 25.08, 33.1, 36.85, 28.31, 41.325, 36.765, 33.66, 23.085, 32.2, 35.2, 30.8], \"y\": [13405.3903, 14254.6082, 13393.756000000001, 13887.9685, 13770.0979, 15555.18875, 13981.85035, 15161.5344, 14451.83515, 47305.305, 14474.675, 13390.559], \"type\": \"scatter\"}], \"name\": \"63\"}, {\"data\": [{\"marker\": {\"color\": [1, 0, 1, 1, 1, 1, 0, 1, 0, 0, 0, 1, 0, 1, 0], \"size\": 10}, \"mode\": \"markers\", \"text\": [\"0\", \"1\", \"0\", \"0\", \"0\", \"0\", \"0\", \"0\", \"0\", \"1\", \"0\", \"1\", \"1\", \"0\", \"0\"], \"x\": [35.2, 28.31, 50.38, 32.56, 34.4, 26.51, 34.865, 18.715, 24.225, 31.4, 33.4, 31.73, 42.75, 17.385, 34.96], \"y\": [2416.955, 18033.9679, 2438.0552, 1824.2854, 1826.8429999999998, 1815.8759, 2899.48935, 21595.38229, 22395.74424, 34166.273, 10795.937329999999, 36189.1017, 40904.1995, 2775.19215, 4466.6214], \"type\": \"scatter\"}], \"name\": \"23\"}, {\"data\": [{\"marker\": {\"color\": [0, 1, 0, 0, 1, 0, 0, 0, 0, 0, 1, 1, 1, 0, 1, 1], \"size\": 10}, \"mode\": \"markers\", \"text\": [\"0\", \"0\", \"1\", \"0\", \"0\", \"0\", \"0\", \"1\", \"0\", \"0\", \"1\", \"0\", \"1\", \"0\", \"0\", \"0\"], \"x\": [42.94, 42.4, 19.095, 36.29, 42.46, 24.31, 26.695, 33.5, 22.135, 32.9, 27.1, 29.4, 24.795, 18.5, 33.44, 30.25], \"y\": [6360.9936, 6666.243, 16776.30405, 6551.7501, 11326.71487, 4185.0979, 4571.41305, 37079.372, 5354.07465, 5375.0380000000005, 19040.876, 6059.173000000001, 17904.52705, 4766.022, 6653.7886, 3704.3545], \"type\": \"scatter\"}], \"name\": \"33\"}, {\"data\": [{\"marker\": {\"color\": [1, 0, 1, 0, 0, 1, 0, 0, 1, 0, 1, 0, 1, 0, 1, 0, 1, 1], \"size\": 10}, \"mode\": \"markers\", \"text\": [\"0\", \"0\", \"0\", \"1\", \"0\", \"0\", \"0\", \"1\", \"0\", \"0\", \"0\", \"0\", \"0\", \"0\", \"0\", \"0\", \"0\", \"1\"], \"x\": [27.4, 26.41, 21.85, 43.89, 29.81, 25.365, 36.48, 20.235, 22.135, 27.645, 29.735, 25.0, 34.32, 27.5, 32.015, 32.34, 37.1, 30.2], \"y\": [7726.854, 7419.4779, 8891.1395, 46200.9851, 8219.2039, 7518.02535, 12797.20962, 19594.80965, 8302.53565, 7421.19455, 32108.662819999998, 7623.518, 7147.4728, 7626.993, 8116.26885, 7633.7206, 7740.3369999999995, 38998.546], \"type\": \"scatter\"}], \"name\": \"44\"}, {\"data\": [{\"marker\": {\"color\": [1, 1, 0, 0, 0, 1, 1, 1, 0, 1, 0, 1, 0, 1, 0], \"size\": 10}, \"mode\": \"markers\", \"text\": [\"1\", \"0\", \"0\", \"0\", \"0\", \"0\", \"1\", \"0\", \"0\", \"1\", \"0\", \"0\", \"0\", \"0\", \"0\"], \"x\": [24.32, 32.205, 31.73, 37.4, 44.7, 36.7, 41.8, 36.765, 31.2, 34.485, 30.78, 32.775, 23.18, 34.1, 33.3], \"y\": [24869.8368, 11488.31695, 11187.6567, 9634.538, 11411.685, 9144.565, 47269.85400000001, 26467.09737, 9625.92, 60021.39897, 10797.3362, 11289.10925, 10197.7722, 9140.951, 10806.839], \"type\": \"scatter\"}], \"name\": \"52\"}, {\"data\": [{\"marker\": {\"color\": [0, 0, 1, 0, 1, 1, 1, 1, 0, 0, 0, 1, 1, 1, 1, 0, 1], \"size\": 10}, \"mode\": \"markers\", \"text\": [\"0\", \"0\", \"0\", \"0\", \"1\", \"0\", \"0\", \"0\", \"0\", \"0\", \"1\", \"1\", \"1\", \"0\", \"1\", \"1\", \"0\"], \"x\": [28.785, 37.0, 22.0, 31.92, 28.025, 27.93, 30.115, 40.47, 31.79, 30.59, 24.42, 27.3, 39.4, 29.735, 30.685, 21.8, 32.395], \"y\": [2457.21115, 4830.63, 1964.78, 2261.5688, 17560.37975, 1967.0227, 4915.05985, 1984.4533, 3056.3881, 2459.7201, 26125.674769999998, 16232.847, 38344.566, 1769.53165, 33475.81715, 20167.336030000002, 2362.22905], \"type\": \"scatter\"}], \"name\": \"20\"}, {\"data\": [{\"marker\": {\"color\": [0, 0, 1, 1, 1, 0, 0, 1, 0, 1, 0], \"size\": 10}, \"mode\": \"markers\", \"text\": [\"0\", \"0\", \"0\", \"0\", \"0\", \"1\", \"0\", \"0\", \"0\", \"0\", \"0\"], \"x\": [23.18, 31.9, 25.84, 37.51, 30.3, 23.845, 27.1, 32.3, 27.17, 28.7, 34.77], \"y\": [10156.7832, 11552.903999999999, 9282.4806, 9304.7019, 8116.68, 24106.91255, 26140.3603, 10269.46, 8601.3293, 8703.456, 9583.8933], \"type\": \"scatter\"}], \"name\": \"49\"}, {\"data\": [{\"marker\": {\"color\": [0, 0, 1, 1, 0, 1, 1, 0, 1, 0, 1, 0, 1, 1, 0], \"size\": 10}, \"mode\": \"markers\", \"text\": [\"0\", \"1\", \"0\", \"0\", \"1\", \"0\", \"0\", \"0\", \"0\", \"1\", \"0\", \"0\", \"1\", \"0\", \"0\"], \"x\": [33.0, 32.775, 32.3, 29.355, 22.22, 34.105, 25.08, 25.46, 41.23, 28.12, 30.875, 27.4, 19.8, 29.9, 23.37], \"y\": [7682.67, 40003.33225, 6986.696999999999, 6393.60345, 19444.2658, 6600.20595, 5415.6612, 7077.1894, 6610.1097, 22331.5668, 8162.71625, 6496.8859999999995, 17179.522, 6600.361, 8252.2843], \"type\": \"scatter\"}], \"name\": \"40\"}, {\"data\": [{\"marker\": {\"color\": [0, 1, 1, 0, 1, 1, 1, 1, 1, 0, 0, 1, 1, 0, 0, 0, 0], \"size\": 10}, \"mode\": \"markers\", \"text\": [\"0\", \"0\", \"0\", \"0\", \"0\", \"0\", \"0\", \"0\", \"0\", \"0\", \"0\", \"0\", \"0\", \"0\", \"0\", \"0\", \"0\"], \"x\": [29.0, 35.7, 30.305, 32.965, 36.08, 25.175, 49.06, 28.595, 34.39, 28.215, 41.91, 32.01, 23.3, 25.2, 39.05, 33.44, 22.77], \"y\": [11842.442, 11362.755, 11938.25595, 12430.95335, 11363.2832, 11931.12525, 11381.3254, 11735.87905, 11743.9341, 12224.35085, 24227.33724, 11946.6259, 11345.518999999998, 11837.16, 11856.4115, 12231.6136, 11833.7823], \"type\": \"scatter\"}], \"name\": \"58\"}, {\"data\": [{\"marker\": {\"color\": [1, 0, 0, 0, 1, 0, 0, 0, 0, 0, 0, 1, 1], \"size\": 10}, \"mode\": \"markers\", \"text\": [\"0\", \"0\", \"0\", \"0\", \"0\", \"1\", \"0\", \"0\", \"0\", \"0\", \"0\", \"1\", \"0\"], \"x\": [46.53, 31.54, 33.155, 29.59, 30.03, 24.6, 23.65, 41.1, 29.735, 20.52, 44.22, 28.12, 30.8], \"y\": [4686.3887, 5148.5526, 6128.79745, 4562.8421, 4074.4537, 17496.306, 17626.23951, 3989.841, 4357.04365, 4544.2348, 3994.1778, 21472.4788, 5253.524], \"type\": \"scatter\"}], \"name\": \"32\"}, {\"data\": [{\"marker\": {\"color\": [1, 0, 1, 0, 0, 0, 0, 0, 0, 1, 0, 0], \"size\": 10}, \"mode\": \"markers\", \"text\": [\"0\", \"0\", \"0\", \"0\", \"0\", \"0\", \"0\", \"0\", \"0\", \"0\", \"0\", \"0\"], \"x\": [37.4, 31.73, 27.55, 36.86, 29.92, 25.0, 32.68, 33.2, 39.16, 31.46, 39.2, 32.965], \"y\": [12979.358, 14043.4767, 13937.6665, 31620.001060000002, 13457.9608, 13451.122, 13844.7972, 13462.52, 13470.8044, 27000.98473, 13470.86, 15612.19335], \"type\": \"scatter\"}], \"name\": \"62\"}, {\"data\": [{\"marker\": {\"color\": [0, 1, 1, 1, 1, 0, 0, 1, 1, 0, 0, 1, 1, 0, 1], \"size\": 10}, \"mode\": \"markers\", \"text\": [\"0\", \"0\", \"1\", \"1\", \"0\", \"0\", \"0\", \"0\", \"0\", \"0\", \"0\", \"0\", \"1\", \"0\", \"1\"], \"x\": [32.3, 39.6, 25.1, 30.8, 33.63, 31.9, 23.0, 31.6, 30.21, 21.47, 30.8, 24.035, 40.565, 27.645, 34.21], \"y\": [11512.405, 10450.552, 25382.297000000002, 41999.52, 10825.2537, 10928.848999999998, 12094.478000000001, 9850.431999999999, 10231.4999, 12475.3513, 12105.32, 10422.91665, 48549.17835, 11305.93455, 44260.7499], \"type\": \"scatter\"}], \"name\": \"54\"}, {\"data\": [{\"marker\": {\"color\": [1, 1, 1, 1, 1, 1, 1, 1, 1, 0, 1, 0, 1, 1, 0, 1, 0], \"size\": 10}, \"mode\": \"markers\", \"text\": [\"0\", \"0\", \"0\", \"0\", \"0\", \"0\", \"0\", \"0\", \"0\", \"1\", \"0\", \"0\", \"0\", \"0\", \"0\", \"0\", \"0\"], \"x\": [31.1, 27.36, 31.02, 23.75, 35.53, 26.03, 36.86, 23.21, 31.255, 21.85, 28.975, 34.6, 22.3, 20.235, 32.68, 25.745, 39.49], \"y\": [1526.3120000000001, 2104.1134, 16586.49771, 3077.0955, 1532.4697, 2102.2647, 1917.3184, 1515.3449, 1909.52745, 15359.1045, 1906.35825, 2020.1770000000001, 2103.08, 3861.20965, 26018.95052, 3279.86855, 2026.9741], \"type\": \"scatter\"}], \"name\": \"21\"}, {\"data\": [{\"marker\": {\"color\": [0, 0, 1, 0, 0, 0, 1, 0, 1, 0, 1, 1, 1, 0], \"size\": 10}, \"mode\": \"markers\", \"text\": [\"0\", \"0\", \"0\", \"0\", \"0\", \"0\", \"1\", \"0\", \"0\", \"0\", \"0\", \"0\", \"1\", \"0\"], \"x\": [27.6, 19.95, 19.95, 37.73, 27.265, 30.21, 38.39, 19.475, 16.815, 28.93, 29.26, 34.7, 19.3, 27.835], \"y\": [5383.536, 7133.9025, 5855.9025, 5397.6167, 6555.07035, 7537.1639, 41949.2441, 6933.24225, 6640.54485, 5974.3847, 6457.8434, 6082.405, 15820.698999999999, 7144.86265], \"type\": \"scatter\"}], \"name\": \"38\"}, {\"data\": [{\"marker\": {\"color\": [0, 1, 0, 1, 0, 1, 0, 1, 1, 1, 1, 1, 0], \"size\": 10}, \"mode\": \"markers\", \"text\": [\"1\", \"0\", \"1\", \"0\", \"1\", \"0\", \"0\", \"1\", \"0\", \"0\", \"0\", \"1\", \"0\"], \"x\": [46.2, 35.31, 32.56, 30.1, 25.27, 23.2, 34.4, 34.96, 27.36, 26.03, 25.52, 20.13, 34.58], \"y\": [45863.205, 18806.14547, 40941.2854, 6849.026, 21771.3423, 6250.435, 8522.003, 41034.2214, 8606.2174, 6837.3687, 14478.33015, 18767.7377, 7727.2532], \"type\": \"scatter\"}], \"name\": \"43\"}, {\"data\": [{\"marker\": {\"color\": [1, 0, 1, 1, 0, 0, 1, 0, 0, 1, 1, 1, 1], \"size\": 10}, \"mode\": \"markers\", \"text\": [\"1\", \"0\", \"1\", \"1\", \"0\", \"0\", \"1\", \"0\", \"1\", \"0\", \"0\", \"0\", \"0\"], \"x\": [37.8, 22.895, 35.53, 35.3, 30.9, 33.33, 28.69, 32.4, 39.05, 38.83, 24.13, 37.43, 27.645], \"y\": [39241.442, 4719.52405, 36950.2567, 36837.467000000004, 5325.651, 4151.0287, 20745.9891, 4149.736, 40932.4295, 18963.171919999997, 4032.2407, 5428.7277, 4237.12655], \"type\": \"scatter\"}], \"name\": \"30\"}]);\n",
              "                        }).then(function(){\n",
              "                            Plotly.animate('49fd8d9a-7f3a-43ba-a67f-6a0dc8d1395c', null);\n",
              "                        }).then(function(){\n",
              "                            \n",
              "var gd = document.getElementById('49fd8d9a-7f3a-43ba-a67f-6a0dc8d1395c');\n",
              "var x = new MutationObserver(function (mutations, observer) {{\n",
              "        var display = window.getComputedStyle(gd).display;\n",
              "        if (!display || display === 'none') {{\n",
              "            console.log([gd, 'removed!']);\n",
              "            Plotly.purge(gd);\n",
              "            observer.disconnect();\n",
              "        }}\n",
              "}});\n",
              "\n",
              "// Listen for the removal of the full notebook cells\n",
              "var notebookContainer = gd.closest('#notebook-container');\n",
              "if (notebookContainer) {{\n",
              "    x.observe(notebookContainer, {childList: true});\n",
              "}}\n",
              "\n",
              "// Listen for the clearing of the current output cell\n",
              "var outputEl = gd.closest('.output');\n",
              "if (outputEl) {{\n",
              "    x.observe(outputEl, {childList: true});\n",
              "}}\n",
              "\n",
              "                        })\n",
              "                };\n",
              "                \n",
              "            </script>\n",
              "        </div>\n",
              "</body>\n",
              "</html>"
            ]
          },
          "metadata": {
            "tags": []
          }
        }
      ]
    },
    {
      "cell_type": "code",
      "metadata": {
        "id": "NqI3yW3YnPiV",
        "colab_type": "code",
        "outputId": "05f6dfc8-8260-46a1-9640-e3105ce549bb",
        "colab": {
          "base_uri": "https://localhost:8080/",
          "height": 170
        }
      },
      "source": [
        "!pip install chart_studio\n"
      ],
      "execution_count": 163,
      "outputs": [
        {
          "output_type": "stream",
          "text": [
            "Requirement already satisfied: chart_studio in /usr/local/lib/python3.6/dist-packages (1.0.0)\n",
            "Requirement already satisfied: requests in /usr/local/lib/python3.6/dist-packages (from chart_studio) (2.21.0)\n",
            "Requirement already satisfied: plotly in /usr/local/lib/python3.6/dist-packages (from chart_studio) (4.4.1)\n",
            "Requirement already satisfied: six in /usr/local/lib/python3.6/dist-packages (from chart_studio) (1.12.0)\n",
            "Requirement already satisfied: retrying>=1.3.3 in /usr/local/lib/python3.6/dist-packages (from chart_studio) (1.3.3)\n",
            "Requirement already satisfied: chardet<3.1.0,>=3.0.2 in /usr/local/lib/python3.6/dist-packages (from requests->chart_studio) (3.0.4)\n",
            "Requirement already satisfied: urllib3<1.25,>=1.21.1 in /usr/local/lib/python3.6/dist-packages (from requests->chart_studio) (1.24.3)\n",
            "Requirement already satisfied: certifi>=2017.4.17 in /usr/local/lib/python3.6/dist-packages (from requests->chart_studio) (2019.11.28)\n",
            "Requirement already satisfied: idna<2.9,>=2.5 in /usr/local/lib/python3.6/dist-packages (from requests->chart_studio) (2.8)\n"
          ],
          "name": "stdout"
        }
      ]
    },
    {
      "cell_type": "code",
      "metadata": {
        "id": "Fw0faI76ncOH",
        "colab_type": "code",
        "colab": {}
      },
      "source": [
        "import chart_studio"
      ],
      "execution_count": 0,
      "outputs": []
    },
    {
      "cell_type": "code",
      "metadata": {
        "id": "iWc94T_TrJaJ",
        "colab_type": "code",
        "colab": {}
      },
      "source": [
        "username = 'lkhuynh'\n",
        "api_key = 'KZ8fMzxSJtT0XoMN58ue'\n",
        "\n",
        "chart_studio.tools.set_credentials_file(username=username, api_key=api_key)"
      ],
      "execution_count": 0,
      "outputs": []
    },
    {
      "cell_type": "code",
      "metadata": {
        "id": "Y-a6CuVPrlLz",
        "colab_type": "code",
        "outputId": "17687f1c-5109-4e78-9162-eab91f8634f2",
        "colab": {
          "base_uri": "https://localhost:8080/",
          "height": 34
        }
      },
      "source": [
        "import chart_studio.plotly as py\n",
        "py.plot(figure, filename='bmi', auto_open=True)"
      ],
      "execution_count": 166,
      "outputs": [
        {
          "output_type": "execute_result",
          "data": {
            "text/plain": [
              "'https://plot.ly/~lkhuynh/1/'"
            ]
          },
          "metadata": {
            "tags": []
          },
          "execution_count": 166
        }
      ]
    },
    {
      "cell_type": "code",
      "metadata": {
        "id": "QSrImyHir7yI",
        "colab_type": "code",
        "outputId": "1c802de3-31fd-40c1-8f22-dd156a4bf0e3",
        "colab": {
          "base_uri": "https://localhost:8080/",
          "height": 54
        }
      },
      "source": [
        "import chart_studio.tools as tls \n",
        "tls.get_embed('https://plot.ly/~lkhuynh/1/')"
      ],
      "execution_count": 167,
      "outputs": [
        {
          "output_type": "execute_result",
          "data": {
            "text/plain": [
              "'<iframe id=\"igraph\" scrolling=\"no\" style=\"border:none;\" seamless=\"seamless\" src=\"https://plot.ly/~lkhuynh/1.embed\" height=\"525\" width=\"100%\"></iframe>'"
            ]
          },
          "metadata": {
            "tags": []
          },
          "execution_count": 167
        }
      ]
    }
  ]
}